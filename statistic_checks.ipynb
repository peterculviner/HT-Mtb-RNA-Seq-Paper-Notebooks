{
 "cells": [
  {
   "cell_type": "code",
   "execution_count": 8,
   "id": "2256d396-e00a-47fc-b936-f899c7a60470",
   "metadata": {},
   "outputs": [],
   "source": [
    "import pandas as pd\n",
    "import numpy as np"
   ]
  },
  {
   "cell_type": "code",
   "execution_count": 10,
   "id": "4e294051-af15-4c4e-aef7-3441752aa268",
   "metadata": {},
   "outputs": [
    {
     "data": {
      "text/plain": [
       "np.int64(55879)"
      ]
     },
     "execution_count": 10,
     "metadata": {},
     "output_type": "execute_result"
    }
   ],
   "source": [
    "lineage_calls = pd.read_csv(\n",
    "    '01_variant_calling/biosample_results.postfilter.csv', index_col=0).call\n",
    "np.sum(\n",
    "    np.isin(lineage_calls, ['lineage1', 'lineage2', 'lineage3', 'lineage4']))"
   ]
  },
  {
   "cell_type": "code",
   "execution_count": null,
   "id": "3be4b519-fa22-448a-9d6d-692ab33cdf11",
   "metadata": {},
   "outputs": [],
   "source": []
  }
 ],
 "metadata": {
  "kernelspec": {
   "display_name": "general_py",
   "language": "python",
   "name": "general_py"
  },
  "language_info": {
   "codemirror_mode": {
    "name": "ipython",
    "version": 3
   },
   "file_extension": ".py",
   "mimetype": "text/x-python",
   "name": "python",
   "nbconvert_exporter": "python",
   "pygments_lexer": "ipython3",
   "version": "3.12.8"
  }
 },
 "nbformat": 4,
 "nbformat_minor": 5
}
