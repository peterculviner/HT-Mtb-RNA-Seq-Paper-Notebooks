{
 "cells": [
  {
   "cell_type": "markdown",
   "id": "d7e552e2-a67a-4558-9044-725a34819c76",
   "metadata": {},
   "source": [
    "Get strain count"
   ]
  },
  {
   "cell_type": "code",
   "execution_count": 8,
   "id": "2256d396-e00a-47fc-b936-f899c7a60470",
   "metadata": {},
   "outputs": [],
   "source": [
    "import pandas as pd\n",
    "import numpy as np"
   ]
  },
  {
   "cell_type": "code",
   "execution_count": 10,
   "id": "4e294051-af15-4c4e-aef7-3441752aa268",
   "metadata": {},
   "outputs": [
    {
     "data": {
      "text/plain": [
       "np.int64(55879)"
      ]
     },
     "execution_count": 10,
     "metadata": {},
     "output_type": "execute_result"
    }
   ],
   "source": [
    "lineage_calls = pd.read_csv(\n",
    "    '01_variant_calling/biosample_results.postfilter.csv', index_col=0).call\n",
    "np.sum(\n",
    "    np.isin(lineage_calls, ['lineage1', 'lineage2', 'lineage3', 'lineage4']))"
   ]
  },
  {
   "cell_type": "markdown",
   "id": "9cdfe105-307e-499d-b0b2-a4e6eb3fac90",
   "metadata": {},
   "source": [
    "Check tree integrity\n",
    "- Get set of strains in (DS or DR) subtree -> subtree_leaves\n",
    "- For each node on the subtree:\n",
    "    - Get the set of leaves on the subtree -> mrca_set\n",
    "    - Get the MRCA node of these strains on the full tree.\n",
    "    - Get the set of MRCA node leaves (supertree_set) that also exists in subtree set -> subtree_set\n",
    "    - The MRCA set and subtree set must exactly match."
   ]
  },
  {
   "cell_type": "code",
   "execution_count": 36,
   "id": "5d027fae-9616-4bcf-ad12-67093b23f461",
   "metadata": {},
   "outputs": [],
   "source": [
    "import mtbvartools as vt\n",
    "from tqdm import tqdm\n",
    "import pandas as pd"
   ]
  },
  {
   "cell_type": "code",
   "execution_count": 34,
   "id": "81d98e33-1c87-4ddb-9bea-57707a4fd7b7",
   "metadata": {},
   "outputs": [
    {
     "name": "stderr",
     "output_type": "stream",
     "text": [
      "100%|██████████████████████████████████████████████████████████████████████████████████████████████████████████| 30844/30844 [37:38<00:00, 13.65it/s]\n"
     ]
    }
   ],
   "source": [
    "supertree_path = 'datasets/variants/global/241104_ancestor_calls.vcb/tree.nwk'\n",
    "subtree_path = 'datasets/variants/global/250209_abxsen_ancestor_calls.vcb/tree.nwk'\n",
    "prune_labels = ['canettii', 'SRR10522783']\n",
    "\n",
    "# load trees\n",
    "supertree = vt.loadTree(supertree_path)\n",
    "supertree.prune_taxa_with_labels(prune_labels)\n",
    "\n",
    "subtree = vt.loadTree(subtree_path)\n",
    "subtree.prune_taxa_with_labels(prune_labels)\n",
    "\n",
    "subtree_leaves = {ln.label for ln in subtree.leaf_nodes()}\n",
    "\n",
    "# run comparison algorithm\n",
    "output_dict = {}\n",
    "for i, node in enumerate(tqdm(list(subtree.postorder_internal_node_iter()))):\n",
    "    mrca_set = {ln.label for ln in node.leaf_nodes()}\n",
    "    supertree_set = {ln.label for ln in supertree.mrca(taxon_labels=mrca_set).leaf_nodes()}\n",
    "    output_dict[i] = {\n",
    "        'len_mrca_set': len(mrca_set),\n",
    "        'len_supertree_set': len(supertree_set),\n",
    "        'is_match': supertree_set.intersection(subtree_leaves) == mrca_set}"
   ]
  },
  {
   "cell_type": "code",
   "execution_count": 43,
   "id": "c2beb7dd-3b0a-4e90-98dd-05255b26347c",
   "metadata": {},
   "outputs": [
    {
     "data": {
      "text/html": [
       "<div>\n",
       "<style scoped>\n",
       "    .dataframe tbody tr th:only-of-type {\n",
       "        vertical-align: middle;\n",
       "    }\n",
       "\n",
       "    .dataframe tbody tr th {\n",
       "        vertical-align: top;\n",
       "    }\n",
       "\n",
       "    .dataframe thead th {\n",
       "        text-align: right;\n",
       "    }\n",
       "</style>\n",
       "<table border=\"1\" class=\"dataframe\">\n",
       "  <thead>\n",
       "    <tr style=\"text-align: right;\">\n",
       "      <th></th>\n",
       "      <th>len_mrca_set</th>\n",
       "      <th>len_supertree_set</th>\n",
       "      <th>is_match</th>\n",
       "    </tr>\n",
       "  </thead>\n",
       "  <tbody>\n",
       "    <tr>\n",
       "      <th>internal1</th>\n",
       "      <td>2</td>\n",
       "      <td>2</td>\n",
       "      <td>True</td>\n",
       "    </tr>\n",
       "    <tr>\n",
       "      <th>internal2</th>\n",
       "      <td>3</td>\n",
       "      <td>3</td>\n",
       "      <td>True</td>\n",
       "    </tr>\n",
       "    <tr>\n",
       "      <th>internal3</th>\n",
       "      <td>2</td>\n",
       "      <td>2</td>\n",
       "      <td>True</td>\n",
       "    </tr>\n",
       "    <tr>\n",
       "      <th>internal4</th>\n",
       "      <td>2</td>\n",
       "      <td>2</td>\n",
       "      <td>True</td>\n",
       "    </tr>\n",
       "    <tr>\n",
       "      <th>internal5</th>\n",
       "      <td>3</td>\n",
       "      <td>3</td>\n",
       "      <td>True</td>\n",
       "    </tr>\n",
       "    <tr>\n",
       "      <th>...</th>\n",
       "      <td>...</td>\n",
       "      <td>...</td>\n",
       "      <td>...</td>\n",
       "    </tr>\n",
       "    <tr>\n",
       "      <th>internal30840</th>\n",
       "      <td>11134</td>\n",
       "      <td>17196</td>\n",
       "      <td>True</td>\n",
       "    </tr>\n",
       "    <tr>\n",
       "      <th>internal30841</th>\n",
       "      <td>12264</td>\n",
       "      <td>19718</td>\n",
       "      <td>True</td>\n",
       "    </tr>\n",
       "    <tr>\n",
       "      <th>internal30842</th>\n",
       "      <td>18886</td>\n",
       "      <td>28817</td>\n",
       "      <td>True</td>\n",
       "    </tr>\n",
       "    <tr>\n",
       "      <th>internal30843</th>\n",
       "      <td>27903</td>\n",
       "      <td>55259</td>\n",
       "      <td>False</td>\n",
       "    </tr>\n",
       "    <tr>\n",
       "      <th>internal30844</th>\n",
       "      <td>30890</td>\n",
       "      <td>55259</td>\n",
       "      <td>True</td>\n",
       "    </tr>\n",
       "  </tbody>\n",
       "</table>\n",
       "<p>30844 rows × 3 columns</p>\n",
       "</div>"
      ],
      "text/plain": [
       "              len_mrca_set len_supertree_set is_match\n",
       "internal1                2                 2     True\n",
       "internal2                3                 3     True\n",
       "internal3                2                 2     True\n",
       "internal4                2                 2     True\n",
       "internal5                3                 3     True\n",
       "...                    ...               ...      ...\n",
       "internal30840        11134             17196     True\n",
       "internal30841        12264             19718     True\n",
       "internal30842        18886             28817     True\n",
       "internal30843        27903             55259    False\n",
       "internal30844        30890             55259     True\n",
       "\n",
       "[30844 rows x 3 columns]"
      ]
     },
     "execution_count": 43,
     "metadata": {},
     "output_type": "execute_result"
    }
   ],
   "source": [
    "dataset = pd.DataFrame(output_dict).T\n",
    "dataset.index = [ln.label for ln in subtree.postorder_internal_node_iter()]\n",
    "dataset"
   ]
  },
  {
   "cell_type": "markdown",
   "id": "463947a7-61a3-4103-8ac4-4bd976de9b86",
   "metadata": {},
   "source": [
    "Based on tree topology, above argues that the 30843 child leaf nodes includes a L1 strain - this does not appear to be the case...."
   ]
  },
  {
   "cell_type": "code",
   "execution_count": 52,
   "id": "64f945c9-7b14-459f-ad57-02a4a68ae10d",
   "metadata": {
    "scrolled": true
   },
   "outputs": [],
   "source": [
    "subtree_30843 = {ln.label for ln in subtree.find_node_with_label('internal30843').leaf_nodes()}\n",
    "supertree_L1 = {ln.label for ln in supertree.find_node_with_label('internal4119').leaf_nodes()}"
   ]
  },
  {
   "cell_type": "code",
   "execution_count": 56,
   "id": "550f0df6-c9cb-43f5-99cd-5eaeedc232e0",
   "metadata": {},
   "outputs": [
    {
     "data": {
      "text/plain": [
       "(set(), 27903, 4120)"
      ]
     },
     "execution_count": 56,
     "metadata": {},
     "output_type": "execute_result"
    }
   ],
   "source": [
    "supertree_L1.intersection(subtree_30843), len(subtree_30843), len(supertree_L1)"
   ]
  },
  {
   "cell_type": "code",
   "execution_count": 57,
   "id": "6fb99888-0de2-4e90-8d44-1a2f4bc1d45e",
   "metadata": {},
   "outputs": [],
   "source": [
    "mrca = {ln.label for ln in supertree.mrca(taxon_labels=subtree_30843).leaf_nodes()}"
   ]
  },
  {
   "cell_type": "code",
   "execution_count": 58,
   "id": "4fd30163-f93f-4fd3-823c-9f0b7b696710",
   "metadata": {},
   "outputs": [
    {
     "data": {
      "text/plain": [
       "55259"
      ]
     },
     "execution_count": 58,
     "metadata": {},
     "output_type": "execute_result"
    }
   ],
   "source": [
    "len(mrca)"
   ]
  },
  {
   "cell_type": "markdown",
   "id": "86d0af6e-e97f-4aa1-881f-93032045ab4e",
   "metadata": {},
   "source": [
    "I think this is some artefact of rooting and since it occurs above all of my ABX sensitive/resistant analyses, I don't think it matters."
   ]
  },
  {
   "cell_type": "code",
   "execution_count": 59,
   "id": "cacf7255-4d80-4b8d-9784-04c68c797fec",
   "metadata": {},
   "outputs": [
    {
     "name": "stderr",
     "output_type": "stream",
     "text": [
      "100%|██████████████████████████████████████████████████████████████████████████████████████████████████████████| 24327/24327 [38:28<00:00, 10.54it/s]\n"
     ]
    }
   ],
   "source": [
    "supertree_path = 'datasets/variants/global/241104_ancestor_calls.vcb/tree.nwk'\n",
    "subtree_path = 'datasets/variants/global/250216_abxres_ancestor_calls.vcb/tree.nwk'\n",
    "prune_labels = ['canettii', 'SRR10522783']\n",
    "\n",
    "# load trees\n",
    "supertree = vt.loadTree(supertree_path)\n",
    "supertree.prune_taxa_with_labels(prune_labels)\n",
    "\n",
    "subtree = vt.loadTree(subtree_path)\n",
    "subtree.prune_taxa_with_labels(prune_labels)\n",
    "\n",
    "subtree_leaves = {ln.label for ln in subtree.leaf_nodes()}\n",
    "\n",
    "# run comparison algorithm\n",
    "output_dict = {}\n",
    "for i, node in enumerate(tqdm(list(subtree.postorder_internal_node_iter()))):\n",
    "    mrca_set = {ln.label for ln in node.leaf_nodes()}\n",
    "    supertree_set = {ln.label for ln in supertree.mrca(taxon_labels=mrca_set).leaf_nodes()}\n",
    "    output_dict[i] = {\n",
    "        'len_mrca_set': len(mrca_set),\n",
    "        'len_supertree_set': len(supertree_set),\n",
    "        'is_match': supertree_set.intersection(subtree_leaves) == mrca_set}"
   ]
  },
  {
   "cell_type": "code",
   "execution_count": 62,
   "id": "a747a02c-dc63-47a4-a71e-7a2c987ecdbf",
   "metadata": {},
   "outputs": [
    {
     "data": {
      "text/html": [
       "<div>\n",
       "<style scoped>\n",
       "    .dataframe tbody tr th:only-of-type {\n",
       "        vertical-align: middle;\n",
       "    }\n",
       "\n",
       "    .dataframe tbody tr th {\n",
       "        vertical-align: top;\n",
       "    }\n",
       "\n",
       "    .dataframe thead th {\n",
       "        text-align: right;\n",
       "    }\n",
       "</style>\n",
       "<table border=\"1\" class=\"dataframe\">\n",
       "  <thead>\n",
       "    <tr style=\"text-align: right;\">\n",
       "      <th></th>\n",
       "      <th>len_mrca_set</th>\n",
       "      <th>len_supertree_set</th>\n",
       "      <th>is_match</th>\n",
       "    </tr>\n",
       "  </thead>\n",
       "  <tbody>\n",
       "    <tr>\n",
       "      <th>internal1</th>\n",
       "      <td>2</td>\n",
       "      <td>2</td>\n",
       "      <td>True</td>\n",
       "    </tr>\n",
       "    <tr>\n",
       "      <th>internal2</th>\n",
       "      <td>2</td>\n",
       "      <td>2</td>\n",
       "      <td>True</td>\n",
       "    </tr>\n",
       "    <tr>\n",
       "      <th>internal3</th>\n",
       "      <td>2</td>\n",
       "      <td>3</td>\n",
       "      <td>True</td>\n",
       "    </tr>\n",
       "    <tr>\n",
       "      <th>internal4</th>\n",
       "      <td>3</td>\n",
       "      <td>9</td>\n",
       "      <td>True</td>\n",
       "    </tr>\n",
       "    <tr>\n",
       "      <th>internal5</th>\n",
       "      <td>5</td>\n",
       "      <td>15</td>\n",
       "      <td>True</td>\n",
       "    </tr>\n",
       "    <tr>\n",
       "      <th>...</th>\n",
       "      <td>...</td>\n",
       "      <td>...</td>\n",
       "      <td>...</td>\n",
       "    </tr>\n",
       "    <tr>\n",
       "      <th>internal24323</th>\n",
       "      <td>6062</td>\n",
       "      <td>17196</td>\n",
       "      <td>True</td>\n",
       "    </tr>\n",
       "    <tr>\n",
       "      <th>internal24324</th>\n",
       "      <td>7454</td>\n",
       "      <td>19718</td>\n",
       "      <td>True</td>\n",
       "    </tr>\n",
       "    <tr>\n",
       "      <th>internal24325</th>\n",
       "      <td>9931</td>\n",
       "      <td>28817</td>\n",
       "      <td>True</td>\n",
       "    </tr>\n",
       "    <tr>\n",
       "      <th>internal24326</th>\n",
       "      <td>23236</td>\n",
       "      <td>55259</td>\n",
       "      <td>False</td>\n",
       "    </tr>\n",
       "    <tr>\n",
       "      <th>internal24327</th>\n",
       "      <td>24369</td>\n",
       "      <td>55259</td>\n",
       "      <td>True</td>\n",
       "    </tr>\n",
       "  </tbody>\n",
       "</table>\n",
       "<p>24327 rows × 3 columns</p>\n",
       "</div>"
      ],
      "text/plain": [
       "              len_mrca_set len_supertree_set is_match\n",
       "internal1                2                 2     True\n",
       "internal2                2                 2     True\n",
       "internal3                2                 3     True\n",
       "internal4                3                 9     True\n",
       "internal5                5                15     True\n",
       "...                    ...               ...      ...\n",
       "internal24323         6062             17196     True\n",
       "internal24324         7454             19718     True\n",
       "internal24325         9931             28817     True\n",
       "internal24326        23236             55259    False\n",
       "internal24327        24369             55259     True\n",
       "\n",
       "[24327 rows x 3 columns]"
      ]
     },
     "execution_count": 62,
     "metadata": {},
     "output_type": "execute_result"
    }
   ],
   "source": [
    "dataset = pd.DataFrame(output_dict).T\n",
    "dataset.index = [ln.label for ln in subtree.postorder_internal_node_iter()]\n",
    "dataset"
   ]
  },
  {
   "cell_type": "code",
   "execution_count": null,
   "id": "c3384ade-679d-470d-a96a-9a0c9194c2cb",
   "metadata": {},
   "outputs": [],
   "source": []
  }
 ],
 "metadata": {
  "kernelspec": {
   "display_name": "general_py",
   "language": "python",
   "name": "general_py"
  },
  "language_info": {
   "codemirror_mode": {
    "name": "ipython",
    "version": 3
   },
   "file_extension": ".py",
   "mimetype": "text/x-python",
   "name": "python",
   "nbconvert_exporter": "python",
   "pygments_lexer": "ipython3",
   "version": "3.12.8"
  }
 },
 "nbformat": 4,
 "nbformat_minor": 5
}
