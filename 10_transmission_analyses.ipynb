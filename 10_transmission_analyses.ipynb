{
 "cells": [
  {
   "cell_type": "code",
   "execution_count": 91,
   "id": "624f1ede-d35a-46a1-96e9-54aec380d854",
   "metadata": {},
   "outputs": [],
   "source": [
    "import os, dendropy, sys, tqdm, pickle\n",
    "import pandas as pd\n",
    "import numpy as np\n",
    "import seaborn as sns\n",
    "from tqdm import tqdm\n",
    "from itertools import product\n",
    "import matplotlib.pyplot as plt\n",
    "plt.style.use('paper_style.mplstyle')\n",
    "from statsmodels.stats.multitest import multipletests\n",
    "import mtbvartools as vt\n",
    "import phyoverlap2 as po\n",
    "from mtbvartools.vcf import filterDataFrame\n",
    "from mtbvartools.dasktools import startClient, subproc\n",
    "\n",
    "colors = {\n",
    "    'dred':    '#c54e52', 'lred':    '#f8b1bb',\n",
    "    'dblue':   '#3c5488', 'lblue':   '#bfd6ef',\n",
    "    'dgreen':  '#00a087', 'lgreen':  '#c0e6ea',\n",
    "    'dpink':   '#d78bbb', 'lpink':   '#f9d5e5',\n",
    "    'dyellow': '#ccb974', 'lyellow': '#fff0c1',\n",
    "    'gray': '#c0c0c0'}"
   ]
  },
  {
   "cell_type": "markdown",
   "id": "eb4bb214-dbee-4cb6-ae5f-6557c0fac493",
   "metadata": {
    "jp-MarkdownHeadingCollapsed": true
   },
   "source": [
    "# Measure Variant Modernity"
   ]
  },
  {
   "cell_type": "markdown",
   "id": "7bd015fa-75a6-40ce-87d2-5fc985dd8981",
   "metadata": {},
   "source": [
    "## Pre-calculate statistic at all nodes"
   ]
  },
  {
   "cell_type": "code",
   "execution_count": 3,
   "id": "0bbf7c32-c696-4cc2-b34c-6ed1d60574e2",
   "metadata": {},
   "outputs": [
    {
     "name": "stderr",
     "output_type": "stream",
     "text": [
      "100%|███████████████████████████████████████████████████████████████████████| 110430/110430 [00:00<00:00, 412038.12it/s]\n"
     ]
    }
   ],
   "source": [
    "tree_path = 'datasets/variants/global/241104_ancestor_calls.vcb/tree.nwk'\n",
    "prune_labels = ['canettii', 'SRR10522783']\n",
    "statistic_path = 'tmp/root_dist.global.pkl'\n",
    "\n",
    "dist_dict = po.getDistToRoot(\n",
    "    tree_path, prune_labels)\n",
    "\n",
    "pickle.dump(dist_dict, open(statistic_path, 'wb'))"
   ]
  },
  {
   "cell_type": "markdown",
   "id": "7d73ce3c-3e44-4d01-b139-2c169f368ffa",
   "metadata": {
    "jp-MarkdownHeadingCollapsed": true
   },
   "source": [
    "## Run analysis"
   ]
  },
  {
   "cell_type": "code",
   "execution_count": 10,
   "id": "f53d6127-a81a-49bd-8042-7057254923c9",
   "metadata": {},
   "outputs": [],
   "source": [
    "# storage of all outputs\n",
    "combined_outputs = []"
   ]
  },
  {
   "cell_type": "markdown",
   "id": "53de3538-9e8b-4872-acae-786928416617",
   "metadata": {},
   "source": [
    "**WhiB6 and SlfR**"
   ]
  },
  {
   "cell_type": "code",
   "execution_count": 11,
   "id": "77a00e15-15ef-4e27-922f-f8d58891b27f",
   "metadata": {},
   "outputs": [],
   "source": [
    "annotation_df = pd.read_csv(\n",
    "    'datasets/variants/global/241104_event_calls.vcb/event_calls.annotated.csv',\n",
    "    index_col=['pos', 'ref', 'alt'])\n",
    "\n",
    "deleterious_settings = {\n",
    "    'Annotation': lambda x: any([atype in str(x) for atype in [\n",
    "        'frameshift_variant',\n",
    "        'stop_gained',\n",
    "        'start_lost']]),\n",
    "    'SIFT_score': lambda x: float(x) < 0.05,}  # predicted deleterious via SIFT\n",
    "\n",
    "deleterious_annotation_df = filterDataFrame(\n",
    "    annotation_df, function_dict=deleterious_settings)\n",
    "\n",
    "miss_settings = {\n",
    "    'miss_count': lambda x: float(x) < 55260 * .05,}\n",
    "pass_filters_df = filterDataFrame(\n",
    "    deleterious_annotation_df, function_dict=miss_settings)\n",
    "\n",
    "pass_filters_df.to_csv('tmp/deleterious_annotations.tmp.csv')"
   ]
  },
  {
   "cell_type": "code",
   "execution_count": 12,
   "id": "65a44467-1a7b-4e46-9c86-53c77ef24339",
   "metadata": {},
   "outputs": [],
   "source": [
    "tree_path = 'datasets/variants/global/241104_event_calls.vcb/tree.nwk'\n",
    "prune_labels = ['canettii']\n",
    "lineage_seeds = {\n",
    "    'L1': 'internal4119',\n",
    "    'L2': 'internal26428',\n",
    "    'L4': 'internal55169'}\n",
    "\n",
    "genes_list = ['Rv0042c', 'Rv3862c']\n",
    "\n",
    "statistic_list = {\n",
    "    'root dist': 'tmp/root_dist.global.pkl',}\n",
    "    \n",
    "annotations_path = 'tmp/deleterious_annotations.tmp.csv'\n",
    "event_vcb_path = 'datasets/variants/global/241104_event_calls.vcb'\n",
    "n_permutations = 100000\n",
    "\n",
    "@subproc\n",
    "def geneStatisticAssoc(\n",
    "        joblist,\n",
    "        tree_path,\n",
    "        prune_labels,\n",
    "        lineage_seeds,\n",
    "        statistic_list,\n",
    "        event_vcb_path,\n",
    "        n_permutations):\n",
    "    ## pre-iteration calculations to prepare each worker\n",
    "    # load full tree\n",
    "    loaded_tree = vt.loadTree(tree_path)\n",
    "    loaded_tree.prune_taxa_with_labels(prune_labels)\n",
    "\n",
    "    # get node dicts for each lineage\n",
    "    node_df_dict = {\n",
    "        k: po.getNodeTable(tree=loaded_tree, target_node_label=v)\n",
    "        for k, v in lineage_seeds.items()}\n",
    "\n",
    "    # load in variant & event vcbs\n",
    "    event_vcb = vt.CallBytestream(event_vcb_path, True, False)\n",
    "    \n",
    "    # load in annotations\n",
    "    annotation_df = pd.read_csv(\n",
    "        annotations_path,\n",
    "        index_col=['pos', 'ref', 'alt'])\n",
    "\n",
    "    # load statistic dictionaries\n",
    "    statistic_dict = {\n",
    "        key: pickle.load(open(value, 'rb')) for key, value in statistic_list.items()}\n",
    "\n",
    "    ## iterate assigned products of gene x lineage x statistic\n",
    "    ind_nodes_dict = {}  # register (geneid, lineage) pairs that have already run on the worker on the fly\n",
    "    statistic_output_list = []  # output list\n",
    "    for geneid, lineage, statistic in joblist:\n",
    "        try:  # try to avoid re-running same gene\n",
    "            ind_nodes = ind_nodes_dict[(geneid, lineage)]\n",
    "        except KeyError:  # otherwise re-run and save\n",
    "            node_set = set(  # define node set based on subtree\n",
    "                node_df_dict[lineage].head_node)\n",
    "            ind_nodes = po.getGeneAltEventNodes(\n",
    "                geneid, event_vcb, annotation_df, None, node_set)\n",
    "            ind_nodes_dict[(geneid, lineage)] = ind_nodes\n",
    "        statistic_output = po.testMeanStatistic(\n",
    "            ind_nodes, statistic_dict[statistic], node_df_dict[lineage],\n",
    "            n_permutations=n_permutations, missing_value='pass')\n",
    "        statistic_output.name = (geneid, statistic, lineage)\n",
    "        statistic_output_list.append(statistic_output)\n",
    "    return pd.DataFrame(statistic_output_list)"
   ]
  },
  {
   "cell_type": "code",
   "execution_count": 13,
   "id": "5cc940c0-aba3-4de3-8565-3aac88b9a5f9",
   "metadata": {},
   "outputs": [
    {
     "name": "stdout",
     "output_type": "stream",
     "text": [
      "2025-03-27 14:38:02 - Launching LocalCluster client (10 workers)\n"
     ]
    },
    {
     "name": "stderr",
     "output_type": "stream",
     "text": [
      "100%|███████████████████████████████████████████████████████████████████████████████████| 10/10 [00:41<00:00,  4.17s/it]\n"
     ]
    }
   ],
   "source": [
    "# define jobs and split work\n",
    "all_jobs = list(product(genes_list, lineage_seeds.keys(), statistic_list.keys()))\n",
    "# np.random.shuffle(all_jobs)\n",
    "n_workers = 10\n",
    "n_jobs = 10\n",
    "\n",
    "split_jobs = np.array_split(all_jobs, n_jobs)\n",
    "\n",
    "\n",
    "# start client\n",
    "client = startClient(\n",
    "    n_workers=n_workers,\n",
    "    use_local=True,\n",
    "    # use_slurm=True,\n",
    "    # log_dir='.',\n",
    "    # queue='sapphire',\n",
    "    # process_per_node=5,\n",
    "    # cores_per_process=1,\n",
    "    # memory_per_process='4GB',\n",
    "    # walltime='8:00:00',\n",
    "    dashboard_address=':10000',)\n",
    "\n",
    "futures = []\n",
    "for job in split_jobs:\n",
    "    futures.append(client.submit(\n",
    "        geneStatisticAssoc,\n",
    "        job,\n",
    "        tree_path,\n",
    "        prune_labels,\n",
    "        lineage_seeds,\n",
    "        statistic_list,\n",
    "        event_vcb_path,\n",
    "        n_permutations))\n",
    "\n",
    "outputs_list = []\n",
    "for f in tqdm(futures):\n",
    "    outputs_list.append(client.gather(f))\n",
    "    f.release()\n",
    "outputs_df = pd.concat(outputs_list)\n",
    "client.shutdown()"
   ]
  },
  {
   "cell_type": "code",
   "execution_count": 14,
   "id": "bc951b75-c5fc-4ca9-98ab-0b41663ea6e8",
   "metadata": {},
   "outputs": [],
   "source": [
    "combined_outputs.append(outputs_df)"
   ]
  },
  {
   "cell_type": "markdown",
   "id": "e803e3a9-c685-48ad-8332-c737a6ff50b1",
   "metadata": {},
   "source": [
    "**espACD**"
   ]
  },
  {
   "cell_type": "code",
   "execution_count": 15,
   "id": "92f502ed-953a-43b4-8a8b-ca71e1876957",
   "metadata": {},
   "outputs": [],
   "source": [
    "annotated_calls_path = 'datasets/variants/global/241104_event_calls.vcb/event_calls.genomic.csv'\n",
    "\n",
    "anno_calls = pd.read_csv(\n",
    "    annotated_calls_path, index_col=['pos', 'ref', 'alt'])\n",
    "# get position vector\n",
    "pos_vector = anno_calls.index.get_level_values('pos')\n",
    "\n",
    "# generate index lists of variants for the sites of interest\n",
    "target_indexes = {\n",
    "    'SNP_siteA': anno_calls.index[np.all([\n",
    "        pos_vector <= 4057190 + 5,\n",
    "        pos_vector >= 4057190 - 5], axis=0)],\n",
    "    'SNP_siteB': anno_calls.index[np.all([\n",
    "        pos_vector <= 4057367 + 5,\n",
    "        pos_vector >= 4057367 - 5], axis=0)],\n",
    "    'DEL_A': anno_calls.index[\n",
    "        pos_vector == 4056663],\n",
    "    'DEL_B': anno_calls.index[\n",
    "        pos_vector == 4056945]}\n",
    "\n",
    "flat_indexes = np.concatenate(\n",
    "    [idx for idx in target_indexes.values()])\n",
    "anno_calls.loc[\n",
    "    flat_indexes].to_csv('tmp/espACD_upstream_variants.tmp.csv')"
   ]
  },
  {
   "cell_type": "code",
   "execution_count": 16,
   "id": "9bd30e04-c310-433a-a5fb-0f5f947175fe",
   "metadata": {},
   "outputs": [],
   "source": [
    "tree_path = 'datasets/variants/global/241104_event_calls.vcb/tree.nwk'\n",
    "prune_labels = ['canettii']\n",
    "lineage_seeds = {\n",
    "    'L1': 'internal4119',\n",
    "    'L2': 'internal26428',\n",
    "    'L4': 'internal55169'}\n",
    "\n",
    "ind_variants_list = {\n",
    "    'espA up': 'tmp/espACD_upstream_variants.tmp.csv'}\n",
    "\n",
    "statistic_list = {\n",
    "    'root dist': 'tmp/root_dist.global.pkl',}\n",
    "    \n",
    "event_vcb_path = 'datasets/variants/global/241104_event_calls.vcb'\n",
    "n_permutations = 100000\n",
    "\n",
    "@subproc\n",
    "def targetStatisticAssoc(\n",
    "        joblist,\n",
    "        tree_path,\n",
    "        prune_labels,\n",
    "        lineage_seeds,\n",
    "        ind_variants_list,\n",
    "        statistic_list,\n",
    "        event_vcb_path,\n",
    "        n_permutations):\n",
    "    ## pre-iteration calculations to prepare each worker\n",
    "    # load full tree\n",
    "    loaded_tree = vt.loadTree(tree_path)\n",
    "    loaded_tree.prune_taxa_with_labels(prune_labels)\n",
    "\n",
    "    # get node dicts for each lineage\n",
    "    node_df_dict = {\n",
    "        k: po.getNodeTable(tree=loaded_tree, target_node_label=v)\n",
    "        for k, v in lineage_seeds.items()}\n",
    "\n",
    "    # load in variant & event vcbs\n",
    "    event_vcb = vt.CallBytestream(event_vcb_path, True, False)\n",
    "    \n",
    "    # load in annotations\n",
    "    annotation_df = pd.read_csv(\n",
    "        annotations_path,\n",
    "        index_col=['pos', 'ref', 'alt'])\n",
    "\n",
    "    # load statistic dictionaries\n",
    "    statistic_dict = {\n",
    "        key: pickle.load(open(value, 'rb')) for key, value in statistic_list.items()}\n",
    "\n",
    "    ## iterate assigned products of gene x lineage x statistic\n",
    "    ind_nodes_dict = {}  # register (path, lineage) pairs that have already run on the worker on the fly\n",
    "    statistic_output_list = []  # output list\n",
    "    for target_var, lineage, statistic in joblist:\n",
    "        try:  # try to avoid re-running same gene\n",
    "            ind_nodes = ind_nodes_dict[(target_var, lineage)]\n",
    "        except KeyError:  # otherwise re-run and save\n",
    "            node_set = set(  # define node set based on subtree\n",
    "                node_df_dict[lineage].head_node)\n",
    "            ind_variants_df = pd.read_csv(\n",
    "                ind_variants_list[target_var], index_col=['pos', 'ref', 'alt'])\n",
    "            ind_nodes = po.getVariantAltEventNodes(\n",
    "                ind_variants_df, event_vcb, node_set)\n",
    "            ind_nodes_dict[(target_var, lineage)] = ind_nodes\n",
    "        statistic_output = po.testMeanStatistic(\n",
    "            ind_nodes, statistic_dict[statistic], node_df_dict[lineage],\n",
    "            n_permutations=n_permutations, missing_value='pass')\n",
    "        statistic_output.name = (target_var, statistic, lineage)\n",
    "        statistic_output_list.append(statistic_output)\n",
    "    return pd.DataFrame(statistic_output_list)"
   ]
  },
  {
   "cell_type": "code",
   "execution_count": 17,
   "id": "09f6c89a-c814-4d37-a527-2f6c04f20cbc",
   "metadata": {},
   "outputs": [
    {
     "name": "stdout",
     "output_type": "stream",
     "text": [
      "2025-03-27 14:40:15 - Launching LocalCluster client (5 workers)\n"
     ]
    },
    {
     "name": "stderr",
     "output_type": "stream",
     "text": [
      "100%|█████████████████████████████████████████████████████████████████████████████████████| 5/5 [00:31<00:00,  6.22s/it]\n"
     ]
    }
   ],
   "source": [
    "# define jobs and split work\n",
    "all_jobs = list(product(ind_variants_list.keys(), lineage_seeds.keys(), statistic_list.keys()))\n",
    "# np.random.shuffle(all_jobs)\n",
    "n_workers = 5\n",
    "n_jobs = 5\n",
    "\n",
    "split_jobs = np.array_split(all_jobs, n_jobs)\n",
    "\n",
    "\n",
    "# start client\n",
    "client = startClient(\n",
    "    n_workers=n_workers,\n",
    "    use_local=True,\n",
    "    # use_slurm=True,\n",
    "    # log_dir='.',\n",
    "    # queue='sapphire',\n",
    "    # process_per_node=5,\n",
    "    # cores_per_process=1,\n",
    "    # memory_per_process='4GB',\n",
    "    # walltime='8:00:00',\n",
    "    dashboard_address=':10000',)\n",
    "\n",
    "futures = []\n",
    "for job in split_jobs:\n",
    "    futures.append(client.submit(\n",
    "        targetStatisticAssoc,\n",
    "        job,\n",
    "        tree_path,\n",
    "        prune_labels,\n",
    "        lineage_seeds,\n",
    "        ind_variants_list,\n",
    "        statistic_list,\n",
    "        event_vcb_path,\n",
    "        n_permutations))\n",
    "\n",
    "outputs_list = []\n",
    "for f in tqdm(futures):\n",
    "    outputs_list.append(client.gather(f))\n",
    "    f.release()\n",
    "outputs_df = pd.concat(outputs_list)\n",
    "client.shutdown()"
   ]
  },
  {
   "cell_type": "code",
   "execution_count": 18,
   "id": "eb9a3356-573f-45c0-93f2-73d2ed05e22e",
   "metadata": {},
   "outputs": [],
   "source": [
    "combined_outputs.append(outputs_df)"
   ]
  },
  {
   "cell_type": "code",
   "execution_count": 19,
   "id": "3fc43556-ff11-433c-a1d9-ee4f46fdd03d",
   "metadata": {},
   "outputs": [],
   "source": [
    "combined_df = pd.concat(\n",
    "    combined_outputs)\n",
    "combined_df.index.names = ('site', 'metric', 'lineage')\n",
    "combined_df.sort_index()\n",
    "combined_df.index = combined_df.index.droplevel('metric')\n",
    "combined_df.to_csv('outputs/tables/TableS7_modernity.csv')"
   ]
  },
  {
   "cell_type": "markdown",
   "id": "e5e06712-7408-46d3-b647-4dd3dd58fa8a",
   "metadata": {
    "jp-MarkdownHeadingCollapsed": true
   },
   "source": [
    "# Variant Association with Antibiotic Resistance"
   ]
  },
  {
   "cell_type": "markdown",
   "id": "2403f640-a590-4f0e-b759-778eeabdeaf8",
   "metadata": {
    "jp-MarkdownHeadingCollapsed": true
   },
   "source": [
    "## Run Analysis"
   ]
  },
  {
   "cell_type": "code",
   "execution_count": 59,
   "id": "faaa87de-d75e-4697-ac19-7e59be62611e",
   "metadata": {},
   "outputs": [],
   "source": [
    "outputs_list = []"
   ]
  },
  {
   "cell_type": "markdown",
   "id": "ed670185-9e0d-4859-931f-474124dfb6c3",
   "metadata": {},
   "source": [
    "**WhiB6 + Rv0042c**"
   ]
  },
  {
   "cell_type": "code",
   "execution_count": 60,
   "id": "58b427e8-19d8-496a-a0e5-5ae704864975",
   "metadata": {},
   "outputs": [],
   "source": [
    "annotation_df = pd.read_csv(\n",
    "    'datasets/variants/global/241104_event_calls.vcb/event_calls.annotated.csv',\n",
    "    index_col=['pos', 'ref', 'alt'])\n",
    "\n",
    "deleterious_settings = {\n",
    "    'Annotation': lambda x: any([atype in str(x) for atype in [\n",
    "        'frameshift_variant',\n",
    "        'stop_gained',\n",
    "        'start_lost']]),\n",
    "    'SIFT_score': lambda x: float(x) < 0.05,}  # predicted deleterious via SIFT\n",
    "\n",
    "deleterious_annotation_df = filterDataFrame(\n",
    "    annotation_df, function_dict=deleterious_settings)\n",
    "\n",
    "miss_settings = {\n",
    "    'miss_count': lambda x: float(x) < 55260 * .05,}\n",
    "pass_filters_df = filterDataFrame(\n",
    "    deleterious_annotation_df, function_dict=miss_settings)\n",
    "\n",
    "pass_filters_df.to_csv('tmp/deleterious_annotations.tmp.csv')"
   ]
  },
  {
   "cell_type": "code",
   "execution_count": 61,
   "id": "b0a827d4-acb7-46a3-a37c-5cd593aa35eb",
   "metadata": {},
   "outputs": [],
   "source": [
    "# definitions\n",
    "\n",
    "tree_path = 'datasets/variants/global/241104_event_calls.vcb/tree.nwk'\n",
    "prune_labels = ['canettii']\n",
    "lineage_seeds = {\n",
    "    'L1': 'internal4119',\n",
    "    'L2': 'internal26428',\n",
    "    'L4': 'internal55169'}\n",
    "drugs_list = [\n",
    "    'isoniazid', 'rifampicin', 'streptomycin', 'ethambutol', 'pyrazinamide']\n",
    "genes_list = [\n",
    "    'Rv0042c', 'Rv3862c']\n",
    "\n",
    "target_settings = None\n",
    "\n",
    "abx_variants_path = 'datasets/known_abx_variants.csv'\n",
    "annotations_path = 'tmp/deleterious_annotations.tmp.csv'\n",
    "variant_vcb_path = 'datasets/variants/global/241104_variant_calls.vcb'\n",
    "event_vcb_path = 'datasets/variants/global/241104_event_calls.vcb'\n",
    "n_permutations = 100000\n",
    "\n",
    "# @subproc\n",
    "def geneAbxAssoc(\n",
    "        joblist_gene_drug_lineage,\n",
    "        tree_path,\n",
    "        prune_labels,\n",
    "        lineage_seeds,\n",
    "        drugs_list,\n",
    "        genes_list,\n",
    "        target_settings,\n",
    "        abx_variants_path,\n",
    "        annotations_path,\n",
    "        variant_vcb_path,\n",
    "        event_vcb_path,\n",
    "        n_permutations,):\n",
    "    ## pre-iteration calculations to prepare each worker\n",
    "    # load full tree\n",
    "    loaded_tree = vt.loadTree(tree_path)\n",
    "    loaded_tree.prune_taxa_with_labels(prune_labels)\n",
    "    # get leaf lookup dictionary\n",
    "    tree_dict = po.getChildNodeDict(\n",
    "        tree=loaded_tree, only_leaves=True)\n",
    "    \n",
    "    # get node dicts for each lineage\n",
    "    node_df_dict = {\n",
    "        k: po.getNodeTable(tree=loaded_tree, target_node_label=v)\n",
    "        for k, v in lineage_seeds.items()}\n",
    "    \n",
    "    # load in variant & event vcbs\n",
    "    variant_vcb = vt.CallBytestream(variant_vcb_path, True, False)\n",
    "    event_vcb = vt.CallBytestream(event_vcb_path, True, False)\n",
    "\n",
    "    # load in annotations\n",
    "    annotation_df = pd.read_csv(\n",
    "        annotations_path,\n",
    "        index_col=['pos', 'ref', 'alt'])\n",
    "    \n",
    "    # precalculate leaf (dependent) calls for each drug\n",
    "    dep_leaves_dict = {}\n",
    "    for drug, lineage in product(drugs_list, lineage_seeds.keys()):\n",
    "        abx_variant_df = pd.read_csv(  # load in variants\n",
    "            abx_variants_path,\n",
    "            index_col=['pos', 'ref', 'alt'])\n",
    "        dep_target_calls = abx_variant_df.loc[\n",
    "            abx_variant_df.drug == drug]\n",
    "        leaf_set = set(\n",
    "            node_df_dict[lineage].loc[node_df_dict[lineage].is_leaf, 'head_node'])\n",
    "        dep_leaves = po.getVariantLeaves(\n",
    "            dep_target_calls, variant_vcb, leaf_set)\n",
    "        dep_leaves_dict[(drug, lineage)] = dep_leaves\n",
    "\n",
    "    ## iterate on assigned products of gene x drug x lineage\n",
    "    ind_nodes_dict = {}  # register (geneid, lineage) pairs that have already run on the worker on the fly\n",
    "    overlap_output_list = []  # output list\n",
    "    for geneid, drug, lineage in joblist_gene_drug_lineage:\n",
    "        try:  # try to avoid re-running same gene\n",
    "            ind_nodes = ind_nodes_dict[(geneid, lineage)]\n",
    "        except KeyError:  # otherwise re-run and save\n",
    "            node_set = set(node_df_dict[lineage].head_node)\n",
    "            ind_nodes = po.getGeneAltEventNodes(\n",
    "                geneid, event_vcb, annotation_df, target_settings, node_set)\n",
    "            ind_nodes_dict[geneid] = ind_nodes\n",
    "        if len(ind_nodes) == 0:\n",
    "            continue  # skip if no high quality nodes for this gene\n",
    "        # run permutation test\n",
    "        overlap_output = po.testMeanOverlap(\n",
    "            ind_nodes, dep_leaves_dict[(drug, lineage)], tree_dict, node_df_dict[lineage],\n",
    "            n_permutations=n_permutations)\n",
    "        overlap_output.name = (geneid, drug, lineage)\n",
    "        overlap_output_list.append(overlap_output)\n",
    "    return pd.DataFrame(overlap_output_list)"
   ]
  },
  {
   "cell_type": "code",
   "execution_count": 62,
   "id": "027b8bc5-cd35-4257-8196-1fb5841cf8a0",
   "metadata": {},
   "outputs": [
    {
     "name": "stdout",
     "output_type": "stream",
     "text": [
      "2025-04-14 10:55:54 - Launching LocalCluster client (15 workers)\n"
     ]
    },
    {
     "name": "stderr",
     "output_type": "stream",
     "text": [
      "100%|██████████████████████████████████████████████████████████████████████████████████████████████████████████████████| 15/15 [02:35<00:00, 10.37s/it]\n"
     ]
    }
   ],
   "source": [
    "# define jobs and split work\n",
    "all_jobs = list(product(genes_list, drugs_list, lineage_seeds.keys()))\n",
    "np.random.shuffle(all_jobs)\n",
    "n_workers = 15\n",
    "n_jobs = 15\n",
    "\n",
    "split_jobs = np.array_split(all_jobs, n_jobs)\n",
    "\n",
    "\n",
    "# start client\n",
    "client = startClient(\n",
    "    n_workers=n_workers,\n",
    "    use_local=True,\n",
    "    # use_slurm=True,\n",
    "    # log_dir='.',\n",
    "    # queue='sapphire',\n",
    "    # process_per_node=5,\n",
    "    # cores_per_process=1,\n",
    "    # memory_per_process='4GB',\n",
    "    # walltime='8:00:00',\n",
    "    dashboard_address=':10000',)\n",
    "\n",
    "futures = []\n",
    "for job in split_jobs:\n",
    "    futures.append(client.submit(\n",
    "        geneAbxAssoc,\n",
    "        job,\n",
    "        tree_path,\n",
    "        prune_labels,\n",
    "        lineage_seeds,\n",
    "        drugs_list,\n",
    "        genes_list,\n",
    "        target_settings,\n",
    "        abx_variants_path,\n",
    "        annotations_path,\n",
    "        variant_vcb_path,\n",
    "        event_vcb_path,\n",
    "        n_permutations))\n",
    "\n",
    "for f in tqdm(futures):\n",
    "    outputs_list.append(client.gather(f))\n",
    "    f.release()\n",
    "\n",
    "client.shutdown()"
   ]
  },
  {
   "cell_type": "markdown",
   "id": "27ea24c7-8292-4690-af9e-80d27f24fee2",
   "metadata": {},
   "source": [
    "**EspACD**"
   ]
  },
  {
   "cell_type": "markdown",
   "id": "9586ac14-f03c-4e5f-97f5-60232a2345ef",
   "metadata": {},
   "source": [
    "Cumulative variant sites to consider:  \n",
    "- 4057189 - SNPs (close A)\n",
    "- 4057366 - SNPs (far B)\n",
    "- 4056663 - deletion position (A)\n",
    "- 4056945 - deletion position (B)"
   ]
  },
  {
   "cell_type": "code",
   "execution_count": 63,
   "id": "fa96f0d7-11d4-4884-ba51-d534ebb05700",
   "metadata": {
    "scrolled": true
   },
   "outputs": [],
   "source": [
    "annotated_calls_path = 'datasets/variants/global/241104_event_calls.vcb/event_calls.genomic.csv'\n",
    "\n",
    "anno_calls = pd.read_csv(\n",
    "    annotated_calls_path, index_col=['pos', 'ref', 'alt'])\n",
    "# get position vector\n",
    "pos_vector = anno_calls.index.get_level_values('pos')\n",
    "\n",
    "# generate index lists of variants for the sites of interest\n",
    "target_indexes = {\n",
    "    'SNP_siteA': anno_calls.index[np.all([\n",
    "        pos_vector <= 4057190 + 5,\n",
    "        pos_vector >= 4057190 - 5], axis=0)],\n",
    "    'SNP_siteB': anno_calls.index[np.all([\n",
    "        pos_vector <= 4057367 + 5,\n",
    "        pos_vector >= 4057367 - 5], axis=0)],\n",
    "    'DEL_A': anno_calls.index[\n",
    "        pos_vector == 4056663],\n",
    "    'DEL_B': anno_calls.index[\n",
    "        pos_vector == 4056945]}\n",
    "\n",
    "flat_indexes = np.concatenate(\n",
    "    [idx for idx in target_indexes.values()])\n",
    "anno_calls.loc[\n",
    "    flat_indexes].to_csv('tmp/espACD_upstream_variants.tmp.csv')"
   ]
  },
  {
   "cell_type": "code",
   "execution_count": 64,
   "id": "054db318-4de9-4e3c-b4b8-65ce541a47e2",
   "metadata": {},
   "outputs": [],
   "source": [
    "# definitions\n",
    "\n",
    "tree_path = 'datasets/variants/global/241104_event_calls.vcb/tree.nwk'\n",
    "prune_labels = ['canettii']\n",
    "lineage_seeds = {\n",
    "    'L1': 'internal4119',\n",
    "    'L2': 'internal26428',\n",
    "    'L4': 'internal55169'}\n",
    "drugs_list = [\n",
    "    'isoniazid', 'rifampicin', 'streptomycin', 'ethambutol', 'pyrazinamide']\n",
    "\n",
    "target_settings = None\n",
    "\n",
    "abx_variants_path = 'datasets/known_abx_variants.csv'\n",
    "ind_variants_path = 'tmp/espACD_upstream_variants.tmp.csv'\n",
    "variant_vcb_path = 'datasets/variants/global/241104_variant_calls.vcb'\n",
    "event_vcb_path = 'datasets/variants/global/241104_event_calls.vcb'\n",
    "n_permutations = 100000\n",
    "\n",
    "# @subproc\n",
    "def targetVariantAbxAssoc(\n",
    "        joblist,\n",
    "        tree_path,\n",
    "        prune_labels,\n",
    "        lineage_seeds,\n",
    "        drugs_list,\n",
    "        genes_list,\n",
    "        target_settings,\n",
    "        abx_variants_path,\n",
    "        ind_variants_path,\n",
    "        variant_vcb_path,\n",
    "        event_vcb_path,\n",
    "        n_permutations):\n",
    "    ## pre-iteration calculations to prepare each worker\n",
    "    # load full tree\n",
    "    loaded_tree = vt.loadTree(tree_path)\n",
    "    loaded_tree.prune_taxa_with_labels(prune_labels)\n",
    "    # get leaf lookup dictionary\n",
    "    tree_dict = po.getChildNodeDict(\n",
    "        tree=loaded_tree, only_leaves=True)\n",
    "    \n",
    "    # get node dicts for each lineage\n",
    "    node_df_dict = {\n",
    "        k: po.getNodeTable(tree=loaded_tree, target_node_label=v)\n",
    "        for k, v in lineage_seeds.items()}\n",
    "    \n",
    "    # load in variant & event vcbs\n",
    "    variant_vcb = vt.CallBytestream(variant_vcb_path, True, False)\n",
    "    event_vcb = vt.CallBytestream(event_vcb_path, True, False)\n",
    "\n",
    "    # load in variants\n",
    "    ind_variants_df = pd.read_csv(\n",
    "        ind_variants_path,\n",
    "        index_col=['pos', 'ref', 'alt'])\n",
    "    \n",
    "    # precalculate leaf (dependent) calls for each drug\n",
    "    dep_leaves_dict = {}\n",
    "    for drug, lineage in product(drugs_list, lineage_seeds.keys()):\n",
    "        abx_variant_df = pd.read_csv(  # load in variants\n",
    "            abx_variants_path,\n",
    "            index_col=['pos', 'ref', 'alt'])\n",
    "        dep_target_calls = abx_variant_df.loc[\n",
    "            abx_variant_df.drug == drug]\n",
    "        leaf_set = set(\n",
    "            node_df_dict[lineage].loc[node_df_dict[lineage].is_leaf, 'head_node'])\n",
    "        dep_leaves = po.getVariantLeaves(\n",
    "            dep_target_calls, variant_vcb, leaf_set)\n",
    "        dep_leaves_dict[(drug, lineage)] = dep_leaves\n",
    "\n",
    "    ## iterate on assigned products of drug x lineage\n",
    "    overlap_output_list = []  # output list\n",
    "    for drug, lineage in joblist:\n",
    "        # identify variant nodes\n",
    "        node_set = set(node_df_dict[lineage].head_node)\n",
    "        ind_nodes = po.getVariantAltEventNodes(\n",
    "            ind_variants_df, event_vcb, node_set)\n",
    "        if len(ind_nodes) == 0:\n",
    "            continue  # skip if no high quality nodes for this situation\n",
    "        # run permutation test\n",
    "        overlap_output = po.testMeanOverlap(\n",
    "            ind_nodes, dep_leaves_dict[(drug, lineage)], tree_dict, node_df_dict[lineage],\n",
    "            n_permutations=n_permutations)\n",
    "        overlap_output.name = ('espACD', drug, lineage)\n",
    "        overlap_output_list.append(overlap_output)\n",
    "    return pd.DataFrame(overlap_output_list)"
   ]
  },
  {
   "cell_type": "code",
   "execution_count": 65,
   "id": "a13a7b70-e6df-4fd6-b84d-7c971b96fcf4",
   "metadata": {},
   "outputs": [
    {
     "name": "stdout",
     "output_type": "stream",
     "text": [
      "2025-04-14 10:58:33 - Launching LocalCluster client (15 workers)\n"
     ]
    },
    {
     "name": "stderr",
     "output_type": "stream",
     "text": [
      "100%|██████████████████████████████████████████████████████████████████████████████████████████████████████████████████| 15/15 [00:42<00:00,  2.83s/it]\n"
     ]
    }
   ],
   "source": [
    "# define jobs and split work\n",
    "all_jobs = list(product(drugs_list, lineage_seeds.keys()))\n",
    "np.random.shuffle(all_jobs)\n",
    "n_workers = 15\n",
    "n_jobs = 15\n",
    "\n",
    "split_jobs = np.array_split(all_jobs, n_jobs)\n",
    "\n",
    "\n",
    "# start client\n",
    "client = startClient(\n",
    "    n_workers=n_workers,\n",
    "    use_local=True,\n",
    "    # use_slurm=True,\n",
    "    # log_dir='.',\n",
    "    # queue='sapphire',\n",
    "    # process_per_node=5,\n",
    "    # cores_per_process=1,\n",
    "    # memory_per_process='4GB',\n",
    "    # walltime='8:00:00',\n",
    "    dashboard_address=':10000',)\n",
    "\n",
    "futures = []\n",
    "for job in split_jobs:\n",
    "    futures.append(client.submit(\n",
    "        targetVariantAbxAssoc,\n",
    "        job,\n",
    "        tree_path,\n",
    "        prune_labels,\n",
    "        lineage_seeds,\n",
    "        drugs_list,\n",
    "        genes_list,\n",
    "        target_settings,\n",
    "        abx_variants_path,\n",
    "        ind_variants_path,\n",
    "        variant_vcb_path,\n",
    "        event_vcb_path,\n",
    "        n_permutations))\n",
    "\n",
    "for f in tqdm(futures):\n",
    "    outputs_list.append(client.gather(f))\n",
    "    f.release()\n",
    "\n",
    "client.shutdown()"
   ]
  },
  {
   "cell_type": "code",
   "execution_count": 66,
   "id": "a21096d3-fb3d-4a54-adb8-06c7f13575ca",
   "metadata": {},
   "outputs": [],
   "source": [
    "outputs_df = pd.concat(outputs_list)\n",
    "outputs_df.index.names = ('site', 'antibiotic', 'lineage')\n",
    "outputs_df = outputs_df.loc[\n",
    "    pd.IndexSlice[\n",
    "        ['Rv3862c', 'espACD', 'Rv0042c'],\n",
    "        ['isoniazid', 'rifampicin', 'streptomycin', 'ethambutol', 'pyrazinamide'],\n",
    "        ['L1', 'L2', 'L4']]]\n",
    "outputs_df.loc[:, 'bh_est_pvalue'] = multipletests(\n",
    "    outputs_df.est_pvalue, method='fdr_bh', alpha=0.05)[1]\n",
    "outputs_df.loc[:, 'fdr_significant'] = multipletests(\n",
    "    outputs_df.est_pvalue, method='fdr_bh', alpha=0.05)[0]\n",
    "outputs_df.to_csv('outputs/tables/TableS7_abx_associations.csv')"
   ]
  },
  {
   "cell_type": "markdown",
   "id": "50c68193-2e04-41ca-8576-d3eaa9ebdc08",
   "metadata": {
    "jp-MarkdownHeadingCollapsed": true
   },
   "source": [
    "# Measure Variant Transmission"
   ]
  },
  {
   "cell_type": "markdown",
   "id": "846a7347-d32a-4016-8102-f604d45a221e",
   "metadata": {
    "jp-MarkdownHeadingCollapsed": true
   },
   "source": [
    "## Pre-calculate statistics"
   ]
  },
  {
   "cell_type": "markdown",
   "id": "af964098-52a7-489a-bc8d-cb4ad5b76afb",
   "metadata": {},
   "source": [
    "**Prepare Mask**\n",
    "Need to identify sites that:\n",
    "- (1) do not pass Max Marin's threshold or\n",
    "- (2) do not pass my miss threshold (here, 25%)"
   ]
  },
  {
   "cell_type": "code",
   "execution_count": 6,
   "id": "96548ecf-8dc6-494c-9c65-3cff49d0214f",
   "metadata": {},
   "outputs": [],
   "source": [
    "miss_threshold = 0.25\n",
    "n_strains = len(vt.loadTree(\n",
    "    'datasets/variants/global/241104_event_calls.vcb/tree.nwk').leaf_nodes())\n",
    "\n",
    "miss_counts = np.load('datasets/global_miss_counts.npz')['miss_counts']\n",
    "miss_mask = miss_counts >= miss_threshold * n_strains\n",
    "\n",
    "bed_mask = vt.bedToMask(\n",
    "    'datasets/rlc_plus_lowmap_marin.bed',\n",
    "    len(miss_counts))\n",
    "\n",
    "fail_mask = np.any([\n",
    "    miss_mask, bed_mask],\n",
    "    axis=0)"
   ]
  },
  {
   "cell_type": "markdown",
   "id": "444c5dd0-c43b-47db-8e19-bb6bb73bf1a1",
   "metadata": {},
   "source": [
    "---\n",
    "**Store TBL phenotypes**  \n",
    "Precalculate a dictionary storing the mean TBL from every node of the tree."
   ]
  },
  {
   "cell_type": "code",
   "execution_count": 7,
   "id": "37a6819b-cb33-4f6a-9b54-b33620842560",
   "metadata": {},
   "outputs": [
    {
     "name": "stdout",
     "output_type": "stream",
     "text": [
      "precalculating leaf tbls....\n"
     ]
    },
    {
     "name": "stderr",
     "output_type": "stream",
     "text": [
      "100%|███████████████████████████████████████████████████████████████████████████████████████████████████████████| 55259/55259 [02:32<00:00, 362.32it/s]\n"
     ]
    },
    {
     "name": "stdout",
     "output_type": "stream",
     "text": [
      "calculating all mean tbls...\n"
     ]
    },
    {
     "name": "stderr",
     "output_type": "stream",
     "text": [
      "100%|███████████████████████████████████████████████████████████████████████████████████████████████████████| 110430/110430 [00:01<00:00, 76039.58it/s]\n"
     ]
    }
   ],
   "source": [
    "statistic_path = 'tmp/mean_terminal_branch_lengths.global.pkl'\n",
    "ancestor_vcb_path = 'datasets/variants/global/241104_ancestor_calls.vcb'\n",
    "tree_path = 'datasets/variants/global/241104_ancestor_calls.vcb/tree.nwk'\n",
    "prune_labels = ['canettii', 'SRR10522783']\n",
    "\n",
    "if os.path.exists(statistic_path):\n",
    "    print(f'{statistic_path} found!')\n",
    "else:\n",
    "    mean_tbl, _ = po.getMeanTerminalBranchLengths(\n",
    "        ancestor_vcb_path,\n",
    "        tree_path,\n",
    "        fail_mask,\n",
    "        prune_labels)\n",
    "    os.makedirs(os.path.dirname(statistic_path), exist_ok=True)\n",
    "    pickle.dump(mean_tbl, open(statistic_path, 'wb'))"
   ]
  },
  {
   "cell_type": "code",
   "execution_count": 8,
   "id": "a99f4d0f-b286-4003-8f05-22ba569a55fc",
   "metadata": {},
   "outputs": [
    {
     "name": "stdout",
     "output_type": "stream",
     "text": [
      "precalculating leaf tbls....\n"
     ]
    },
    {
     "name": "stderr",
     "output_type": "stream",
     "text": [
      "100%|███████████████████████████████████████████████████████████████████████████████████████████████████████████| 30890/30890 [01:05<00:00, 474.61it/s]\n"
     ]
    },
    {
     "name": "stdout",
     "output_type": "stream",
     "text": [
      "calculating all mean tbls...\n"
     ]
    },
    {
     "name": "stderr",
     "output_type": "stream",
     "text": [
      "100%|█████████████████████████████████████████████████████████████████████████████████████████████████████████| 61734/61734 [00:00<00:00, 90364.06it/s]\n"
     ]
    }
   ],
   "source": [
    "statistic_path = 'tmp/mean_terminal_branch_lengths.abxsen.pkl'\n",
    "ancestor_vcb_path = 'datasets/variants/global/250209_abxsen_ancestor_calls.vcb'\n",
    "tree_path = 'datasets/variants/global/250209_abxsen_ancestor_calls.vcb/tree.nwk'\n",
    "prune_labels = ['canettii', 'SRR10522783']\n",
    "\n",
    "if os.path.exists(statistic_path):\n",
    "    print(f'{statistic_path} found!')\n",
    "else:\n",
    "    mean_tbl, _ = po.getMeanTerminalBranchLengths(\n",
    "        ancestor_vcb_path,\n",
    "        tree_path,\n",
    "        fail_mask,\n",
    "        prune_labels)\n",
    "    os.makedirs(os.path.dirname(statistic_path), exist_ok=True)\n",
    "    pickle.dump(mean_tbl, open(statistic_path, 'wb'))"
   ]
  },
  {
   "cell_type": "code",
   "execution_count": 9,
   "id": "5b6ebca4-f48c-4323-a8ca-c8a36aba8a65",
   "metadata": {},
   "outputs": [
    {
     "name": "stdout",
     "output_type": "stream",
     "text": [
      "precalculating leaf tbls....\n"
     ]
    },
    {
     "name": "stderr",
     "output_type": "stream",
     "text": [
      "100%|███████████████████████████████████████████████████████████████████████████████████████████████████████████| 24369/24369 [00:30<00:00, 812.28it/s]\n"
     ]
    },
    {
     "name": "stdout",
     "output_type": "stream",
     "text": [
      "calculating all mean tbls...\n"
     ]
    },
    {
     "name": "stderr",
     "output_type": "stream",
     "text": [
      "100%|█████████████████████████████████████████████████████████████████████████████████████████████████████████| 48696/48696 [00:00<00:00, 77671.53it/s]\n"
     ]
    }
   ],
   "source": [
    "statistic_path = 'tmp/mean_terminal_branch_lengths.abxres.pkl'\n",
    "ancestor_vcb_path = 'datasets/variants/global/250216_abxres_ancestor_calls.vcb'\n",
    "tree_path = 'datasets/variants/global/250216_abxres_ancestor_calls.vcb/tree.nwk'\n",
    "prune_labels = ['canettii', 'SRR10522783']\n",
    "\n",
    "if os.path.exists(statistic_path):\n",
    "    print(f'{statistic_path} found!')\n",
    "else:\n",
    "    mean_tbl, _ = po.getMeanTerminalBranchLengths(\n",
    "        ancestor_vcb_path,\n",
    "        tree_path,\n",
    "        fail_mask,\n",
    "        prune_labels)\n",
    "    os.makedirs(os.path.dirname(statistic_path), exist_ok=True)\n",
    "    pickle.dump(mean_tbl, open(statistic_path, 'wb'))"
   ]
  },
  {
   "cell_type": "markdown",
   "id": "a91a6fba-cd5c-4ea5-9f5e-69803aa5da43",
   "metadata": {},
   "source": [
    "## Run analysis"
   ]
  },
  {
   "cell_type": "markdown",
   "id": "d438eed6-48c9-46de-ba87-630e8dca5dd7",
   "metadata": {
    "jp-MarkdownHeadingCollapsed": true
   },
   "source": [
    "### Full Isolate Tree"
   ]
  },
  {
   "cell_type": "code",
   "execution_count": 10,
   "id": "8d410dd6-4b68-471c-844d-0986c5ae9dc2",
   "metadata": {},
   "outputs": [],
   "source": [
    "# storage of all outputs\n",
    "combined_outputs = []"
   ]
  },
  {
   "cell_type": "markdown",
   "id": "cbb05093-31f6-42c8-8754-3075d882452d",
   "metadata": {},
   "source": [
    "**WhiB6 and SlfR**"
   ]
  },
  {
   "cell_type": "code",
   "execution_count": 11,
   "id": "58d0393d-130d-4637-9939-23ed8fff7c69",
   "metadata": {},
   "outputs": [],
   "source": [
    "annotation_df = pd.read_csv(\n",
    "    'datasets/variants/global/241104_event_calls.vcb/event_calls.annotated.csv',\n",
    "    index_col=['pos', 'ref', 'alt'])\n",
    "\n",
    "deleterious_settings = {\n",
    "    'Annotation': lambda x: any([atype in str(x) for atype in [\n",
    "        'frameshift_variant',\n",
    "        'stop_gained',\n",
    "        'start_lost']]),\n",
    "    'SIFT_score': lambda x: float(x) < 0.05,}  # predicted deleterious via SIFT\n",
    "\n",
    "deleterious_annotation_df = filterDataFrame(\n",
    "    annotation_df, function_dict=deleterious_settings)\n",
    "\n",
    "miss_settings = {\n",
    "    'miss_count': lambda x: float(x) < 55260 * .05,}\n",
    "pass_filters_df = filterDataFrame(\n",
    "    deleterious_annotation_df, function_dict=miss_settings)\n",
    "\n",
    "pass_filters_df.to_csv('tmp/deleterious_annotations.tmp.csv')"
   ]
  },
  {
   "cell_type": "code",
   "execution_count": 13,
   "id": "f46b0612-e935-4eae-8f99-d36b6edb38c4",
   "metadata": {},
   "outputs": [],
   "source": [
    "tree_path = 'datasets/variants/global/241104_event_calls.vcb/tree.nwk'\n",
    "prune_labels = ['canettii']\n",
    "lineage_seeds = {\n",
    "    'L1': 'internal4119',\n",
    "    'L2': 'internal26428',\n",
    "    'L4': 'internal55169'}\n",
    "\n",
    "genes_list = ['Rv0042c', 'Rv3862c']\n",
    "\n",
    "statistic_list = {\n",
    "    'TBL': 'tmp/mean_terminal_branch_lengths.global.pkl',}\n",
    "    \n",
    "annotations_path = 'tmp/deleterious_annotations.tmp.csv'\n",
    "event_vcb_path = 'datasets/variants/global/241104_event_calls.vcb'\n",
    "n_permutations = 100000\n",
    "\n",
    "@subproc\n",
    "def geneStatisticAssoc(\n",
    "        joblist,\n",
    "        tree_path,\n",
    "        prune_labels,\n",
    "        lineage_seeds,\n",
    "        statistic_list,\n",
    "        event_vcb_path,\n",
    "        n_permutations):\n",
    "    ## pre-iteration calculations to prepare each worker\n",
    "    # load full tree\n",
    "    loaded_tree = vt.loadTree(tree_path)\n",
    "    loaded_tree.prune_taxa_with_labels(prune_labels)\n",
    "\n",
    "    # get node dicts for each lineage\n",
    "    node_df_dict = {\n",
    "        k: po.getNodeTable(tree=loaded_tree, target_node_label=v)\n",
    "        for k, v in lineage_seeds.items()}\n",
    "\n",
    "    # load in variant & event vcbs\n",
    "    event_vcb = vt.CallBytestream(event_vcb_path, True, False)\n",
    "    \n",
    "    # load in annotations\n",
    "    annotation_df = pd.read_csv(\n",
    "        annotations_path,\n",
    "        index_col=['pos', 'ref', 'alt'])\n",
    "\n",
    "    # load statistic dictionaries\n",
    "    statistic_dict = {\n",
    "        key: pickle.load(open(value, 'rb')) for key, value in statistic_list.items()}\n",
    "\n",
    "    ## iterate assigned products of gene x lineage x statistic\n",
    "    ind_nodes_dict = {}  # register (geneid, lineage) pairs that have already run on the worker on the fly\n",
    "    statistic_output_list = []  # output list\n",
    "    for geneid, lineage, statistic in joblist:\n",
    "        try:  # try to avoid re-running same gene\n",
    "            ind_nodes = ind_nodes_dict[(geneid, lineage)]\n",
    "        except KeyError:  # otherwise re-run and save\n",
    "            node_set = set(  # define node set based on subtree\n",
    "                node_df_dict[lineage].head_node)\n",
    "            ind_nodes = po.getGeneAltEventNodes(\n",
    "                geneid, event_vcb, annotation_df, None, node_set)\n",
    "            ind_nodes_dict[(geneid, lineage)] = ind_nodes\n",
    "        statistic_output = po.testMeanStatistic(\n",
    "            ind_nodes, statistic_dict[statistic], node_df_dict[lineage],\n",
    "            n_permutations=n_permutations, missing_value='pass')\n",
    "        statistic_output.name = (geneid, statistic, lineage)\n",
    "        statistic_output_list.append(statistic_output)\n",
    "    return pd.DataFrame(statistic_output_list)"
   ]
  },
  {
   "cell_type": "code",
   "execution_count": 14,
   "id": "46ffaaad-e48e-413a-9902-bbc8ab0c4348",
   "metadata": {},
   "outputs": [
    {
     "name": "stdout",
     "output_type": "stream",
     "text": [
      "2025-04-14 10:16:34 - Launching LocalCluster client (10 workers)\n"
     ]
    },
    {
     "name": "stderr",
     "output_type": "stream",
     "text": [
      "100%|██████████████████████████████████████████████████████████████████████████████████████████████████████████████████| 10/10 [00:41<00:00,  4.18s/it]\n",
      "2025-04-14 10:17:17,078 - distributed.worker - ERROR - Failed to communicate with scheduler during heartbeat.\n",
      "Traceback (most recent call last):\n",
      "  File \"/Users/pculviner/miniforge3/envs/general_py/lib/python3.12/site-packages/distributed/comm/tcp.py\", line 226, in read\n",
      "    frames_nosplit_nbytes_bin = await stream.read_bytes(fmt_size)\n",
      "                                ^^^^^^^^^^^^^^^^^^^^^^^^^^^^^^^^^\n",
      "tornado.iostream.StreamClosedError: Stream is closed\n",
      "\n",
      "The above exception was the direct cause of the following exception:\n",
      "\n",
      "Traceback (most recent call last):\n",
      "  File \"/Users/pculviner/miniforge3/envs/general_py/lib/python3.12/site-packages/distributed/worker.py\", line 1269, in heartbeat\n",
      "    response = await retry_operation(\n",
      "               ^^^^^^^^^^^^^^^^^^^^^^\n",
      "  File \"/Users/pculviner/miniforge3/envs/general_py/lib/python3.12/site-packages/distributed/utils_comm.py\", line 416, in retry_operation\n",
      "    return await retry(\n",
      "           ^^^^^^^^^^^^\n",
      "  File \"/Users/pculviner/miniforge3/envs/general_py/lib/python3.12/site-packages/distributed/utils_comm.py\", line 395, in retry\n",
      "    return await coro()\n",
      "           ^^^^^^^^^^^^\n",
      "  File \"/Users/pculviner/miniforge3/envs/general_py/lib/python3.12/site-packages/distributed/core.py\", line 1259, in send_recv_from_rpc\n",
      "    return await send_recv(comm=comm, op=key, **kwargs)\n",
      "           ^^^^^^^^^^^^^^^^^^^^^^^^^^^^^^^^^^^^^^^^^^^^\n",
      "  File \"/Users/pculviner/miniforge3/envs/general_py/lib/python3.12/site-packages/distributed/core.py\", line 1018, in send_recv\n",
      "    response = await comm.read(deserializers=deserializers)\n",
      "               ^^^^^^^^^^^^^^^^^^^^^^^^^^^^^^^^^^^^^^^^^^^^\n",
      "  File \"/Users/pculviner/miniforge3/envs/general_py/lib/python3.12/site-packages/distributed/comm/tcp.py\", line 237, in read\n",
      "    convert_stream_closed_error(self, e)\n",
      "  File \"/Users/pculviner/miniforge3/envs/general_py/lib/python3.12/site-packages/distributed/comm/tcp.py\", line 137, in convert_stream_closed_error\n",
      "    raise CommClosedError(f\"in {obj}: {exc}\") from exc\n",
      "distributed.comm.core.CommClosedError: in <TCP (closed) ConnectionPool.heartbeat_worker local=tcp://127.0.0.1:58157 remote=tcp://127.0.0.1:58087>: Stream is closed\n"
     ]
    }
   ],
   "source": [
    "# define jobs and split work\n",
    "all_jobs = list(product(genes_list, lineage_seeds.keys(), statistic_list.keys()))\n",
    "# np.random.shuffle(all_jobs)\n",
    "n_workers = 10\n",
    "n_jobs = 10\n",
    "\n",
    "split_jobs = np.array_split(all_jobs, n_jobs)\n",
    "\n",
    "\n",
    "# start client\n",
    "client = startClient(\n",
    "    n_workers=n_workers,\n",
    "    use_local=True,\n",
    "    # use_slurm=True,\n",
    "    # log_dir='.',\n",
    "    # queue='sapphire',\n",
    "    # process_per_node=5,\n",
    "    # cores_per_process=1,\n",
    "    # memory_per_process='4GB',\n",
    "    # walltime='8:00:00',\n",
    "    dashboard_address=':10000',)\n",
    "\n",
    "futures = []\n",
    "for job in split_jobs:\n",
    "    futures.append(client.submit(\n",
    "        geneStatisticAssoc,\n",
    "        job,\n",
    "        tree_path,\n",
    "        prune_labels,\n",
    "        lineage_seeds,\n",
    "        statistic_list,\n",
    "        event_vcb_path,\n",
    "        n_permutations))\n",
    "\n",
    "outputs_list = []\n",
    "for f in tqdm(futures):\n",
    "    outputs_list.append(client.gather(f))\n",
    "    f.release()\n",
    "outputs_df = pd.concat(outputs_list)\n",
    "client.shutdown()"
   ]
  },
  {
   "cell_type": "code",
   "execution_count": 15,
   "id": "2b23deae-4490-4dee-9631-918f0786ae7c",
   "metadata": {},
   "outputs": [],
   "source": [
    "combined_outputs.append(outputs_df)"
   ]
  },
  {
   "cell_type": "markdown",
   "id": "d0867eb3-2c13-456f-a75a-994ea9e0e476",
   "metadata": {},
   "source": [
    "**EspA upstream**"
   ]
  },
  {
   "cell_type": "code",
   "execution_count": 16,
   "id": "41623900-6b53-4ad8-bf52-32c7b5491482",
   "metadata": {},
   "outputs": [],
   "source": [
    "annotated_calls_path = 'datasets/variants/global/241104_event_calls.vcb/event_calls.genomic.csv'\n",
    "\n",
    "anno_calls = pd.read_csv(\n",
    "    annotated_calls_path, index_col=['pos', 'ref', 'alt'])\n",
    "# get position vector\n",
    "pos_vector = anno_calls.index.get_level_values('pos')\n",
    "\n",
    "# generate index lists of variants for the sites of interest\n",
    "target_indexes = {\n",
    "    'SNP_siteA': anno_calls.index[np.all([\n",
    "        pos_vector <= 4057190 + 5,\n",
    "        pos_vector >= 4057190 - 5], axis=0)],\n",
    "    'SNP_siteB': anno_calls.index[np.all([\n",
    "        pos_vector <= 4057367 + 5,\n",
    "        pos_vector >= 4057367 - 5], axis=0)],\n",
    "    'DEL_A': anno_calls.index[\n",
    "        pos_vector == 4056663],\n",
    "    'DEL_B': anno_calls.index[\n",
    "        pos_vector == 4056945]}\n",
    "\n",
    "flat_indexes = np.concatenate(\n",
    "    [idx for idx in target_indexes.values()])\n",
    "anno_calls.loc[\n",
    "    flat_indexes].to_csv('tmp/espACD_upstream_variants.tmp.csv')"
   ]
  },
  {
   "cell_type": "code",
   "execution_count": 17,
   "id": "757cedc6-bdfa-4aee-b8e6-66b729e15902",
   "metadata": {},
   "outputs": [],
   "source": [
    "tree_path = 'datasets/variants/global/241104_event_calls.vcb/tree.nwk'\n",
    "prune_labels = ['canettii']\n",
    "lineage_seeds = {\n",
    "    'L1': 'internal4119',\n",
    "    'L2': 'internal26428',\n",
    "    'L4': 'internal55169'}\n",
    "\n",
    "ind_variants_list = {\n",
    "    'espA up': 'tmp/espACD_upstream_variants.tmp.csv'}\n",
    "\n",
    "statistic_list = {\n",
    "    'TBL': 'tmp/mean_terminal_branch_lengths.global.pkl',}\n",
    "    \n",
    "event_vcb_path = 'datasets/variants/global/241104_event_calls.vcb'\n",
    "n_permutations = 100000\n",
    "\n",
    "@subproc\n",
    "def targetStatisticAssoc(\n",
    "        joblist,\n",
    "        tree_path,\n",
    "        prune_labels,\n",
    "        lineage_seeds,\n",
    "        ind_variants_list,\n",
    "        statistic_list,\n",
    "        event_vcb_path,\n",
    "        n_permutations):\n",
    "    ## pre-iteration calculations to prepare each worker\n",
    "    # load full tree\n",
    "    loaded_tree = vt.loadTree(tree_path)\n",
    "    loaded_tree.prune_taxa_with_labels(prune_labels)\n",
    "\n",
    "    # get node dicts for each lineage\n",
    "    node_df_dict = {\n",
    "        k: po.getNodeTable(tree=loaded_tree, target_node_label=v)\n",
    "        for k, v in lineage_seeds.items()}\n",
    "\n",
    "    # load in variant & event vcbs\n",
    "    event_vcb = vt.CallBytestream(event_vcb_path, True, False)\n",
    "    \n",
    "    # load in annotations\n",
    "    annotation_df = pd.read_csv(\n",
    "        annotations_path,\n",
    "        index_col=['pos', 'ref', 'alt'])\n",
    "\n",
    "    # load statistic dictionaries\n",
    "    statistic_dict = {\n",
    "        key: pickle.load(open(value, 'rb')) for key, value in statistic_list.items()}\n",
    "\n",
    "    ## iterate assigned products of gene x lineage x statistic\n",
    "    ind_nodes_dict = {}  # register (path, lineage) pairs that have already run on the worker on the fly\n",
    "    statistic_output_list = []  # output list\n",
    "    for target_var, lineage, statistic in joblist:\n",
    "        try:  # try to avoid re-running same gene\n",
    "            ind_nodes = ind_nodes_dict[(target_var, lineage)]\n",
    "        except KeyError:  # otherwise re-run and save\n",
    "            node_set = set(  # define node set based on subtree\n",
    "                node_df_dict[lineage].head_node)\n",
    "            ind_variants_df = pd.read_csv(\n",
    "                ind_variants_list[target_var], index_col=['pos', 'ref', 'alt'])\n",
    "            ind_nodes = po.getVariantAltEventNodes(\n",
    "                ind_variants_df, event_vcb, node_set)\n",
    "            ind_nodes_dict[(target_var, lineage)] = ind_nodes\n",
    "        statistic_output = po.testMeanStatistic(\n",
    "            ind_nodes, statistic_dict[statistic], node_df_dict[lineage],\n",
    "            n_permutations=n_permutations, missing_value='pass')\n",
    "        statistic_output.name = (target_var, statistic, lineage)\n",
    "        statistic_output_list.append(statistic_output)\n",
    "    return pd.DataFrame(statistic_output_list)"
   ]
  },
  {
   "cell_type": "code",
   "execution_count": 18,
   "id": "8bc9f346-3742-479d-9ab5-ddfa48f44980",
   "metadata": {},
   "outputs": [
    {
     "name": "stdout",
     "output_type": "stream",
     "text": [
      "2025-04-14 10:17:50 - Launching LocalCluster client (5 workers)\n"
     ]
    },
    {
     "name": "stderr",
     "output_type": "stream",
     "text": [
      "100%|████████████████████████████████████████████████████████████████████████████████████████████████████████████████████| 5/5 [00:30<00:00,  6.15s/it]\n"
     ]
    }
   ],
   "source": [
    "# define jobs and split work\n",
    "all_jobs = list(product(ind_variants_list.keys(), lineage_seeds.keys(), statistic_list.keys()))\n",
    "# np.random.shuffle(all_jobs)\n",
    "n_workers = 5\n",
    "n_jobs = 5\n",
    "\n",
    "split_jobs = np.array_split(all_jobs, n_jobs)\n",
    "\n",
    "\n",
    "# start client\n",
    "client = startClient(\n",
    "    n_workers=n_workers,\n",
    "    use_local=True,\n",
    "    # use_slurm=True,\n",
    "    # log_dir='.',\n",
    "    # queue='sapphire',\n",
    "    # process_per_node=5,\n",
    "    # cores_per_process=1,\n",
    "    # memory_per_process='4GB',\n",
    "    # walltime='8:00:00',\n",
    "    dashboard_address=':10000',)\n",
    "\n",
    "futures = []\n",
    "for job in split_jobs:\n",
    "    futures.append(client.submit(\n",
    "        targetStatisticAssoc,\n",
    "        job,\n",
    "        tree_path,\n",
    "        prune_labels,\n",
    "        lineage_seeds,\n",
    "        ind_variants_list,\n",
    "        statistic_list,\n",
    "        event_vcb_path,\n",
    "        n_permutations))\n",
    "\n",
    "outputs_list = []\n",
    "for f in tqdm(futures):\n",
    "    outputs_list.append(client.gather(f))\n",
    "    f.release()\n",
    "outputs_df = pd.concat(outputs_list)\n",
    "client.shutdown()"
   ]
  },
  {
   "cell_type": "code",
   "execution_count": 19,
   "id": "d435d42b-7475-4892-8399-f11ac849b343",
   "metadata": {},
   "outputs": [],
   "source": [
    "combined_outputs.append(outputs_df)"
   ]
  },
  {
   "cell_type": "code",
   "execution_count": 20,
   "id": "20c8cda3-0f15-4343-acde-f8c46fed0373",
   "metadata": {},
   "outputs": [],
   "source": [
    "combined_df = pd.concat(\n",
    "    combined_outputs)\n",
    "combined_df.index.names = ('site', 'metric', 'lineage')\n",
    "combined_df.sort_index()\n",
    "combined_df.index = combined_df.index.droplevel('metric')\n",
    "combined_df.to_csv('tmp/transmission.full_tree.csv')"
   ]
  },
  {
   "cell_type": "code",
   "execution_count": null,
   "id": "5e069c15-4b3e-4310-8acb-10719c9fecd6",
   "metadata": {},
   "outputs": [],
   "source": []
  },
  {
   "cell_type": "markdown",
   "id": "e690014d-187c-45d1-9259-ffa1b2d94026",
   "metadata": {
    "jp-MarkdownHeadingCollapsed": true
   },
   "source": [
    "### Abx Resistant Isolate Tree"
   ]
  },
  {
   "cell_type": "code",
   "execution_count": 21,
   "id": "762f3061-1a95-4122-b577-44d876125743",
   "metadata": {},
   "outputs": [],
   "source": [
    "# storage of all outputs\n",
    "combined_outputs = []"
   ]
  },
  {
   "cell_type": "markdown",
   "id": "1418cdfe-c6d8-4e27-8001-72451e9a36ec",
   "metadata": {},
   "source": [
    "**WhiB6 and SlfR**"
   ]
  },
  {
   "cell_type": "code",
   "execution_count": 22,
   "id": "a67d2f07-370b-4015-8109-3c5988b0dbd6",
   "metadata": {},
   "outputs": [],
   "source": [
    "annotation_df = pd.read_csv(\n",
    "    'datasets/variants/global/250216_abxres_event_calls.vcb/event_calls.annotated.csv',\n",
    "    index_col=['pos', 'ref', 'alt'])\n",
    "\n",
    "deleterious_settings = {\n",
    "    'Annotation': lambda x: any([atype in str(x) for atype in [\n",
    "        'frameshift_variant',\n",
    "        'stop_gained',\n",
    "        'start_lost']]),\n",
    "    'SIFT_score': lambda x: float(x) < 0.05,}  # predicted deleterious via SIFT\n",
    "\n",
    "deleterious_annotation_df = filterDataFrame(\n",
    "    annotation_df, function_dict=deleterious_settings)\n",
    "\n",
    "miss_settings = {\n",
    "    'miss_count': lambda x: float(x) < 55260 * .05,}\n",
    "pass_filters_df = filterDataFrame(\n",
    "    deleterious_annotation_df, function_dict=miss_settings)\n",
    "\n",
    "pass_filters_df.to_csv('tmp/deleterious_annotations.tmp.csv')"
   ]
  },
  {
   "cell_type": "code",
   "execution_count": 23,
   "id": "85ef1dcd-87ab-466b-8b24-33bfb7f18177",
   "metadata": {},
   "outputs": [],
   "source": [
    "tree_path = 'datasets/variants/global/250216_abxres_event_calls.vcb/tree.nwk'\n",
    "prune_labels = ['canettii']\n",
    "lineage_seeds = {\n",
    "    'L1': 'internal1132',\n",
    "    'L2': 'internal14424',\n",
    "    'L4': 'internal24325'}\n",
    "\n",
    "\n",
    "genes_list = ['Rv0042c', 'Rv3862c']\n",
    "\n",
    "statistic_list = {\n",
    "    'TBL': 'tmp/mean_terminal_branch_lengths.abxres.pkl',}\n",
    "    \n",
    "annotations_path = 'tmp/deleterious_annotations.tmp.csv'\n",
    "event_vcb_path = 'datasets/variants/global/250216_abxres_event_calls.vcb'\n",
    "n_permutations = 100000\n",
    "\n",
    "@subproc\n",
    "def geneStatisticAssoc(\n",
    "        joblist,\n",
    "        tree_path,\n",
    "        prune_labels,\n",
    "        lineage_seeds,\n",
    "        statistic_list,\n",
    "        event_vcb_path,\n",
    "        n_permutations):\n",
    "    ## pre-iteration calculations to prepare each worker\n",
    "    # load full tree\n",
    "    loaded_tree = vt.loadTree(tree_path)\n",
    "    loaded_tree.prune_taxa_with_labels(prune_labels)\n",
    "\n",
    "    # get node dicts for each lineage\n",
    "    node_df_dict = {\n",
    "        k: po.getNodeTable(tree=loaded_tree, target_node_label=v)\n",
    "        for k, v in lineage_seeds.items()}\n",
    "\n",
    "    # load in variant & event vcbs\n",
    "    event_vcb = vt.CallBytestream(event_vcb_path, True, False)\n",
    "    \n",
    "    # load in annotations\n",
    "    annotation_df = pd.read_csv(\n",
    "        annotations_path,\n",
    "        index_col=['pos', 'ref', 'alt'])\n",
    "\n",
    "    # load statistic dictionaries\n",
    "    statistic_dict = {\n",
    "        key: pickle.load(open(value, 'rb')) for key, value in statistic_list.items()}\n",
    "\n",
    "    ## iterate assigned products of gene x lineage x statistic\n",
    "    ind_nodes_dict = {}  # register (geneid, lineage) pairs that have already run on the worker on the fly\n",
    "    statistic_output_list = []  # output list\n",
    "    for geneid, lineage, statistic in joblist:\n",
    "        try:  # try to avoid re-running same gene\n",
    "            ind_nodes = ind_nodes_dict[(geneid, lineage)]\n",
    "        except KeyError:  # otherwise re-run and save\n",
    "            node_set = set(  # define node set based on subtree\n",
    "                node_df_dict[lineage].head_node)\n",
    "            ind_nodes = po.getGeneAltEventNodes(\n",
    "                geneid, event_vcb, annotation_df, None, node_set)\n",
    "            ind_nodes_dict[(geneid, lineage)] = ind_nodes\n",
    "        statistic_output = po.testMeanStatistic(\n",
    "            ind_nodes, statistic_dict[statistic], node_df_dict[lineage],\n",
    "            n_permutations=n_permutations, missing_value='pass')\n",
    "        statistic_output.name = (geneid, statistic, lineage)\n",
    "        statistic_output_list.append(statistic_output)\n",
    "    return pd.DataFrame(statistic_output_list)"
   ]
  },
  {
   "cell_type": "code",
   "execution_count": 24,
   "id": "80cf827f-56bf-4354-b256-a5238253cd5a",
   "metadata": {},
   "outputs": [
    {
     "name": "stdout",
     "output_type": "stream",
     "text": [
      "2025-04-14 10:27:16 - Launching LocalCluster client (10 workers)\n"
     ]
    },
    {
     "name": "stderr",
     "output_type": "stream",
     "text": [
      "100%|██████████████████████████████████████████████████████████████████████████████████████████████████████████████████| 10/10 [00:18<00:00,  1.85s/it]\n"
     ]
    }
   ],
   "source": [
    "# define jobs and split work\n",
    "all_jobs = list(product(genes_list, lineage_seeds.keys(), statistic_list.keys()))\n",
    "# np.random.shuffle(all_jobs)\n",
    "n_workers = 10\n",
    "n_jobs = 10\n",
    "\n",
    "split_jobs = np.array_split(all_jobs, n_jobs)\n",
    "\n",
    "\n",
    "# start client\n",
    "client = startClient(\n",
    "    n_workers=n_workers,\n",
    "    use_local=True,\n",
    "    # use_slurm=True,\n",
    "    # log_dir='.',\n",
    "    # queue='sapphire',\n",
    "    # process_per_node=5,\n",
    "    # cores_per_process=1,\n",
    "    # memory_per_process='4GB',\n",
    "    # walltime='8:00:00',\n",
    "    dashboard_address=':10000',)\n",
    "\n",
    "futures = []\n",
    "for job in split_jobs:\n",
    "    futures.append(client.submit(\n",
    "        geneStatisticAssoc,\n",
    "        job,\n",
    "        tree_path,\n",
    "        prune_labels,\n",
    "        lineage_seeds,\n",
    "        statistic_list,\n",
    "        event_vcb_path,\n",
    "        n_permutations))\n",
    "\n",
    "outputs_list = []\n",
    "for f in tqdm(futures):\n",
    "    outputs_list.append(client.gather(f))\n",
    "    f.release()\n",
    "outputs_df = pd.concat(outputs_list)\n",
    "client.shutdown()"
   ]
  },
  {
   "cell_type": "code",
   "execution_count": 25,
   "id": "cc84e3eb-a9b1-4b74-8642-4e2ecbf16646",
   "metadata": {},
   "outputs": [],
   "source": [
    "combined_outputs.append(outputs_df)"
   ]
  },
  {
   "cell_type": "markdown",
   "id": "7a2d4656-27e1-4770-a525-49662b1f8ef0",
   "metadata": {},
   "source": [
    "**EspA upstream**"
   ]
  },
  {
   "cell_type": "code",
   "execution_count": 26,
   "id": "2c5a4596-4b36-435b-ad51-cf9c8cef8e27",
   "metadata": {},
   "outputs": [],
   "source": [
    "annotated_calls_path = 'datasets/variants/global/250216_abxres_event_calls.vcb/event_calls.genomic.csv'\n",
    "\n",
    "anno_calls = pd.read_csv(\n",
    "    annotated_calls_path, index_col=['pos', 'ref', 'alt'])\n",
    "# get position vector\n",
    "pos_vector = anno_calls.index.get_level_values('pos')\n",
    "\n",
    "# generate index lists of variants for the sites of interest\n",
    "target_indexes = {\n",
    "    'SNP_siteA': anno_calls.index[np.all([\n",
    "        pos_vector <= 4057190 + 5,\n",
    "        pos_vector >= 4057190 - 5], axis=0)],\n",
    "    'SNP_siteB': anno_calls.index[np.all([\n",
    "        pos_vector <= 4057367 + 5,\n",
    "        pos_vector >= 4057367 - 5], axis=0)],\n",
    "    'DEL_A': anno_calls.index[\n",
    "        pos_vector == 4056663],\n",
    "    'DEL_B': anno_calls.index[\n",
    "        pos_vector == 4056945]}\n",
    "\n",
    "flat_indexes = np.concatenate(\n",
    "    [idx for idx in target_indexes.values()])\n",
    "anno_calls.loc[\n",
    "    flat_indexes].to_csv('tmp/espACD_upstream_variants.tmp.csv')"
   ]
  },
  {
   "cell_type": "code",
   "execution_count": 27,
   "id": "d3baf4e8-6c48-45a0-a988-ad32ae5bd79e",
   "metadata": {},
   "outputs": [],
   "source": [
    "tree_path = 'datasets/variants/global/250216_abxres_event_calls.vcb/tree.nwk'\n",
    "prune_labels = ['canettii']\n",
    "lineage_seeds = {\n",
    "    'L1': 'internal1132',\n",
    "    'L2': 'internal14424',\n",
    "    'L4': 'internal24325'}\n",
    "\n",
    "ind_variants_list = {\n",
    "    'espA up': 'tmp/espACD_upstream_variants.tmp.csv'}\n",
    "\n",
    "statistic_list = {\n",
    "    'TBL': 'tmp/mean_terminal_branch_lengths.abxres.pkl',}\n",
    "    \n",
    "event_vcb_path = 'datasets/variants/global/250216_abxres_event_calls.vcb'\n",
    "n_permutations = 100000\n",
    "\n",
    "@subproc\n",
    "def targetStatisticAssoc(\n",
    "        joblist,\n",
    "        tree_path,\n",
    "        prune_labels,\n",
    "        lineage_seeds,\n",
    "        ind_variants_list,\n",
    "        statistic_list,\n",
    "        event_vcb_path,\n",
    "        n_permutations):\n",
    "    ## pre-iteration calculations to prepare each worker\n",
    "    # load full tree\n",
    "    loaded_tree = vt.loadTree(tree_path)\n",
    "    loaded_tree.prune_taxa_with_labels(prune_labels)\n",
    "\n",
    "    # get node dicts for each lineage\n",
    "    node_df_dict = {\n",
    "        k: po.getNodeTable(tree=loaded_tree, target_node_label=v)\n",
    "        for k, v in lineage_seeds.items()}\n",
    "\n",
    "    # load in variant & event vcbs\n",
    "    event_vcb = vt.CallBytestream(event_vcb_path, True, False)\n",
    "    \n",
    "    # load in annotations\n",
    "    annotation_df = pd.read_csv(\n",
    "        annotations_path,\n",
    "        index_col=['pos', 'ref', 'alt'])\n",
    "\n",
    "    # load statistic dictionaries\n",
    "    statistic_dict = {\n",
    "        key: pickle.load(open(value, 'rb')) for key, value in statistic_list.items()}\n",
    "\n",
    "    ## iterate assigned products of gene x lineage x statistic\n",
    "    ind_nodes_dict = {}  # register (path, lineage) pairs that have already run on the worker on the fly\n",
    "    statistic_output_list = []  # output list\n",
    "    for target_var, lineage, statistic in joblist:\n",
    "        try:  # try to avoid re-running same gene\n",
    "            ind_nodes = ind_nodes_dict[(target_var, lineage)]\n",
    "        except KeyError:  # otherwise re-run and save\n",
    "            node_set = set(  # define node set based on subtree\n",
    "                node_df_dict[lineage].head_node)\n",
    "            ind_variants_df = pd.read_csv(\n",
    "                ind_variants_list[target_var], index_col=['pos', 'ref', 'alt'])\n",
    "            ind_nodes = po.getVariantAltEventNodes(\n",
    "                ind_variants_df, event_vcb, node_set)\n",
    "            ind_nodes_dict[(target_var, lineage)] = ind_nodes\n",
    "        statistic_output = po.testMeanStatistic(\n",
    "            ind_nodes, statistic_dict[statistic], node_df_dict[lineage],\n",
    "            n_permutations=n_permutations, missing_value='pass')\n",
    "        statistic_output.name = (target_var, statistic, lineage)\n",
    "        statistic_output_list.append(statistic_output)\n",
    "    return pd.DataFrame(statistic_output_list)"
   ]
  },
  {
   "cell_type": "code",
   "execution_count": 28,
   "id": "25e8284d-18df-42d4-be13-62b8c48fca1a",
   "metadata": {},
   "outputs": [
    {
     "name": "stdout",
     "output_type": "stream",
     "text": [
      "2025-04-14 10:28:09 - Launching LocalCluster client (5 workers)\n"
     ]
    },
    {
     "name": "stderr",
     "output_type": "stream",
     "text": [
      "100%|████████████████████████████████████████████████████████████████████████████████████████████████████████████████████| 5/5 [00:13<00:00,  2.67s/it]\n"
     ]
    }
   ],
   "source": [
    "# define jobs and split work\n",
    "all_jobs = list(product(ind_variants_list.keys(), lineage_seeds.keys(), statistic_list.keys()))\n",
    "# np.random.shuffle(all_jobs)\n",
    "n_workers = 5\n",
    "n_jobs = 5\n",
    "\n",
    "split_jobs = np.array_split(all_jobs, n_jobs)\n",
    "\n",
    "\n",
    "# start client\n",
    "client = startClient(\n",
    "    n_workers=n_workers,\n",
    "    use_local=True,\n",
    "    # use_slurm=True,\n",
    "    # log_dir='.',\n",
    "    # queue='sapphire',\n",
    "    # process_per_node=5,\n",
    "    # cores_per_process=1,\n",
    "    # memory_per_process='4GB',\n",
    "    # walltime='8:00:00',\n",
    "    dashboard_address=':10000',)\n",
    "\n",
    "futures = []\n",
    "for job in split_jobs:\n",
    "    futures.append(client.submit(\n",
    "        targetStatisticAssoc,\n",
    "        job,\n",
    "        tree_path,\n",
    "        prune_labels,\n",
    "        lineage_seeds,\n",
    "        ind_variants_list,\n",
    "        statistic_list,\n",
    "        event_vcb_path,\n",
    "        n_permutations))\n",
    "\n",
    "outputs_list = []\n",
    "for f in tqdm(futures):\n",
    "    outputs_list.append(client.gather(f))\n",
    "    f.release()\n",
    "outputs_df = pd.concat(outputs_list)\n",
    "client.shutdown()"
   ]
  },
  {
   "cell_type": "code",
   "execution_count": 29,
   "id": "94912912-b1de-4821-9e2b-83d90ab1d965",
   "metadata": {},
   "outputs": [],
   "source": [
    "combined_outputs.append(outputs_df)"
   ]
  },
  {
   "cell_type": "code",
   "execution_count": 30,
   "id": "e087bc8b-d58d-481f-a2ad-31a492e01fdc",
   "metadata": {},
   "outputs": [],
   "source": [
    "combined_df = pd.concat(\n",
    "    combined_outputs)\n",
    "combined_df.index.names = ('site', 'metric', 'lineage')\n",
    "combined_df.sort_index()\n",
    "combined_df.index = combined_df.index.droplevel('metric')\n",
    "combined_df.to_csv('tmp/transmission.resistant_tree.csv')"
   ]
  },
  {
   "cell_type": "markdown",
   "id": "229faa10-2e38-45a8-b82e-4ca8f371cb80",
   "metadata": {
    "jp-MarkdownHeadingCollapsed": true
   },
   "source": [
    "### Abx Sensitive Isolate Tree"
   ]
  },
  {
   "cell_type": "code",
   "execution_count": 31,
   "id": "ae8a1f2b-d56f-4812-9e37-266e23b2fece",
   "metadata": {},
   "outputs": [],
   "source": [
    "# storage of all outputs\n",
    "combined_outputs = []"
   ]
  },
  {
   "cell_type": "markdown",
   "id": "b5a49dd8-40ae-4cf2-951a-8b9c399db14c",
   "metadata": {},
   "source": [
    "**WhiB6 and SlfR**"
   ]
  },
  {
   "cell_type": "code",
   "execution_count": 32,
   "id": "2fea63d4-5b2f-4906-ae35-b909b15c2f71",
   "metadata": {},
   "outputs": [],
   "source": [
    "annotation_df = pd.read_csv(\n",
    "    'datasets/variants/global/250209_abxsen_event_calls.vcb/event_calls.annotated.csv',\n",
    "    index_col=['pos', 'ref', 'alt'])\n",
    "\n",
    "deleterious_settings = {\n",
    "    'Annotation': lambda x: any([atype in str(x) for atype in [\n",
    "        'frameshift_variant',\n",
    "        'stop_gained',\n",
    "        'start_lost']]),\n",
    "    'SIFT_score': lambda x: float(x) < 0.05,}  # predicted deleterious via SIFT\n",
    "\n",
    "deleterious_annotation_df = filterDataFrame(\n",
    "    annotation_df, function_dict=deleterious_settings)\n",
    "\n",
    "miss_settings = {\n",
    "    'miss_count': lambda x: float(x) < 55260 * .05,}\n",
    "pass_filters_df = filterDataFrame(\n",
    "    deleterious_annotation_df, function_dict=miss_settings)\n",
    "\n",
    "pass_filters_df.to_csv('tmp/deleterious_annotations.tmp.csv')"
   ]
  },
  {
   "cell_type": "code",
   "execution_count": 33,
   "id": "902a33ba-1efb-4d51-96d0-70d5b5e5d2c7",
   "metadata": {},
   "outputs": [],
   "source": [
    "tree_path = 'datasets/variants/global/250209_abxsen_event_calls.vcb/tree.nwk'\n",
    "prune_labels = ['canettii']\n",
    "lineage_seeds = {\n",
    "    'L1': 'internal2986',\n",
    "    'L2': 'internal12001',\n",
    "    'L4': 'internal30842'}\n",
    "\n",
    "genes_list = ['Rv0042c', 'Rv3862c']\n",
    "\n",
    "statistic_list = {\n",
    "    'TBL': 'tmp/mean_terminal_branch_lengths.abxsen.pkl',}\n",
    "    \n",
    "annotations_path = 'tmp/deleterious_annotations.tmp.csv'\n",
    "event_vcb_path = 'datasets/variants/global/250209_abxsen_event_calls.vcb'\n",
    "n_permutations = 100000\n",
    "\n",
    "@subproc\n",
    "def geneStatisticAssoc(\n",
    "        joblist,\n",
    "        tree_path,\n",
    "        prune_labels,\n",
    "        lineage_seeds,\n",
    "        statistic_list,\n",
    "        event_vcb_path,\n",
    "        n_permutations):\n",
    "    ## pre-iteration calculations to prepare each worker\n",
    "    # load full tree\n",
    "    loaded_tree = vt.loadTree(tree_path)\n",
    "    loaded_tree.prune_taxa_with_labels(prune_labels)\n",
    "\n",
    "    # get node dicts for each lineage\n",
    "    node_df_dict = {\n",
    "        k: po.getNodeTable(tree=loaded_tree, target_node_label=v)\n",
    "        for k, v in lineage_seeds.items()}\n",
    "\n",
    "    # load in variant & event vcbs\n",
    "    event_vcb = vt.CallBytestream(event_vcb_path, True, False)\n",
    "    \n",
    "    # load in annotations\n",
    "    annotation_df = pd.read_csv(\n",
    "        annotations_path,\n",
    "        index_col=['pos', 'ref', 'alt'])\n",
    "\n",
    "    # load statistic dictionaries\n",
    "    statistic_dict = {\n",
    "        key: pickle.load(open(value, 'rb')) for key, value in statistic_list.items()}\n",
    "\n",
    "    ## iterate assigned products of gene x lineage x statistic\n",
    "    ind_nodes_dict = {}  # register (geneid, lineage) pairs that have already run on the worker on the fly\n",
    "    statistic_output_list = []  # output list\n",
    "    for geneid, lineage, statistic in joblist:\n",
    "        try:  # try to avoid re-running same gene\n",
    "            ind_nodes = ind_nodes_dict[(geneid, lineage)]\n",
    "        except KeyError:  # otherwise re-run and save\n",
    "            node_set = set(  # define node set based on subtree\n",
    "                node_df_dict[lineage].head_node)\n",
    "            ind_nodes = po.getGeneAltEventNodes(\n",
    "                geneid, event_vcb, annotation_df, None, node_set)\n",
    "            ind_nodes_dict[(geneid, lineage)] = ind_nodes\n",
    "        statistic_output = po.testMeanStatistic(\n",
    "            ind_nodes, statistic_dict[statistic], node_df_dict[lineage],\n",
    "            n_permutations=n_permutations, missing_value='pass')\n",
    "        statistic_output.name = (geneid, statistic, lineage)\n",
    "        statistic_output_list.append(statistic_output)\n",
    "    return pd.DataFrame(statistic_output_list)"
   ]
  },
  {
   "cell_type": "code",
   "execution_count": 34,
   "id": "1c3993a7-acf1-4825-babf-32fdf5c73fb2",
   "metadata": {},
   "outputs": [
    {
     "name": "stdout",
     "output_type": "stream",
     "text": [
      "2025-04-14 10:32:20 - Launching LocalCluster client (10 workers)\n"
     ]
    },
    {
     "name": "stderr",
     "output_type": "stream",
     "text": [
      "100%|██████████████████████████████████████████████████████████████████████████████████████████████████████████████████| 10/10 [00:26<00:00,  2.61s/it]\n"
     ]
    }
   ],
   "source": [
    "# define jobs and split work\n",
    "all_jobs = list(product(genes_list, lineage_seeds.keys(), statistic_list.keys()))\n",
    "# np.random.shuffle(all_jobs)\n",
    "n_workers = 10\n",
    "n_jobs = 10\n",
    "\n",
    "split_jobs = np.array_split(all_jobs, n_jobs)\n",
    "\n",
    "\n",
    "# start client\n",
    "client = startClient(\n",
    "    n_workers=n_workers,\n",
    "    use_local=True,\n",
    "    # use_slurm=True,\n",
    "    # log_dir='.',\n",
    "    # queue='sapphire',\n",
    "    # process_per_node=5,\n",
    "    # cores_per_process=1,\n",
    "    # memory_per_process='4GB',\n",
    "    # walltime='8:00:00',\n",
    "    dashboard_address=':10000',)\n",
    "\n",
    "futures = []\n",
    "for job in split_jobs:\n",
    "    futures.append(client.submit(\n",
    "        geneStatisticAssoc,\n",
    "        job,\n",
    "        tree_path,\n",
    "        prune_labels,\n",
    "        lineage_seeds,\n",
    "        statistic_list,\n",
    "        event_vcb_path,\n",
    "        n_permutations))\n",
    "\n",
    "outputs_list = []\n",
    "for f in tqdm(futures):\n",
    "    outputs_list.append(client.gather(f))\n",
    "    f.release()\n",
    "outputs_df = pd.concat(outputs_list)\n",
    "client.shutdown()"
   ]
  },
  {
   "cell_type": "code",
   "execution_count": 35,
   "id": "1597aec5-9286-4d37-80c4-05040b17c5bb",
   "metadata": {},
   "outputs": [],
   "source": [
    "combined_outputs.append(outputs_df)"
   ]
  },
  {
   "cell_type": "markdown",
   "id": "8e4c9775-96b4-49d1-bd83-a5aa71b40c91",
   "metadata": {},
   "source": [
    "**EspA upstream**"
   ]
  },
  {
   "cell_type": "code",
   "execution_count": 36,
   "id": "2fc6dfa0-55da-45ea-80c5-431df8accac7",
   "metadata": {},
   "outputs": [],
   "source": [
    "annotated_calls_path = 'datasets/variants/global/250209_abxsen_event_calls.vcb/event_calls.genomic.csv'\n",
    "\n",
    "anno_calls = pd.read_csv(\n",
    "    annotated_calls_path, index_col=['pos', 'ref', 'alt'])\n",
    "# get position vector\n",
    "pos_vector = anno_calls.index.get_level_values('pos')\n",
    "\n",
    "# generate index lists of variants for the sites of interest\n",
    "target_indexes = {\n",
    "    'SNP_siteA': anno_calls.index[np.all([\n",
    "        pos_vector <= 4057190 + 5,\n",
    "        pos_vector >= 4057190 - 5], axis=0)],\n",
    "    'SNP_siteB': anno_calls.index[np.all([\n",
    "        pos_vector <= 4057367 + 5,\n",
    "        pos_vector >= 4057367 - 5], axis=0)],\n",
    "    'DEL_A': anno_calls.index[\n",
    "        pos_vector == 4056663],\n",
    "    'DEL_B': anno_calls.index[\n",
    "        pos_vector == 4056945]}\n",
    "\n",
    "flat_indexes = np.concatenate(\n",
    "    [idx for idx in target_indexes.values()])\n",
    "anno_calls.loc[\n",
    "    flat_indexes].to_csv('tmp/espACD_upstream_variants.tmp.csv')"
   ]
  },
  {
   "cell_type": "code",
   "execution_count": 37,
   "id": "e0c5b67a-c9d7-46c3-a6d4-6573c7765020",
   "metadata": {},
   "outputs": [],
   "source": [
    "tree_path = 'datasets/variants/global/250209_abxsen_event_calls.vcb/tree.nwk'\n",
    "prune_labels = ['canettii']\n",
    "lineage_seeds = {\n",
    "    'L1': 'internal2986',\n",
    "    'L2': 'internal12001',\n",
    "    'L4': 'internal30842'}\n",
    "\n",
    "ind_variants_list = {\n",
    "    'espA up': 'tmp/espACD_upstream_variants.tmp.csv'}\n",
    "\n",
    "statistic_list = {\n",
    "    'TBL': 'tmp/mean_terminal_branch_lengths.abxsen.pkl',}\n",
    "    \n",
    "event_vcb_path = 'datasets/variants/global/250209_abxsen_event_calls.vcb'\n",
    "n_permutations = 100000\n",
    "\n",
    "@subproc\n",
    "def targetStatisticAssoc(\n",
    "        joblist,\n",
    "        tree_path,\n",
    "        prune_labels,\n",
    "        lineage_seeds,\n",
    "        ind_variants_list,\n",
    "        statistic_list,\n",
    "        event_vcb_path,\n",
    "        n_permutations):\n",
    "    ## pre-iteration calculations to prepare each worker\n",
    "    # load full tree\n",
    "    loaded_tree = vt.loadTree(tree_path)\n",
    "    loaded_tree.prune_taxa_with_labels(prune_labels)\n",
    "\n",
    "    # get node dicts for each lineage\n",
    "    node_df_dict = {\n",
    "        k: po.getNodeTable(tree=loaded_tree, target_node_label=v)\n",
    "        for k, v in lineage_seeds.items()}\n",
    "\n",
    "    # load in variant & event vcbs\n",
    "    event_vcb = vt.CallBytestream(event_vcb_path, True, False)\n",
    "    \n",
    "    # load in annotations\n",
    "    annotation_df = pd.read_csv(\n",
    "        annotations_path,\n",
    "        index_col=['pos', 'ref', 'alt'])\n",
    "\n",
    "    # load statistic dictionaries\n",
    "    statistic_dict = {\n",
    "        key: pickle.load(open(value, 'rb')) for key, value in statistic_list.items()}\n",
    "\n",
    "    ## iterate assigned products of gene x lineage x statistic\n",
    "    ind_nodes_dict = {}  # register (path, lineage) pairs that have already run on the worker on the fly\n",
    "    statistic_output_list = []  # output list\n",
    "    for target_var, lineage, statistic in joblist:\n",
    "        try:  # try to avoid re-running same gene\n",
    "            ind_nodes = ind_nodes_dict[(target_var, lineage)]\n",
    "        except KeyError:  # otherwise re-run and save\n",
    "            node_set = set(  # define node set based on subtree\n",
    "                node_df_dict[lineage].head_node)\n",
    "            ind_variants_df = pd.read_csv(\n",
    "                ind_variants_list[target_var], index_col=['pos', 'ref', 'alt'])\n",
    "            ind_nodes = po.getVariantAltEventNodes(\n",
    "                ind_variants_df, event_vcb, node_set)\n",
    "            ind_nodes_dict[(target_var, lineage)] = ind_nodes\n",
    "        statistic_output = po.testMeanStatistic(\n",
    "            ind_nodes, statistic_dict[statistic], node_df_dict[lineage],\n",
    "            n_permutations=n_permutations, missing_value='pass')\n",
    "        statistic_output.name = (target_var, statistic, lineage)\n",
    "        statistic_output_list.append(statistic_output)\n",
    "    return pd.DataFrame(statistic_output_list)"
   ]
  },
  {
   "cell_type": "code",
   "execution_count": 38,
   "id": "7cac2b4e-e4fd-4810-abeb-9284dcbf51a2",
   "metadata": {},
   "outputs": [
    {
     "name": "stdout",
     "output_type": "stream",
     "text": [
      "2025-04-14 10:33:16 - Launching LocalCluster client (5 workers)\n"
     ]
    },
    {
     "name": "stderr",
     "output_type": "stream",
     "text": [
      "100%|████████████████████████████████████████████████████████████████████████████████████████████████████████████████████| 5/5 [00:21<00:00,  4.27s/it]\n"
     ]
    }
   ],
   "source": [
    "# define jobs and split work\n",
    "all_jobs = list(product(ind_variants_list.keys(), lineage_seeds.keys(), statistic_list.keys()))\n",
    "# np.random.shuffle(all_jobs)\n",
    "n_workers = 5\n",
    "n_jobs = 5\n",
    "\n",
    "split_jobs = np.array_split(all_jobs, n_jobs)\n",
    "\n",
    "\n",
    "# start client\n",
    "client = startClient(\n",
    "    n_workers=n_workers,\n",
    "    use_local=True,\n",
    "    # use_slurm=True,\n",
    "    # log_dir='.',\n",
    "    # queue='sapphire',\n",
    "    # process_per_node=5,\n",
    "    # cores_per_process=1,\n",
    "    # memory_per_process='4GB',\n",
    "    # walltime='8:00:00',\n",
    "    dashboard_address=':10000',)\n",
    "\n",
    "futures = []\n",
    "for job in split_jobs:\n",
    "    futures.append(client.submit(\n",
    "        targetStatisticAssoc,\n",
    "        job,\n",
    "        tree_path,\n",
    "        prune_labels,\n",
    "        lineage_seeds,\n",
    "        ind_variants_list,\n",
    "        statistic_list,\n",
    "        event_vcb_path,\n",
    "        n_permutations))\n",
    "\n",
    "outputs_list = []\n",
    "for f in tqdm(futures):\n",
    "    outputs_list.append(client.gather(f))\n",
    "    f.release()\n",
    "outputs_df = pd.concat(outputs_list)\n",
    "client.shutdown()"
   ]
  },
  {
   "cell_type": "code",
   "execution_count": 39,
   "id": "612d963e-a193-4882-93d9-9590ff5bc2e2",
   "metadata": {},
   "outputs": [],
   "source": [
    "combined_outputs.append(outputs_df)"
   ]
  },
  {
   "cell_type": "code",
   "execution_count": 40,
   "id": "4fd60b98-6516-4bed-b07a-9cad4a914c80",
   "metadata": {},
   "outputs": [],
   "source": [
    "combined_df = pd.concat(\n",
    "    combined_outputs)\n",
    "combined_df.index.names = ('site', 'metric', 'lineage')\n",
    "combined_df.sort_index()\n",
    "combined_df.index = combined_df.index.droplevel('metric')\n",
    "combined_df.to_csv('tmp/transmission.sensitive_tree.csv')"
   ]
  },
  {
   "cell_type": "markdown",
   "id": "3f0a7cab-cb4e-40d0-9b3d-55cc629b6e10",
   "metadata": {},
   "source": [
    "### Combine Data"
   ]
  },
  {
   "cell_type": "code",
   "execution_count": null,
   "id": "aee72315-28c6-44b5-ac91-4a8fc6933d2b",
   "metadata": {},
   "outputs": [],
   "source": [
    "full_tree = pd.read_csv(\n",
    "    'tmp/transmission.full_tree.csv')\n",
    "full_tree.insert(2, 'tree', 'all')\n",
    "sen_tree = pd.read_csv(\n",
    "    'tmp/transmission.sensitive_tree.csv')\n",
    "sen_tree.insert(2, 'tree', 'sensitive')\n",
    "res_tree = pd.read_csv(\n",
    "    'tmp/transmission.resistant_tree.csv')\n",
    "res_tree.insert(2, 'tree', 'resistant')\n",
    "pd.concat(\n",
    "    [full_tree, sen_tree, res_tree]).to_csv(\n",
    "    'outputs/tables/TableS7_transmission.csv')"
   ]
  },
  {
   "cell_type": "markdown",
   "id": "57c5b9eb-020e-41e5-abb8-5e6a685e0ba4",
   "metadata": {
    "jp-MarkdownHeadingCollapsed": true
   },
   "source": [
    "# Generate Plots"
   ]
  },
  {
   "cell_type": "markdown",
   "id": "cdb4b72a-f941-4075-baaf-0b516712e444",
   "metadata": {
    "jp-MarkdownHeadingCollapsed": true
   },
   "source": [
    "## Modernity"
   ]
  },
  {
   "cell_type": "code",
   "execution_count": 71,
   "id": "44146533-fc03-4e74-848e-f3416d46ba20",
   "metadata": {},
   "outputs": [
    {
     "data": {
      "image/png": "[encoded data removed]",
      "text/plain": [
       "<Figure size 270x270 with 1 Axes>"
      ]
     },
     "metadata": {},
     "output_type": "display_data"
    }
   ],
   "source": [
    "output_dir = 'outputs/figures'\n",
    "output_name = '7A_modernity.pdf'\n",
    "\n",
    "plot_df = pd.read_csv(\n",
    "    'outputs/tables/TableS7_modernity.csv', index_col=[0, 1])\n",
    "\n",
    "def linearScale(value, val_min=0.3, val_max=3, new_min=1, new_max=225):\n",
    "    if value <= val_min:\n",
    "        return new_min\n",
    "    if value >= val_max:\n",
    "        return new_max\n",
    "    return ((\n",
    "        (value - val_min) / (val_max - val_min)) * (new_max - new_min) + new_min)\n",
    "\n",
    "xlabels = ['Rv3862c', 'espA up', 'Rv0042c']\n",
    "ylabels = ['L1', 'L2', 'L4']\n",
    "y_values = []\n",
    "x_values = []\n",
    "sizes = []\n",
    "markers = []\n",
    "colors_list = []\n",
    "for x, site in enumerate(xlabels):\n",
    "    for y, lineage in enumerate(ylabels):\n",
    "        x_values.append(x)\n",
    "        y_values.append(y)\n",
    "        pval_greater = plot_df.loc[(site, lineage), 'pval_greater']\n",
    "        pval_less = plot_df.loc[(site, lineage), 'pval_less']\n",
    "        if pval_greater < pval_less:\n",
    "            markers.append('>')\n",
    "            if pval_greater < 0.05:\n",
    "                colors_list.append(colors['dred'])\n",
    "            else:\n",
    "                colors_list.append(colors['lred'])\n",
    "        if pval_less < pval_greater:\n",
    "            markers.append('<')\n",
    "            if pval_less < 0.05:\n",
    "                colors_list.append(colors['dblue'])\n",
    "            else:\n",
    "                colors_list.append(colors['lblue'])\n",
    "        sizes.append(linearScale(-np.log10(min(pval_greater, pval_less))))\n",
    "\n",
    "fig, ax = plt.subplots(1, 1, figsize=(0.9, 0.9))\n",
    "for i in range(len(x_values)):\n",
    "    ax.scatter(\n",
    "        x_values[i:i+1], y_values[i:i+1], s=sizes[i:i+1], color=colors_list[i:i+1], marker=markers[i], lw=0,)\n",
    "ax.xaxis.tick_top()\n",
    "ax.xaxis.set_label_position('top')\n",
    "ax.set_ylim(-0.5, 2.5)\n",
    "ax.set_xlim(-0.5, 2.5)\n",
    "ax.invert_yaxis()\n",
    "ax.set_xticks(range(0,3))\n",
    "ax.set_xticklabels(xlabels, rotation=90)\n",
    "ax.set_yticks(range(0,3))\n",
    "ax.set_yticklabels(ylabels)\n",
    "\n",
    "# Manually create the legend\n",
    "handles, labels = ax.get_legend_handles_labels()\n",
    "size_legend = [\n",
    "    plt.scatter([-1], [-1], marker='<', lw=0, color='k', s=linearScale(s))\n",
    "    for s in -np.log10([0.1, 0.01, 0.001])]\n",
    "labels_size = ['1e-1', '1e-2', '<1e-3']\n",
    "legend = ax.legend(\n",
    "    size_legend, labels_size,\n",
    "    title='log_pval sizes', loc='upper left', bbox_to_anchor=(1, 1))\n",
    "sns.despine(bottom=True, top=False)\n",
    "ax.tick_params(axis='y', length=0)\n",
    "\n",
    "plt.savefig(f'{output_dir}/{output_name}', format='pdf', bbox_inches='tight', dpi=300)"
   ]
  },
  {
   "cell_type": "markdown",
   "id": "7877052e-6fc9-45b0-aa49-fadafc98b312",
   "metadata": {
    "jp-MarkdownHeadingCollapsed": true
   },
   "source": [
    "## Drug"
   ]
  },
  {
   "cell_type": "code",
   "execution_count": 74,
   "id": "64d1c9a1-039b-4a9d-853f-9d3c8f75461a",
   "metadata": {},
   "outputs": [],
   "source": [
    "alpha = 0.05\n",
    "\n",
    "drug_overlap_df = pd.read_csv(\n",
    "        'outputs/tables/TableS7_abx_associations.csv',\n",
    "        index_col=[0, 1, 2])\n",
    "# trim down to data of interest\n",
    "drug_overlap_df = drug_overlap_df.loc[\n",
    "    pd.IndexSlice[\n",
    "        ['Rv3862c', 'espACD', 'Rv0042c'],\n",
    "        ['isoniazid', 'rifampicin', 'streptomycin', 'ethambutol', 'pyrazinamide'],\n",
    "        ['L1', 'L2', 'L4']]]\n",
    "\n",
    "drug_overlap_df.loc[:, 'fdr_pass'] = multipletests(\n",
    "    drug_overlap_df.est_pvalue, method='fdr_bh', alpha=0.05)[0]\n",
    "\n",
    "drug_overlap_df.loc[:, 'pval_pass'] = drug_overlap_df.est_pvalue < alpha"
   ]
  },
  {
   "cell_type": "code",
   "execution_count": 75,
   "id": "b8a04ac6-9286-4d95-b0ac-68073f166181",
   "metadata": {},
   "outputs": [],
   "source": [
    "# prepare for plotting\n",
    "pvals = -np.log10(drug_overlap_df.loc[:, 'est_pvalue'].unstack(level=1).T.loc[\n",
    "    ['isoniazid', 'rifampicin', 'streptomycin', 'ethambutol', 'pyrazinamide'],\n",
    "    pd.IndexSlice[['Rv3862c', 'espACD', 'Rv0042c'], ['L1', 'L2', 'L4']]])\n",
    "passfdr = drug_overlap_df.loc[:, 'fdr_pass'].unstack(level=1).T.loc[\n",
    "    ['isoniazid', 'rifampicin', 'streptomycin', 'ethambutol', 'pyrazinamide'],\n",
    "    pd.IndexSlice[['Rv3862c', 'espACD', 'Rv0042c'], ['L1', 'L2', 'L4']]]\n",
    "passpval = drug_overlap_df.loc[:, 'pval_pass'].unstack(level=1).T.loc[\n",
    "    ['isoniazid', 'rifampicin', 'streptomycin', 'ethambutol', 'pyrazinamide'],\n",
    "    pd.IndexSlice[['Rv3862c', 'espACD', 'Rv0042c'], ['L1', 'L2', 'L4']]]"
   ]
  },
  {
   "cell_type": "code",
   "execution_count": 78,
   "id": "b45585b8-2587-481c-a2f2-8660d3fcb0eb",
   "metadata": {},
   "outputs": [
    {
     "data": {
      "image/png": "[encoded data removed]",
      "text/plain": [
       "<Figure size 600x300 with 1 Axes>"
      ]
     },
     "metadata": {},
     "output_type": "display_data"
    }
   ],
   "source": [
    "output_dir = 'outputs/figures'\n",
    "output_name = '7B_drug_resistance.pdf'\n",
    "\n",
    "\n",
    "new_max = 90\n",
    "new_min = 1\n",
    "rescale = lambda x: (new_max - new_min) * (x - np.min(pvals)) / (np.max(pvals) - np.min(pvals)) + new_min\n",
    "pvals_rescaled = rescale(pvals)\n",
    "    \n",
    "\n",
    "y_values = []\n",
    "x_values = []\n",
    "sizes = []\n",
    "colors_list = []\n",
    "for y, x in product(range(pvals.shape[0]), range(pvals.shape[1])):\n",
    "    x_values.append(x)\n",
    "    y_values.append(y)\n",
    "    sizes.append(pvals_rescaled.iloc[y, x])\n",
    "    if passfdr.iloc[y, x]:\n",
    "        colors_list.append(colors['dgreen'])\n",
    "    else:\n",
    "        colors_list.append(colors['lgreen'])\n",
    "\n",
    "\n",
    "fig, ax = plt.subplots(1, 1, figsize=(2, 1))\n",
    "\n",
    "ax.scatter(\n",
    "    x_values, y_values, s=sizes, color=colors_list, marker='o', lw=0,)\n",
    "ax.xaxis.tick_top()\n",
    "ax.xaxis.set_label_position('top')\n",
    "ax.invert_yaxis()\n",
    "\n",
    "# Manually create the legend\n",
    "handles, labels = ax.get_legend_handles_labels()\n",
    "size_legend = [\n",
    "    plt.scatter([-1], [-1], marker='o', lw=0, color='k', s=s)\n",
    "    for s in rescale(-np.log10([0.1, 0.0001, 0.00001]))]\n",
    "labels_size = ['1e-1', '1e-3', '1e-5']\n",
    "legend2 = ax.legend(\n",
    "    size_legend, labels_size,\n",
    "    title='log_pval sizes', loc='upper left', bbox_to_anchor=(1, 1))\n",
    "\n",
    "ax.set_ylim(4.5, -0.5)\n",
    "ax.set_xlim(-.5, 8.5)\n",
    "\n",
    "ax.set_xticks(range(0,9))\n",
    "ax.set_xticklabels([\n",
    "    'L1', 'L2', 'L4',\n",
    "    'L1', 'L2', 'L4',\n",
    "    'L1', 'L2', 'L4',])\n",
    "ax.set_yticks(range(0,5))\n",
    "ax.set_yticklabels([\n",
    "    'INH', 'RIF', 'STR', 'EMB', 'PZA'])\n",
    "ax.tick_params(axis='y', length=0)\n",
    "sns.despine(bottom=True, top=False)\n",
    "\n",
    "plt.savefig(f'{output_dir}/{output_name}', format='pdf', bbox_inches='tight', dpi=300)"
   ]
  },
  {
   "cell_type": "markdown",
   "id": "2b871bcb-b444-46c7-b170-dec87ec3131f",
   "metadata": {
    "jp-MarkdownHeadingCollapsed": true
   },
   "source": [
    "## Transmission"
   ]
  },
  {
   "cell_type": "code",
   "execution_count": 92,
   "id": "230931e1-4879-4080-82b2-74650e1e4466",
   "metadata": {},
   "outputs": [
    {
     "data": {
      "image/png": "[encoded data removed]",
      "text/plain": [
       "<Figure size 270x270 with 1 Axes>"
      ]
     },
     "metadata": {},
     "output_type": "display_data"
    }
   ],
   "source": [
    "output_dir = 'outputs/figures'\n",
    "output_name = '7C_full_tree_transmission.pdf'\n",
    "\n",
    "plot_df = pd.read_csv(\n",
    "    'outputs/tables/TableS7_transmission.csv', index_col=['site', 'lineage'])\n",
    "plot_df = plot_df.loc[plot_df.loc[:, 'tree'] == 'all', :]\n",
    "\n",
    "def linearScale(value, val_min=0.3, val_max=3, new_min=1, new_max=250):\n",
    "    if value <= val_min:\n",
    "        return new_min\n",
    "    if value >= val_max:\n",
    "        return new_max\n",
    "    return ((\n",
    "        (value - val_min) / (val_max - val_min)) * (new_max - new_min) + new_min)\n",
    "\n",
    "xlabels = ['Rv3862c', 'espA up', 'Rv0042c']\n",
    "ylabels = ['L1', 'L2', 'L4']\n",
    "y_values = []\n",
    "x_values = []\n",
    "sizes = []\n",
    "colors_list = []\n",
    "for x, site in enumerate(xlabels):\n",
    "    for y, lineage in enumerate(ylabels):\n",
    "        x_values.append(x)\n",
    "        y_values.append(y)\n",
    "        pval_greater = plot_df.loc[(site, lineage), 'pval_greater']\n",
    "        pval_less = plot_df.loc[(site, lineage), 'pval_less']\n",
    "        if pval_greater < pval_less:\n",
    "            if pval_greater < 0.05:\n",
    "                colors_list.append(colors['dblue'])\n",
    "            else:\n",
    "                colors_list.append(colors['lblue'])\n",
    "        if pval_less < pval_greater:\n",
    "            if pval_less < 0.05:\n",
    "                colors_list.append(colors['dred'])\n",
    "            else:\n",
    "                colors_list.append(colors['lred'])\n",
    "        sizes.append(linearScale(-np.log10(min(pval_greater, pval_less))))\n",
    "\n",
    "fig, ax = plt.subplots(1, 1, figsize=(0.9, 0.9))\n",
    "ax.scatter(\n",
    "    x_values, y_values, s=sizes, color=colors_list, marker='o', lw=0,)\n",
    "ax.xaxis.tick_top()\n",
    "ax.xaxis.set_label_position('top')\n",
    "ax.set_ylim(-0.5, 2.5)\n",
    "ax.set_xlim(-0.5, 2.5)\n",
    "ax.invert_yaxis()\n",
    "ax.set_xticks(range(0,3))\n",
    "ax.set_xticklabels(xlabels, rotation=90)\n",
    "ax.set_yticks(range(0,3))\n",
    "ax.set_yticklabels(ylabels)\n",
    "\n",
    "# Manually create the legend\n",
    "handles, labels = ax.get_legend_handles_labels()\n",
    "size_legend = [\n",
    "    plt.scatter([-1], [-1], marker='o', lw=0, color='k', s=linearScale(s))\n",
    "    for s in -np.log10([0.1, 0.01, 0.001])]\n",
    "labels_size = ['1e-1', '1e-2', '<1e-3']\n",
    "legend = ax.legend(\n",
    "    size_legend, labels_size,\n",
    "    title='log_pval sizes', loc='upper left', bbox_to_anchor=(1, 1))\n",
    "sns.despine(bottom=True, top=False)\n",
    "ax.tick_params(axis='y', length=0)\n",
    "\n",
    "plt.savefig(f'{output_dir}/{output_name}', format='pdf', bbox_inches='tight', dpi=300)"
   ]
  },
  {
   "cell_type": "code",
   "execution_count": 93,
   "id": "b69a8d84-f5b1-4c93-9799-e985a5a9e29d",
   "metadata": {},
   "outputs": [
    {
     "data": {
      "image/png": "[encoded data removed]",
      "text/plain": [
       "<Figure size 270x270 with 1 Axes>"
      ]
     },
     "metadata": {},
     "output_type": "display_data"
    }
   ],
   "source": [
    "output_dir = 'outputs/figures'\n",
    "output_name = '7C_sensitive_tree_transmission.pdf'\n",
    "\n",
    "plot_df = pd.read_csv(\n",
    "    'outputs/tables/TableS7_transmission.csv', index_col=['site', 'lineage'])\n",
    "plot_df = plot_df.loc[plot_df.loc[:, 'tree'] == 'sensitive', :]\n",
    "\n",
    "def linearScale(value, val_min=0.3, val_max=3, new_min=1, new_max=250):\n",
    "    if value <= val_min:\n",
    "        return new_min\n",
    "    if value >= val_max:\n",
    "        return new_max\n",
    "    return ((\n",
    "        (value - val_min) / (val_max - val_min)) * (new_max - new_min) + new_min)\n",
    "\n",
    "xlabels = ['Rv3862c', 'espA up', 'Rv0042c']\n",
    "ylabels = ['L1', 'L2', 'L4']\n",
    "y_values = []\n",
    "x_values = []\n",
    "sizes = []\n",
    "colors_list = []\n",
    "for x, site in enumerate(xlabels):\n",
    "    for y, lineage in enumerate(ylabels):\n",
    "        x_values.append(x)\n",
    "        y_values.append(y)\n",
    "        pval_greater = plot_df.loc[(site, lineage), 'pval_greater']\n",
    "        pval_less = plot_df.loc[(site, lineage), 'pval_less']\n",
    "        if pval_greater < pval_less:\n",
    "            if pval_greater < 0.05:\n",
    "                colors_list.append(colors['dblue'])\n",
    "            else:\n",
    "                colors_list.append(colors['lblue'])\n",
    "        if pval_less < pval_greater:\n",
    "            if pval_less < 0.05:\n",
    "                colors_list.append(colors['dred'])\n",
    "            else:\n",
    "                colors_list.append(colors['lred'])\n",
    "        sizes.append(linearScale(-np.log10(min(pval_greater, pval_less))))\n",
    "\n",
    "fig, ax = plt.subplots(1, 1, figsize=(0.9, 0.9))\n",
    "ax.scatter(\n",
    "    x_values, y_values, s=sizes, color=colors_list, marker='o', lw=0,)\n",
    "ax.xaxis.tick_top()\n",
    "ax.xaxis.set_label_position('top')\n",
    "ax.set_ylim(-0.5, 2.5)\n",
    "ax.set_xlim(-0.5, 2.5)\n",
    "ax.invert_yaxis()\n",
    "ax.set_xticks(range(0,3))\n",
    "ax.set_xticklabels(xlabels, rotation=90)\n",
    "ax.set_yticks(range(0,3))\n",
    "ax.set_yticklabels(ylabels)\n",
    "\n",
    "# Manually create the legend\n",
    "handles, labels = ax.get_legend_handles_labels()\n",
    "size_legend = [\n",
    "    plt.scatter([-1], [-1], marker='o', lw=0, color='k', s=linearScale(s))\n",
    "    for s in -np.log10([0.1, 0.01, 0.001])]\n",
    "labels_size = ['1e-1', '1e-2', '<1e-3']\n",
    "legend = ax.legend(\n",
    "    size_legend, labels_size,\n",
    "    title='log_pval sizes', loc='upper left', bbox_to_anchor=(1, 1))\n",
    "sns.despine(bottom=True, top=False)\n",
    "ax.tick_params(axis='y', length=0)\n",
    "\n",
    "plt.savefig(f'{output_dir}/{output_name}', format='pdf', bbox_inches='tight', dpi=300)"
   ]
  },
  {
   "cell_type": "code",
   "execution_count": 94,
   "id": "399ca242-688e-436d-b8b7-29c35350e089",
   "metadata": {},
   "outputs": [
    {
     "data": {
      "image/png": "[encoded data removed]",
      "text/plain": [
       "<Figure size 270x270 with 1 Axes>"
      ]
     },
     "metadata": {},
     "output_type": "display_data"
    }
   ],
   "source": [
    "output_dir = 'outputs/figures'\n",
    "output_name = '7C_resistant_transmission.pdf'\n",
    "\n",
    "plot_df = pd.read_csv(\n",
    "    'outputs/tables/TableS7_transmission.csv', index_col=['site', 'lineage'])\n",
    "plot_df = plot_df.loc[plot_df.loc[:, 'tree'] == 'resistant', :]\n",
    "\n",
    "def linearScale(value, val_min=0.3, val_max=3, new_min=1, new_max=250):\n",
    "    if value <= val_min:\n",
    "        return new_min\n",
    "    if value >= val_max:\n",
    "        return new_max\n",
    "    return ((\n",
    "        (value - val_min) / (val_max - val_min)) * (new_max - new_min) + new_min)\n",
    "\n",
    "xlabels = ['Rv3862c', 'espA up', 'Rv0042c']\n",
    "ylabels = ['L1', 'L2', 'L4']\n",
    "y_values = []\n",
    "x_values = []\n",
    "sizes = []\n",
    "colors_list = []\n",
    "for x, site in enumerate(xlabels):\n",
    "    for y, lineage in enumerate(ylabels):\n",
    "        x_values.append(x)\n",
    "        y_values.append(y)\n",
    "        pval_greater = plot_df.loc[(site, lineage), 'pval_greater']\n",
    "        pval_less = plot_df.loc[(site, lineage), 'pval_less']\n",
    "        if pval_greater < pval_less:\n",
    "            if pval_greater < 0.05:\n",
    "                colors_list.append(colors['dblue'])\n",
    "            else:\n",
    "                colors_list.append(colors['lblue'])\n",
    "        if pval_less < pval_greater:\n",
    "            if pval_less < 0.05:\n",
    "                colors_list.append(colors['dred'])\n",
    "            else:\n",
    "                colors_list.append(colors['lred'])\n",
    "        sizes.append(linearScale(-np.log10(min(pval_greater, pval_less))))\n",
    "\n",
    "fig, ax = plt.subplots(1, 1, figsize=(0.9, 0.9))\n",
    "ax.scatter(\n",
    "    x_values, y_values, s=sizes, color=colors_list, marker='o', lw=0,)\n",
    "ax.xaxis.tick_top()\n",
    "ax.xaxis.set_label_position('top')\n",
    "ax.set_ylim(-0.5, 2.5)\n",
    "ax.set_xlim(-0.5, 2.5)\n",
    "ax.invert_yaxis()\n",
    "ax.set_xticks(range(0,3))\n",
    "ax.set_xticklabels(xlabels, rotation=90)\n",
    "ax.set_yticks(range(0,3))\n",
    "ax.set_yticklabels(ylabels)\n",
    "\n",
    "# Manually create the legend\n",
    "handles, labels = ax.get_legend_handles_labels()\n",
    "size_legend = [\n",
    "    plt.scatter([-1], [-1], marker='o', lw=0, color='k', s=linearScale(s))\n",
    "    for s in -np.log10([0.1, 0.01, 0.001])]\n",
    "labels_size = ['1e-1', '1e-2', '<1e-3']\n",
    "legend = ax.legend(\n",
    "    size_legend, labels_size,\n",
    "    title='log_pval sizes', loc='upper left', bbox_to_anchor=(1, 1))\n",
    "sns.despine(bottom=True, top=False)\n",
    "ax.tick_params(axis='y', length=0)\n",
    "\n",
    "plt.savefig(f'{output_dir}/{output_name}', format='pdf', bbox_inches='tight', dpi=300)"
   ]
  }
 ],
 "metadata": {
  "kernelspec": {
   "display_name": "general_py",
   "language": "python",
   "name": "general_py"
  },
  "language_info": {
   "codemirror_mode": {
    "name": "ipython",
    "version": 3
   },
   "file_extension": ".py",
   "mimetype": "text/x-python",
   "name": "python",
   "nbconvert_exporter": "python",
   "pygments_lexer": "ipython3",
   "version": "3.12.8"
  }
 },
 "nbformat": 4,
 "nbformat_minor": 5
}
