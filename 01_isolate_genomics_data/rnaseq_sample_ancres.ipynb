{
 "cells": [
  {
   "cell_type": "markdown",
   "id": "aa0f3296-4ddf-49ca-b419-f2b6c001053c",
   "metadata": {},
   "source": [
    "# Run Pipeline on htRNA-Seq Samples"
   ]
  },
  {
   "cell_type": "raw",
   "id": "4baeda03-5f48-4a12-83e7-a8e0460c1749",
   "metadata": {},
   "source": [
    "sbatch -c 2 -p hsph -t 9:00:00 --mem=6G --wrap=\"\\\n",
    "export PATH=\\\"/n/boslfs02/LABS/sfortune_lab/Lab/culviner/bin/mtbvartools/scripts:$PATH\\\" && \\\n",
    "export PYTHONPATH=\\\"${PYTHONPATH}:/n/boslfs02/LABS/sfortune_lab/Lab/culviner/bin/mtbvartools\\\" && \\\n",
    "module load Mambaforge/22.11.1-fasrc01 && mamba activate mtb_isolates && \\\n",
    "slurm_dask_splitter.py sra_variant_pipeline.py htrnaseq_strain_pipeline_inputs.csv \\\n",
    "--max-processes 100 \\\n",
    "--log-dir scratch/ \\\n",
    "--queue sapphire \\\n",
    "--process-per-node 1 \\\n",
    "--cores-per-process 2 \\\n",
    "--walltime 8:00:00 \\\n",
    "--memory-per-process 8GiB \\\n",
    "--upscale-wait 1 \\\n",
    "--downscale-wait 60 \\\n",
    "--initial-nodes 1\""
   ]
  },
  {
   "cell_type": "markdown",
   "id": "509bc5cb-aac7-4aa6-b356-5cdbcfced488",
   "metadata": {
    "jp-MarkdownHeadingCollapsed": true
   },
   "source": [
    "# Gather Results"
   ]
  },
  {
   "cell_type": "code",
   "execution_count": 1,
   "id": "46cc85d2-2914-4f5a-a448-00ee0bf68a7e",
   "metadata": {},
   "outputs": [],
   "source": [
    "import os, shutil, sys\n",
    "from datetime import datetime\n",
    "import pandas as pd\n",
    "import numpy as np\n",
    "from tqdm import tqdm\n",
    "sys.path.append('/n/boslfs02/LABS/sfortune_lab/Lab/culviner/bin/mtbvartools/')\n",
    "import mtbvartools as vt\n",
    "\n",
    "def collectResults(target_directory, target_processes):\n",
    "    name_list = pd.read_csv(\n",
    "        target_processes, index_col=0).index\n",
    "    completed_list = []\n",
    "    error_list = []\n",
    "    unhandled_list = []\n",
    "    completed = 0\n",
    "    caught_error = 0\n",
    "    unhandled_error = 0\n",
    "    for name in tqdm(name_list):\n",
    "        try:  # get completed timings\n",
    "            completed_list.append(\n",
    "                pd.read_csv(f'{target_directory}/{name}/results/{name}.results.csv', index_col=0).loc[name])\n",
    "            completed += 1\n",
    "        except FileNotFoundError:\n",
    "            try:\n",
    "                error_list.append(\n",
    "                    pd.read_csv(f'{target_directory}/{name}/results/{name}.error.results.csv', index_col=0).loc[name])\n",
    "                caught_error += 1\n",
    "            except FileNotFoundError:\n",
    "                unhandled_error += 1\n",
    "                unhandled_list.append(name)\n",
    "    completed_results = pd.concat(\n",
    "        completed_list, axis=1).T\n",
    "    try:\n",
    "        error_results = pd.concat(\n",
    "            error_list, axis=1).T\n",
    "    except:\n",
    "        error_results = None\n",
    "    print(f'{completed} completed, {caught_error} caught errors, {unhandled_error} unhandled errors.')\n",
    "    return completed_results, error_results, unhandled_list"
   ]
  },
  {
   "cell_type": "code",
   "execution_count": 2,
   "id": "bcb445cb-c2fa-4243-a54c-0edd1170b31e",
   "metadata": {},
   "outputs": [],
   "source": [
    "target_directory = 'scratch/variant_pipeline/'\n",
    "target_processes = 'htrnaseq_strain_pipeline_inputs.csv'"
   ]
  },
  {
   "cell_type": "code",
   "execution_count": 3,
   "id": "272a0370-df49-4d37-af0f-e6125a2a8cb0",
   "metadata": {},
   "outputs": [
    {
     "name": "stderr",
     "output_type": "stream",
     "text": [
      "100%|██████████| 274/274 [00:09<00:00, 28.58it/s]\n"
     ]
    },
    {
     "name": "stdout",
     "output_type": "stream",
     "text": [
      "274 completed, 0 caught errors, 0 unhandled errors.\n"
     ]
    }
   ],
   "source": [
    "completed_results, error_results, unhandled_list = collectResults(\n",
    "    target_directory,\n",
    "    target_processes)\n",
    "completed_results.to_csv('pipeline_results.csv')"
   ]
  },
  {
   "cell_type": "markdown",
   "id": "9185582a-e6b0-43c9-98f3-c829e1604895",
   "metadata": {
    "jp-MarkdownHeadingCollapsed": true
   },
   "source": [
    "# Merge VCF"
   ]
  },
  {
   "cell_type": "markdown",
   "id": "66b881cc-2be7-441b-bf76-c5a6eb05eb69",
   "metadata": {
    "jp-MarkdownHeadingCollapsed": true
   },
   "source": [
    "## Run Merge Code"
   ]
  },
  {
   "cell_type": "code",
   "execution_count": 4,
   "id": "4cb98d71-991b-488e-a522-46b9d02770d6",
   "metadata": {},
   "outputs": [],
   "source": [
    "import dendropy, os, subprocess, shutil\n",
    "import pandas as pd\n",
    "import numpy as np\n",
    "import matplotlib.pyplot as plt"
   ]
  },
  {
   "cell_type": "code",
   "execution_count": 5,
   "id": "c3af00c3-c912-4e26-877e-94b233b4b982",
   "metadata": {},
   "outputs": [],
   "source": [
    "work_dir = 'scratch/merged_vcf/'\n",
    "os.makedirs(work_dir, exist_ok=True)\n",
    "\n",
    "results_inputs = pd.read_csv(\n",
    "    'pipeline_results.csv', index_col=0)"
   ]
  },
  {
   "cell_type": "code",
   "execution_count": 6,
   "id": "57bc328d-c386-434f-893f-9ea78c583b69",
   "metadata": {},
   "outputs": [],
   "source": [
    "datasheet_data = [[\n",
    "    'canettii',\n",
    "    'SRR10522783/results/SRR10522783.breseq.vcf',\n",
    "    'SRR10522783/results/SRR10522783.miss.breseq.zarr']]\n",
    "\n",
    "for index, rdata in results_inputs.iterrows():\n",
    "    row_data = [\n",
    "        index,\n",
    "        f'{index}/results/{index}.breseq.vcf',\n",
    "        f'{index}/results/{index}.miss.breseq.zarr']\n",
    "    datasheet_data.append(row_data)\n",
    "\n",
    "merge_df = pd.DataFrame(\n",
    "    data=datasheet_data,\n",
    "    columns=['label', 'vcf_path', 'miss_path'])\n",
    "\n",
    "# run on all strains\n",
    "merge_df.to_csv(f'{work_dir}/merge_inputs.csv')"
   ]
  },
  {
   "cell_type": "markdown",
   "id": "f5740b00-b387-4bb0-8a76-b8a554e423c7",
   "metadata": {},
   "source": [
    "Merge on all strains."
   ]
  },
  {
   "cell_type": "code",
   "execution_count": 7,
   "id": "a1d363d7-34f7-4893-978a-894179657af7",
   "metadata": {},
   "outputs": [
    {
     "name": "stdout",
     "output_type": "stream",
     "text": [
      "Submitted batch job 52202095\n"
     ]
    },
    {
     "data": {
      "text/plain": [
       "CompletedProcess(args='    sbatch -c 5 -p hsph -t 2:00:00 --mem=10G -o scratch/merged_vcf//merge-%j.out --wrap=\"    module load Mambaforge/22.11.1-fasrc01 && conda activate mtb_isolates &&     export PATH=\"/n/boslfs02/LABS/sfortune_lab/Lab/culviner/bin/mtbvartools/scripts:/n/home12/pculviner/.conda/envs/mtb_isolates/bin/:$PATH\" &&     export PYTHONPATH=\"${PYTHONPATH}:/n/boslfs02/LABS/sfortune_lab/Lab/culviner/bin/mtbvartools\" &&     merge_vcfs_misses.py     --input-csv scratch/merged_vcf//merge_inputs.csv     --inputs-dir scratch/variant_pipeline/     --out-dir scratch/merged_vcf/     --outgroup canettii     --split-genome 2     --n-workers 25     --process-per-node 10     --walltime \"1:00:00\"     --use-slurm     --local-threads 5\"', returncode=0)"
      ]
     },
     "execution_count": 7,
     "metadata": {},
     "output_type": "execute_result"
    }
   ],
   "source": [
    "cmd = f'\\\n",
    "    sbatch -c 5 -p hsph -t 2:00:00 --mem=10G -o {work_dir}/merge-%j.out --wrap=\"\\\n",
    "    module load Mambaforge/22.11.1-fasrc01 && conda activate mtb_isolates && \\\n",
    "    export PATH=\\\"/n/boslfs02/LABS/sfortune_lab/Lab/culviner/bin/mtbvartools/scripts:/n/home12/pculviner/.conda/envs/mtb_isolates/bin/:$PATH\\\" && \\\n",
    "    export PYTHONPATH=\\\"${{PYTHONPATH}}:/n/boslfs02/LABS/sfortune_lab/Lab/culviner/bin/mtbvartools\\\" && \\\n",
    "    merge_vcfs_misses.py \\\n",
    "    --input-csv {work_dir}/merge_inputs.csv \\\n",
    "    --inputs-dir scratch/variant_pipeline/ \\\n",
    "    --out-dir {work_dir} \\\n",
    "    --outgroup canettii \\\n",
    "    --split-genome 2 \\\n",
    "    --n-workers 25 \\\n",
    "    --process-per-node 10 \\\n",
    "    --walltime \"1:00:00\" \\\n",
    "    --use-slurm \\\n",
    "    --local-threads 5\"'\n",
    "subprocess.run(cmd, shell=True)"
   ]
  },
  {
   "cell_type": "markdown",
   "id": "f66b7ce0-bed1-4014-b3f0-d37113c1cbb9",
   "metadata": {
    "jp-MarkdownHeadingCollapsed": true
   },
   "source": [
    "## Generate Annotation Files"
   ]
  },
  {
   "cell_type": "code",
   "execution_count": 9,
   "id": "226b69e3-9f14-4ada-8822-55ba6b456f76",
   "metadata": {},
   "outputs": [],
   "source": [
    "import dendropy, os, subprocess, shutil, tqdm, sys\n",
    "import pandas as pd\n",
    "import numpy as np\n",
    "sys.path.append('/n/boslfs02/LABS/sfortune_lab/Lab/culviner/bin/mtbvartools/')\n",
    "import mtbvartools as vt\n",
    "from mtbvartools.dasktools import startClient, subproc\n",
    "from mtbvartools.vcf import filterDataFrame\n",
    "\n",
    "# gene table\n",
    "gene_table = pd.read_csv('gt_mtb_h37rv.csv', index_col=0)\n",
    "\n",
    "work_dir = 'scratch/merged_vcf/'\n",
    "os.makedirs(work_dir, exist_ok=True)"
   ]
  },
  {
   "cell_type": "code",
   "execution_count": 10,
   "id": "ec3e71ce-b7e4-40be-b23f-b755beb37c1a",
   "metadata": {},
   "outputs": [
    {
     "name": "stdout",
     "output_type": "stream",
     "text": [
      "Submitted batch job 52203035\n"
     ]
    },
    {
     "data": {
      "text/plain": [
       "CompletedProcess(args='    sbatch -c 2 -p hsph -t 2:00:00 --mem=10G -o scratch/merged_vcf//anno1-%j.out --wrap=\"     module load Mambaforge/22.11.1-fasrc01 && conda activate mtb_isolates &&     cd scratch/merged_vcf/ && bcftools view -s SRR10522783 merged.filtered.vcf.gz |     bcftools norm -m - -O z -o annotations_input.vcf.gz && tabix annotations_input.vcf.gz\"', returncode=0)"
      ]
     },
     "execution_count": 10,
     "metadata": {},
     "output_type": "execute_result"
    }
   ],
   "source": [
    "cmd = f'\\\n",
    "    sbatch -c 2 -p hsph -t 2:00:00 --mem=10G -o {work_dir}/anno1-%j.out --wrap=\" \\\n",
    "    module load Mambaforge/22.11.1-fasrc01 && conda activate mtb_isolates && \\\n",
    "    cd {work_dir} && bcftools view -s SRR10522783 merged.filtered.vcf.gz | \\\n",
    "    bcftools norm -m - -O z -o annotations_input.vcf.gz && tabix annotations_input.vcf.gz\"'\n",
    "subprocess.run(cmd, shell=True)"
   ]
  },
  {
   "cell_type": "code",
   "execution_count": 11,
   "id": "7e9fbd5a-eac8-484a-b75c-26b43bdf19ee",
   "metadata": {},
   "outputs": [
    {
     "name": "stdout",
     "output_type": "stream",
     "text": [
      "Submitted batch job 52203138\n"
     ]
    },
    {
     "data": {
      "text/plain": [
       "CompletedProcess(args='    sbatch -c 4 -p hsph -t 2:00:00 --mem=10G -o scratch/merged_vcf//anno2-%j.out --wrap=\"     module load Mambaforge/22.11.1-fasrc01 && conda activate mtb_isolates &&     cd scratch/merged_vcf/ && bcftools view annotations_input.vcf.gz |     awk \\'{gsub(\\\\\"NC_000962\\\\\",\\\\\"Chromosome\\\\\"); print}\\' |     snpEff -ud 500 -v     -configOption Mycobacterium_tuberculosis_h37rv.codonTable=Bacterial_and_Plant_Plastid Mycobacterium_tuberculosis_h37rv >     snpeff_annotated.tmp.vcf\"', returncode=0)"
      ]
     },
     "execution_count": 11,
     "metadata": {},
     "output_type": "execute_result"
    }
   ],
   "source": [
    "cmd = f'\\\n",
    "    sbatch -c 4 -p hsph -t 2:00:00 --mem=10G -o {work_dir}/anno2-%j.out --wrap=\" \\\n",
    "    module load Mambaforge/22.11.1-fasrc01 && conda activate mtb_isolates && \\\n",
    "    cd {work_dir} && bcftools view annotations_input.vcf.gz | \\\n",
    "    awk \\'{{gsub(\\\\\"NC_000962\\\\\",\\\\\"Chromosome\\\\\"); print}}\\' | \\\n",
    "    snpEff -ud 500 -v \\\n",
    "    -configOption Mycobacterium_tuberculosis_h37rv.codonTable=Bacterial_and_Plant_Plastid Mycobacterium_tuberculosis_h37rv > \\\n",
    "    snpeff_annotated.tmp.vcf\"'\n",
    "subprocess.run(cmd, shell=True)"
   ]
  },
  {
   "cell_type": "code",
   "execution_count": 12,
   "id": "6fbac876-19df-4890-be0b-a143a2ec5dc5",
   "metadata": {},
   "outputs": [
    {
     "name": "stdout",
     "output_type": "stream",
     "text": [
      "Submitted batch job 52203162\n"
     ]
    },
    {
     "data": {
      "text/plain": [
       "CompletedProcess(args='    sbatch -c 4 -p hsph -t 2:00:00 --mem=10G -o scratch/merged_vcf//anno3-%j.out --wrap=\"     module load Mambaforge/22.11.1-fasrc01 && conda activate mtb_isolates &&     cd scratch/merged_vcf/ && java -jar  /n/boslfs02/LABS/sfortune_lab/Lab/culviner/sift//SIFT4G_Annotator.jar     -c -i snpeff_annotated.tmp.vcf -d /n/boslfs02/LABS/sfortune_lab/Lab/culviner/sift//GCA_000195955.2.22 -r sift_results -t &&     awk \\'{gsub(\\\\\"Chromosome\\\\\",\\\\\"NC_000962.3\\\\\"); print}\\'     sift_results/snpeff_annotated.tmp_SIFTpredictions.vcf |     bcftools view -O z -o annotated.vcf.gz && tabix annotated.vcf.gz\"', returncode=0)"
      ]
     },
     "execution_count": 12,
     "metadata": {},
     "output_type": "execute_result"
    }
   ],
   "source": [
    "sift_path = '/n/boslfs02/LABS/sfortune_lab/Lab/culviner/sift/'\n",
    "cmd = f'\\\n",
    "    sbatch -c 4 -p hsph -t 2:00:00 --mem=10G -o {work_dir}/anno3-%j.out --wrap=\" \\\n",
    "    module load Mambaforge/22.11.1-fasrc01 && conda activate mtb_isolates && \\\n",
    "    cd {work_dir} && java -jar  {sift_path}/SIFT4G_Annotator.jar \\\n",
    "    -c -i snpeff_annotated.tmp.vcf -d {sift_path}/GCA_000195955.2.22 -r sift_results -t && \\\n",
    "    awk \\'{{gsub(\\\\\"Chromosome\\\\\",\\\\\"NC_000962.3\\\\\"); print}}\\' \\\n",
    "    sift_results/snpeff_annotated.tmp_SIFTpredictions.vcf | \\\n",
    "    bcftools view -O z -o annotated.vcf.gz && tabix annotated.vcf.gz\"'\n",
    "subprocess.run(cmd, shell=True)"
   ]
  },
  {
   "cell_type": "code",
   "execution_count": 13,
   "id": "82abcfdb-427f-45c1-a4f3-252307048e04",
   "metadata": {},
   "outputs": [
    {
     "name": "stdout",
     "output_type": "stream",
     "text": [
      "2024-10-17 12:42:48 - Launching SLURMCluster client (25 workers x 1 CPU x 4GB x 2:00:00 @ sapphire with 5 workers / node)\n"
     ]
    },
    {
     "name": "stderr",
     "output_type": "stream",
     "text": [
      "100%|██████████| 3974/3974 [02:51<00:00, 23.11it/s]  \n"
     ]
    }
   ],
   "source": [
    "client = startClient(\n",
    "    n_workers=25,\n",
    "    use_local=False,\n",
    "    use_slurm=True,\n",
    "    log_dir='/n/home12/pculviner/logs/',\n",
    "    queue='sapphire',\n",
    "    process_per_node=5,\n",
    "    cores_per_process=1,\n",
    "    memory_per_process='4GB',\n",
    "    walltime='2:00:00',\n",
    "    dashboard_address=':10000',\n",
    "    job_script_prologue=[\n",
    "        'export PYTHONPATH=\"${PYTHONPATH}:/n/boslfs02/LABS/sfortune_lab/Lab/culviner/bin/mtbvartools/\"'])\n",
    "\n",
    "# for parallel proc\n",
    "@subproc\n",
    "def annojob(geneid, left, right):\n",
    "    return vt.fetchGeneVariantAnnotations(\n",
    "        f'{work_dir}/annotated.vcf.gz', geneid, left, right)\n",
    "\n",
    "futures = []\n",
    "for geneid, gdata in gene_table.iterrows():\n",
    "    futures.append(client.submit(annojob, geneid, gdata.start + 1, gdata.end + 1))\n",
    "\n",
    "output_df = []\n",
    "for f in tqdm.tqdm(futures):\n",
    "    output_df.append(client.gather(f))\n",
    "    f.release()\n",
    "output_df = pd.concat(output_df, axis=0)\n",
    "client.shutdown()\n",
    "\n",
    "output_df.to_csv(\n",
    "    f'{work_dir}/vcf_annotations.csv')\n",
    "\n",
    "output_df = pd.read_csv(\n",
    "    f'{work_dir}/vcf_annotations.csv')\n",
    "\n",
    "# filter\n",
    "deleterious_settings = {\n",
    "    'Annotation': lambda x: any([atype in str(x) for atype in [\n",
    "        'frameshift_variant',\n",
    "        'stop_gained',\n",
    "        'start_lost']]),\n",
    "    'SIFT_score': lambda x: float(x) < 0.05}\n",
    "\n",
    "deleterious_df = filterDataFrame(output_df, function_dict=deleterious_settings)\n",
    "deleterious_df.to_csv(f'{work_dir}/vcf_annotations.deleterious.csv')"
   ]
  },
  {
   "cell_type": "markdown",
   "id": "54f3ec93-8ad0-493d-abc7-54b4f5f826b8",
   "metadata": {
    "jp-MarkdownHeadingCollapsed": true
   },
   "source": [
    "# Run Tree Construction"
   ]
  },
  {
   "cell_type": "markdown",
   "id": "b007f206-d8d3-4a06-834b-3f6474cdcb1b",
   "metadata": {},
   "source": [
    "## Generate Fastas"
   ]
  },
  {
   "cell_type": "markdown",
   "id": "a3024034-f1d1-4f29-b766-7da40bed49a9",
   "metadata": {},
   "source": [
    "**SNP fasta**"
   ]
  },
  {
   "cell_type": "code",
   "execution_count": 17,
   "id": "2d16f1a6-967f-43b1-b93a-7f18c72bf7b9",
   "metadata": {},
   "outputs": [],
   "source": [
    "import dendropy, os, subprocess, shutil\n",
    "import pandas as pd\n",
    "import numpy as np\n",
    "import matplotlib.pyplot as plt\n",
    "\n",
    "work_dir = 'scratch/snp_fasta/'\n",
    "os.makedirs(work_dir, exist_ok=True)\n",
    "\n",
    "results_inputs = pd.read_csv(\n",
    "    'pipeline_results.csv', index_col=0)"
   ]
  },
  {
   "cell_type": "code",
   "execution_count": 18,
   "id": "bcf187e0-8ab6-40c6-95fc-e480eb96741a",
   "metadata": {},
   "outputs": [
    {
     "name": "stdout",
     "output_type": "stream",
     "text": [
      "Submitted batch job 52224742\n"
     ]
    },
    {
     "data": {
      "text/plain": [
       "CompletedProcess(args='    sbatch -c 20 -p sapphire -t 2:00:00 --mem=40G -o scratch/snp_fasta//fasta-%j.out --wrap=\"    module load Mambaforge/22.11.1-fasrc01 && conda activate mtb_isolates &&     export PATH=\"/n/boslfs02/LABS/sfortune_lab/Lab/culviner/bin/mtbvartools/scripts:/n/home12/pculviner/.conda/envs/mtb_isolates/bin/:$PATH\" &&     export PYTHONPATH=\"${PYTHONPATH}:/n/boslfs02/LABS/sfortune_lab/Lab/culviner/bin/mtbvartools\" &&     write_snp_fastas.py     --input-csv scratch/snp_fasta//tree_inputs.csv     --input-fasta pipeline_inputs/Mtb_h37rv.fasta     --inputs-dir scratch/variant_pipeline/     --out-dir scratch/snp_fasta/     --output snp_fasta     --mask rlc_plus_lowmap_marin.bed     --miss-threshold 0.1     --local-threads 20\"', returncode=0)"
      ]
     },
     "execution_count": 18,
     "metadata": {},
     "output_type": "execute_result"
    }
   ],
   "source": [
    "datasheet_data = [[\n",
    "    'canettii',\n",
    "    'SRR10522783/results/SRR10522783.breseq.vcf',\n",
    "    'SRR10522783/results/SRR10522783.miss.breseq.zarr']]\n",
    "\n",
    "for index, rdata in results_inputs.iterrows():\n",
    "    row_data = [\n",
    "        index,\n",
    "        f'{index}/results/{index}.breseq.vcf',\n",
    "        f'{index}/results/{index}.miss.breseq.zarr']\n",
    "    datasheet_data.append(row_data)\n",
    "\n",
    "tree_df = pd.DataFrame(\n",
    "    data=datasheet_data,\n",
    "    columns=['label', 'vcf_path', 'miss_path'])\n",
    "\n",
    "# run on all strains\n",
    "tree_df.to_csv(f'{work_dir}/tree_inputs.csv')\n",
    "\n",
    "# run fasta generation command for supertree\n",
    "cmd = f'\\\n",
    "    sbatch -c 20 -p sapphire -t 2:00:00 --mem=40G -o {work_dir}/fasta-%j.out --wrap=\"\\\n",
    "    module load Mambaforge/22.11.1-fasrc01 && conda activate mtb_isolates && \\\n",
    "    export PATH=\\\"/n/boslfs02/LABS/sfortune_lab/Lab/culviner/bin/mtbvartools/scripts:/n/home12/pculviner/.conda/envs/mtb_isolates/bin/:$PATH\\\" && \\\n",
    "    export PYTHONPATH=\\\"${{PYTHONPATH}}:/n/boslfs02/LABS/sfortune_lab/Lab/culviner/bin/mtbvartools\\\" && \\\n",
    "    write_snp_fastas.py \\\n",
    "    --input-csv {work_dir}/tree_inputs.csv \\\n",
    "    --input-fasta pipeline_inputs/Mtb_h37rv.fasta \\\n",
    "    --inputs-dir scratch/variant_pipeline/ \\\n",
    "    --out-dir {work_dir} \\\n",
    "    --output snp_fasta \\\n",
    "    --mask rlc_plus_lowmap_marin.bed \\\n",
    "    --miss-threshold 0.1 \\\n",
    "    --local-threads 20\"'\n",
    "subprocess.run(cmd, shell=True)"
   ]
  },
  {
   "cell_type": "markdown",
   "id": "2637a4fc-0e4b-4d50-9641-fd1126084499",
   "metadata": {},
   "source": [
    "**genome fasta**"
   ]
  },
  {
   "cell_type": "code",
   "execution_count": 20,
   "id": "0f258e67-e9fa-4f37-81cc-3d05f289c29d",
   "metadata": {},
   "outputs": [],
   "source": [
    "import dendropy, os, subprocess, shutil\n",
    "import pandas as pd\n",
    "import numpy as np\n",
    "import matplotlib.pyplot as plt\n",
    "\n",
    "work_dir = 'scratch/genome_fasta/'\n",
    "os.makedirs(work_dir, exist_ok=True)\n",
    "\n",
    "results_inputs = pd.read_csv(\n",
    "    'pipeline_results.csv', index_col=0)"
   ]
  },
  {
   "cell_type": "code",
   "execution_count": 21,
   "id": "58c0b4f0-7261-4e53-8153-67b0c5d2a714",
   "metadata": {},
   "outputs": [
    {
     "name": "stdout",
     "output_type": "stream",
     "text": [
      "Submitted batch job 52225193\n"
     ]
    },
    {
     "data": {
      "text/plain": [
       "CompletedProcess(args='    sbatch -c 20 -p sapphire -t 2:00:00 --mem=40G -o scratch/genome_fasta//fasta-%j.out --wrap=\"    module load Mambaforge/22.11.1-fasrc01 && conda activate mtb_isolates &&     export PATH=\"/n/boslfs02/LABS/sfortune_lab/Lab/culviner/bin/mtbvartools/scripts:/n/home12/pculviner/.conda/envs/mtb_isolates/bin/:$PATH\" &&     export PYTHONPATH=\"${PYTHONPATH}:/n/boslfs02/LABS/sfortune_lab/Lab/culviner/bin/mtbvartools\" &&     write_full_fastas.py     --input-csv scratch/genome_fasta//tree_inputs.csv     --input-fasta pipeline_inputs/Mtb_h37rv.fasta     --inputs-dir scratch/variant_pipeline/     --out-dir scratch/genome_fasta/     --output genome_fasta     --mask rlc_plus_lowmap_marin.bed     --miss-threshold 0.1     --local-threads 20\"', returncode=0)"
      ]
     },
     "execution_count": 21,
     "metadata": {},
     "output_type": "execute_result"
    }
   ],
   "source": [
    "datasheet_data = [[\n",
    "    'canettii',\n",
    "    'SRR10522783/results/SRR10522783.breseq.vcf',\n",
    "    'SRR10522783/results/SRR10522783.miss.breseq.zarr']]\n",
    "\n",
    "for index, rdata in results_inputs.iterrows():\n",
    "    row_data = [\n",
    "        index,\n",
    "        f'{index}/results/{index}.breseq.vcf',\n",
    "        f'{index}/results/{index}.miss.breseq.zarr']\n",
    "    datasheet_data.append(row_data)\n",
    "\n",
    "tree_df = pd.DataFrame(\n",
    "    data=datasheet_data,\n",
    "    columns=['label', 'vcf_path', 'miss_path'])\n",
    "\n",
    "# run on all strains\n",
    "tree_df.to_csv(f'{work_dir}/tree_inputs.csv')\n",
    "\n",
    "# run fasta generation command for supertree\n",
    "cmd = f'\\\n",
    "    sbatch -c 20 -p sapphire -t 2:00:00 --mem=40G -o {work_dir}/fasta-%j.out --wrap=\"\\\n",
    "    module load Mambaforge/22.11.1-fasrc01 && conda activate mtb_isolates && \\\n",
    "    export PATH=\\\"/n/boslfs02/LABS/sfortune_lab/Lab/culviner/bin/mtbvartools/scripts:/n/home12/pculviner/.conda/envs/mtb_isolates/bin/:$PATH\\\" && \\\n",
    "    export PYTHONPATH=\\\"${{PYTHONPATH}}:/n/boslfs02/LABS/sfortune_lab/Lab/culviner/bin/mtbvartools\\\" && \\\n",
    "    write_full_fastas.py \\\n",
    "    --input-csv {work_dir}/tree_inputs.csv \\\n",
    "    --input-fasta pipeline_inputs/Mtb_h37rv.fasta \\\n",
    "    --inputs-dir scratch/variant_pipeline/ \\\n",
    "    --out-dir {work_dir} \\\n",
    "    --output genome_fasta \\\n",
    "    --mask rlc_plus_lowmap_marin.bed \\\n",
    "    --miss-threshold 0.1 \\\n",
    "    --local-threads 20\"'\n",
    "subprocess.run(cmd, shell=True)"
   ]
  },
  {
   "cell_type": "markdown",
   "id": "8af88f68-aadb-4dcc-9f42-ce8a8a66afd0",
   "metadata": {},
   "source": [
    "## Construct Trees"
   ]
  },
  {
   "cell_type": "code",
   "execution_count": 1,
   "id": "8fcaa0a5-9700-42a9-8243-7e21c58f6a55",
   "metadata": {},
   "outputs": [],
   "source": [
    "import dendropy, os, subprocess, shutil\n",
    "import pandas as pd\n",
    "import numpy as np\n",
    "import matplotlib.pyplot as plt\n",
    "\n",
    "work_dir = 'scratch/trees/'\n",
    "os.makedirs(work_dir, exist_ok=True)"
   ]
  },
  {
   "cell_type": "markdown",
   "id": "1ea4581e-288f-4bca-8a41-e566beaa7e01",
   "metadata": {},
   "source": [
    "### fasttree SNPs, rawdist"
   ]
  },
  {
   "cell_type": "code",
   "execution_count": 25,
   "id": "4657070b-e41c-4922-b365-4207cfba949b",
   "metadata": {},
   "outputs": [
    {
     "name": "stdout",
     "output_type": "stream",
     "text": [
      "Submitted batch job 52226356\n"
     ]
    },
    {
     "data": {
      "text/plain": [
       "CompletedProcess(args='    sbatch -c 25 -p sapphire -t 12:00:00 --mem=25G -o scratch/trees//ft2_snps_rawdist/tree-%j.out --wrap=\"    export OMP_NUM_THREADS=25 &&     FastTreeMP -rawdist -nt scratch/snp_fasta/snp_fasta.fasta > scratch/trees//ft2_snps_rawdist/ft2_snps_rawdist.nwk\"', returncode=0)"
      ]
     },
     "execution_count": 25,
     "metadata": {},
     "output_type": "execute_result"
    }
   ],
   "source": [
    "tree_label = 'ft2_snps_rawdist'\n",
    "input_fasta = 'scratch/snp_fasta/snp_fasta.fasta'\n",
    "os.makedirs(f'{work_dir}/{tree_label}', exist_ok=True)\n",
    "threads = 25\n",
    "memory = 25\n",
    "\n",
    "cmd = f'\\\n",
    "    sbatch -c {threads} -p sapphire -t 12:00:00 --mem={memory}G -o {work_dir}/{tree_label}/tree-%j.out --wrap=\"\\\n",
    "    export OMP_NUM_THREADS={threads} && \\\n",
    "    FastTreeMP -rawdist -nt {input_fasta} > {work_dir}/{tree_label}/{tree_label}.nwk\"'\n",
    "subprocess.run(cmd, shell=True)"
   ]
  },
  {
   "cell_type": "markdown",
   "id": "248716b1-f148-48f0-b9a4-cb1e083a0012",
   "metadata": {
    "jp-MarkdownHeadingCollapsed": true
   },
   "source": [
    "### fasttree SNPs, rawdist"
   ]
  },
  {
   "cell_type": "code",
   "execution_count": 25,
   "id": "340c6b21-202e-466a-85f1-6b3f600a25a5",
   "metadata": {},
   "outputs": [
    {
     "name": "stdout",
     "output_type": "stream",
     "text": [
      "Submitted batch job 52226356\n"
     ]
    },
    {
     "data": {
      "text/plain": [
       "CompletedProcess(args='    sbatch -c 25 -p sapphire -t 12:00:00 --mem=25G -o scratch/trees//ft2_snps_rawdist/tree-%j.out --wrap=\"    export OMP_NUM_THREADS=25 &&     FastTreeMP -rawdist -nt scratch/snp_fasta/snp_fasta.fasta > scratch/trees//ft2_snps_rawdist/ft2_snps_rawdist.nwk\"', returncode=0)"
      ]
     },
     "execution_count": 25,
     "metadata": {},
     "output_type": "execute_result"
    }
   ],
   "source": [
    "tree_label = 'ft2_snps_rawdist'\n",
    "input_fasta = 'scratch/snp_fasta/snp_fasta.fasta'\n",
    "os.makedirs(f'{work_dir}/{tree_label}', exist_ok=True)\n",
    "threads = 25\n",
    "memory = 25\n",
    "\n",
    "cmd = f'\\\n",
    "    sbatch -c {threads} -p sapphire -t 12:00:00 --mem={memory}G -o {work_dir}/{tree_label}/tree-%j.out --wrap=\"\\\n",
    "    export OMP_NUM_THREADS={threads} && \\\n",
    "    FastTreeMP -rawdist -nt {input_fasta} > {work_dir}/{tree_label}/{tree_label}.nwk\"'\n",
    "subprocess.run(cmd, shell=True)"
   ]
  },
  {
   "cell_type": "markdown",
   "id": "99b0e82b-7c25-46b9-ba83-e2373b22668c",
   "metadata": {
    "jp-MarkdownHeadingCollapsed": true
   },
   "source": [
    "### fasttree SNPs, GTR"
   ]
  },
  {
   "cell_type": "code",
   "execution_count": 26,
   "id": "7c0df000-dc14-47a3-8955-a0e4a8c2f542",
   "metadata": {},
   "outputs": [
    {
     "name": "stdout",
     "output_type": "stream",
     "text": [
      "Submitted batch job 52226468\n"
     ]
    },
    {
     "data": {
      "text/plain": [
       "CompletedProcess(args='    sbatch -c 25 -p sapphire -t 12:00:00 --mem=25G -o scratch/trees//ft2_snps_gtr/tree-%j.out --wrap=\"    export OMP_NUM_THREADS=25 &&     FastTreeMP -gtr -nt scratch/snp_fasta/snp_fasta.fasta > scratch/trees//ft2_snps_gtr/ft2_snps_gtr.nwk\"', returncode=0)"
      ]
     },
     "execution_count": 26,
     "metadata": {},
     "output_type": "execute_result"
    }
   ],
   "source": [
    "tree_label = 'ft2_snps_gtr'\n",
    "input_fasta = 'scratch/snp_fasta/snp_fasta.fasta'\n",
    "os.makedirs(f'{work_dir}/{tree_label}', exist_ok=True)\n",
    "threads = 25\n",
    "memory = 25\n",
    "\n",
    "cmd = f'\\\n",
    "    sbatch -c {threads} -p sapphire -t 12:00:00 --mem={memory}G -o {work_dir}/{tree_label}/tree-%j.out --wrap=\"\\\n",
    "    export OMP_NUM_THREADS={threads} && \\\n",
    "    FastTreeMP -gtr -nt {input_fasta} > {work_dir}/{tree_label}/{tree_label}.nwk\"'\n",
    "subprocess.run(cmd, shell=True)"
   ]
  },
  {
   "cell_type": "markdown",
   "id": "a206a886-4714-4e7a-9a1f-348e5b996965",
   "metadata": {
    "jp-MarkdownHeadingCollapsed": true
   },
   "source": [
    "### iqtree SNPs gtr"
   ]
  },
  {
   "cell_type": "code",
   "execution_count": 27,
   "id": "6045a765-6c55-4fb9-98c3-3992cf641530",
   "metadata": {},
   "outputs": [
    {
     "name": "stdout",
     "output_type": "stream",
     "text": [
      "Submitted batch job 52226874\n"
     ]
    },
    {
     "data": {
      "text/plain": [
       "CompletedProcess(args='    sbatch -c 25 -p sapphire -t 24:00:00 --mem=25G -o scratch/trees//iq_snp_gtr/tree-%j.out --wrap=\"    export OMP_NUM_THREADS=25 &&     module load Mambaforge/22.11.1-fasrc01 && conda activate mtb_isolates &&     iqtree -T 25 -s scratch/snp_fasta/snp_fasta.fasta --model GTR -bb 1000 --prefix scratch/trees//iq_snp_gtr/iq_snp_gtr\"', returncode=0)"
      ]
     },
     "execution_count": 27,
     "metadata": {},
     "output_type": "execute_result"
    }
   ],
   "source": [
    "tree_label = 'iq_snp_gtr'\n",
    "input_fasta = 'scratch/snp_fasta/snp_fasta.fasta'\n",
    "os.makedirs(f'{work_dir}/{tree_label}', exist_ok=True)\n",
    "threads = 25\n",
    "memory = 25\n",
    "\n",
    "cmd = f'\\\n",
    "    sbatch -c {threads} -p sapphire -t 24:00:00 --mem={memory}G -o {work_dir}/{tree_label}/tree-%j.out --wrap=\"\\\n",
    "    export OMP_NUM_THREADS={threads} && \\\n",
    "    module load Mambaforge/22.11.1-fasrc01 && conda activate mtb_isolates && \\\n",
    "    iqtree -T {threads} -s {input_fasta} --model GTR -bb 1000 --prefix {work_dir}/{tree_label}/{tree_label}\"'\n",
    "subprocess.run(cmd, shell=True)"
   ]
  },
  {
   "cell_type": "markdown",
   "id": "7d76d973-c7f4-41ef-8c69-e2df2ad56fb0",
   "metadata": {
    "jp-MarkdownHeadingCollapsed": true
   },
   "source": [
    "### iqtree SNPs gtr constants\n",
    "- Use this one for downstream analyses"
   ]
  },
  {
   "cell_type": "code",
   "execution_count": 28,
   "id": "7bf1ec1b-f5a9-4ecb-a99b-96f77252572d",
   "metadata": {},
   "outputs": [
    {
     "name": "stdout",
     "output_type": "stream",
     "text": [
      "Submitted batch job 52235431\n"
     ]
    },
    {
     "data": {
      "text/plain": [
       "CompletedProcess(args='    sbatch -c 25 -p sapphire -t 24:00:00 --mem=25G -o scratch/trees//iq_snp_gtr_cons/tree-%j.out --wrap=\"    export OMP_NUM_THREADS=25 &&     module load Mambaforge/22.11.1-fasrc01 && conda activate mtb_isolates &&     iqtree -T 25 -fconst 700494,1322616,1318890,700844 -s scratch/snp_fasta/snp_fasta.fasta --model GTR -bb 1000 --prefix scratch/trees//iq_snp_gtr_cons/iq_snp_gtr_cons\"', returncode=0)"
      ]
     },
     "execution_count": 28,
     "metadata": {},
     "output_type": "execute_result"
    }
   ],
   "source": [
    "tree_label = 'iq_snp_gtr_cons'\n",
    "input_fasta = 'scratch/snp_fasta/snp_fasta.fasta'\n",
    "os.makedirs(f'{work_dir}/{tree_label}', exist_ok=True)\n",
    "# added A, C, G, T\n",
    "threads = 25\n",
    "memory = 25\n",
    "\n",
    "cmd = f'\\\n",
    "    sbatch -c {threads} -p sapphire -t 24:00:00 --mem={memory}G -o {work_dir}/{tree_label}/tree-%j.out --wrap=\"\\\n",
    "    export OMP_NUM_THREADS={threads} && \\\n",
    "    module load Mambaforge/22.11.1-fasrc01 && conda activate mtb_isolates && \\\n",
    "    iqtree -T {threads} -fconst 700494,1322616,1318890,700844 -s {input_fasta} --model GTR -bb 1000 --prefix {work_dir}/{tree_label}/{tree_label}\"'\n",
    "subprocess.run(cmd, shell=True)"
   ]
  },
  {
   "cell_type": "code",
   "execution_count": 2,
   "id": "e0fe0ac7-aeb4-41dd-808d-b4eb58a0396d",
   "metadata": {},
   "outputs": [],
   "source": [
    "tree_label = 'iq_snp_gtr_cons'\n",
    "# load the tree\n",
    "tree = dendropy.Tree.get_from_path(\n",
    "    f'{work_dir}/{tree_label}/{tree_label}.contree', 'newick')\n",
    "# root at canettii\n",
    "tree.reroot_at_node(\n",
    "    tree.find_node_with_taxon_label('canettii'))\n",
    "tree.prune_taxa_with_labels('canettii')\n",
    "# ladderize\n",
    "tree.ladderize()\n",
    "tree.write(\n",
    "    path=f'{work_dir}/{tree_label}/{tree_label}.rooted.contree.nwk',\n",
    "    schema='newick')"
   ]
  },
  {
   "cell_type": "code",
   "execution_count": 3,
   "id": "b859e27f-9c97-4c85-8ef1-50b00bdee785",
   "metadata": {},
   "outputs": [],
   "source": [
    "tree_label = 'iq_snp_gtr_cons'\n",
    "# load the tree\n",
    "tree = dendropy.Tree.get_from_path(\n",
    "    f'{work_dir}/{tree_label}/{tree_label}.contree', 'newick')\n",
    "# root at canettii\n",
    "tree.reroot_at_node(\n",
    "    tree.find_node_with_taxon_label('canettii').parent_node)\n",
    "# ladderize\n",
    "tree.ladderize()\n",
    "tree.write(\n",
    "    path=f'{work_dir}/{tree_label}/{tree_label}.outgroup.contree.nwk',\n",
    "    schema='newick')"
   ]
  },
  {
   "cell_type": "markdown",
   "id": "c7188e1a-2924-4253-af84-1f3925e21da2",
   "metadata": {
    "jp-MarkdownHeadingCollapsed": true
   },
   "source": [
    "### iqtree SNPs pathogen"
   ]
  },
  {
   "cell_type": "code",
   "execution_count": 3,
   "id": "4c075068-cfdf-4d8c-b6b9-524ff5c28dd2",
   "metadata": {},
   "outputs": [
    {
     "name": "stdout",
     "output_type": "stream",
     "text": [
      "Submitted batch job 52305775\n"
     ]
    },
    {
     "data": {
      "text/plain": [
       "CompletedProcess(args='    sbatch -c 25 -p sapphire -t 24:00:00 --mem=25G -o scratch/trees//iq_snp_pathogen/tree-%j.out --wrap=\"    export OMP_NUM_THREADS=25 &&     module load Mambaforge/22.11.1-fasrc01 && conda activate mtb_isolates &&     iqtree -T 25 -s scratch/snp_fasta/snp_fasta.fasta --pathogen-force --model GTR -bb 1000 --prefix scratch/trees//iq_snp_pathogen/iq_snp_pathogen\"', returncode=0)"
      ]
     },
     "execution_count": 3,
     "metadata": {},
     "output_type": "execute_result"
    }
   ],
   "source": [
    "tree_label = 'iq_snp_pathogen'\n",
    "input_fasta = 'scratch/snp_fasta/snp_fasta.fasta'\n",
    "os.makedirs(f'{work_dir}/{tree_label}', exist_ok=True)\n",
    "threads = 25\n",
    "memory = 25\n",
    "\n",
    "cmd = f'\\\n",
    "    sbatch -c {threads} -p sapphire -t 24:00:00 --mem={memory}G -o {work_dir}/{tree_label}/tree-%j.out --wrap=\"\\\n",
    "    export OMP_NUM_THREADS={threads} && \\\n",
    "    module load Mambaforge/22.11.1-fasrc01 && conda activate mtb_isolates && \\\n",
    "    iqtree -T {threads} -s {input_fasta} --pathogen-force --model GTR -bb 1000 --prefix {work_dir}/{tree_label}/{tree_label}\"'\n",
    "subprocess.run(cmd, shell=True)"
   ]
  },
  {
   "cell_type": "markdown",
   "id": "2de9a226-0619-4ccc-8e84-20a04f1e2f01",
   "metadata": {
    "jp-MarkdownHeadingCollapsed": true
   },
   "source": [
    "### iqtree SNPs pathogen constants"
   ]
  },
  {
   "cell_type": "code",
   "execution_count": 4,
   "id": "3d833a06-1277-458d-a473-e7596b52d33a",
   "metadata": {},
   "outputs": [
    {
     "name": "stdout",
     "output_type": "stream",
     "text": [
      "Submitted batch job 52305781\n"
     ]
    },
    {
     "data": {
      "text/plain": [
       "CompletedProcess(args='    sbatch -c 25 -p sapphire -t 24:00:00 --mem=25G -o scratch/trees//iq_snp_pathogen_cons/tree-%j.out --wrap=\"    export OMP_NUM_THREADS=25 &&     module load Mambaforge/22.11.1-fasrc01 && conda activate mtb_isolates &&     iqtree -T 25 -s scratch/snp_fasta/snp_fasta.fasta -fconst 700494,1322616,1318890,700844 --pathogen-force --model GTR -bb 1000 --prefix scratch/trees//iq_snp_pathogen_cons/iq_snp_pathogen_cons\"', returncode=0)"
      ]
     },
     "execution_count": 4,
     "metadata": {},
     "output_type": "execute_result"
    }
   ],
   "source": [
    "tree_label = 'iq_snp_pathogen_cons'\n",
    "input_fasta = 'scratch/snp_fasta/snp_fasta.fasta'\n",
    "os.makedirs(f'{work_dir}/{tree_label}', exist_ok=True)\n",
    "threads = 25\n",
    "memory = 25\n",
    "cmd = f'\\\n",
    "    sbatch -c {threads} -p sapphire -t 24:00:00 --mem={memory}G -o {work_dir}/{tree_label}/tree-%j.out --wrap=\"\\\n",
    "    export OMP_NUM_THREADS={threads} && \\\n",
    "    module load Mambaforge/22.11.1-fasrc01 && conda activate mtb_isolates && \\\n",
    "    iqtree -T {threads} -s {input_fasta} -fconst 700494,1322616,1318890,700844 --pathogen-force --model GTR -bb 1000 --prefix {work_dir}/{tree_label}/{tree_label}\"'\n",
    "subprocess.run(cmd, shell=True)"
   ]
  },
  {
   "cell_type": "markdown",
   "id": "6ec1aa28-26c2-46d7-81e3-ec21e3d6a7ee",
   "metadata": {
    "jp-MarkdownHeadingCollapsed": true
   },
   "source": [
    "### iqtree genome pathogen constants"
   ]
  },
  {
   "cell_type": "code",
   "execution_count": 6,
   "id": "c0aa1ebd-6d50-4cce-ae23-b248e569c4f5",
   "metadata": {},
   "outputs": [
    {
     "name": "stdout",
     "output_type": "stream",
     "text": [
      "Submitted batch job 52305814\n"
     ]
    },
    {
     "data": {
      "text/plain": [
       "CompletedProcess(args='    sbatch -c 25 -p sapphire -t 24:00:00 --mem=25G -o scratch/trees//iq_genome_pathogen/tree-%j.out --wrap=\"    export OMP_NUM_THREADS=25 &&     module load Mambaforge/22.11.1-fasrc01 && conda activate mtb_isolates &&     iqtree -T 25 -s scratch/genome_fasta/genome_fasta.fasta --pathogen-force --model GTR -alrt 1000 --prefix scratch/trees//iq_genome_pathogen/iq_genome_pathogen\"', returncode=0)"
      ]
     },
     "execution_count": 6,
     "metadata": {},
     "output_type": "execute_result"
    }
   ],
   "source": [
    "tree_label = 'iq_genome_pathogen'\n",
    "input_fasta = 'scratch/genome_fasta/genome_fasta.fasta'\n",
    "os.makedirs(f'{work_dir}/{tree_label}', exist_ok=True)\n",
    "threads = 25\n",
    "memory = 25\n",
    "cmd = f'\\\n",
    "    sbatch -c {threads} -p sapphire -t 24:00:00 --mem={memory}G -o {work_dir}/{tree_label}/tree-%j.out --wrap=\"\\\n",
    "    export OMP_NUM_THREADS={threads} && \\\n",
    "    module load Mambaforge/22.11.1-fasrc01 && conda activate mtb_isolates && \\\n",
    "    iqtree -T {threads} -s {input_fasta} --pathogen-force --model GTR -alrt 1000 --prefix {work_dir}/{tree_label}/{tree_label}\"'\n",
    "subprocess.run(cmd, shell=True)"
   ]
  },
  {
   "cell_type": "markdown",
   "id": "3b7a043e-3141-46d0-84ca-e59da383cc35",
   "metadata": {},
   "source": [
    "# Ancestral Reconstruction & Event Calling"
   ]
  },
  {
   "cell_type": "code",
   "execution_count": 2,
   "id": "41568aed-ad5b-4087-9cde-125559e8dbe9",
   "metadata": {},
   "outputs": [],
   "source": [
    "import zarr, sys, tqdm, dendropy, time, os\n",
    "import numpy as np\n",
    "import pandas as pd\n",
    "sys.path.append('/n/boslfs02/LABS/sfortune_lab/Lab/culviner/bin/mtbvartools/')\n",
    "import mtbvartools as vt\n",
    "from mtbvartools.dasktools import startClient"
   ]
  },
  {
   "cell_type": "code",
   "execution_count": 3,
   "id": "5e81443c-9852-463d-995d-dc9485671050",
   "metadata": {},
   "outputs": [],
   "source": [
    "work_dir = 'scratch/ancres/'\n",
    "os.makedirs(work_dir, exist_ok=True)"
   ]
  },
  {
   "cell_type": "markdown",
   "id": "0c4b50c7-ff48-42ec-b221-05d668222bfc",
   "metadata": {},
   "source": [
    "## VCF Conversion"
   ]
  },
  {
   "cell_type": "code",
   "execution_count": 5,
   "id": "0a51ab0f-7fd5-4d98-9d35-bfebf7250209",
   "metadata": {},
   "outputs": [
    {
     "name": "stdout",
     "output_type": "stream",
     "text": [
      "2024-11-04 12:12:21 - Launching SLURMCluster client (25 workers x 1 CPU x 5GB x 1:00:00 @ sapphire with 5 workers / node)\n"
     ]
    }
   ],
   "source": [
    "client = startClient(\n",
    "    n_workers=25,\n",
    "    use_local=False,\n",
    "    use_slurm=True,\n",
    "    log_dir='/n/home12/pculviner/logs/',\n",
    "    queue='sapphire',\n",
    "    process_per_node=5,\n",
    "    cores_per_process=1,\n",
    "    memory_per_process='5GB',\n",
    "    walltime='1:00:00',\n",
    "    dashboard_address=':10000',\n",
    "    job_script_prologue=[\n",
    "        'export PYTHONPATH=\"${PYTHONPATH}:/n/boslfs02/LABS/sfortune_lab/Lab/culviner/bin/mtbvartools/\"'])"
   ]
  },
  {
   "cell_type": "code",
   "execution_count": 6,
   "id": "59fbe6b8-af22-4fa8-bd96-525fa7f9f8fa",
   "metadata": {},
   "outputs": [
    {
     "name": "stdout",
     "output_type": "stream",
     "text": [
      "importing calls from VCF (indexed & compressed by variants)....\n"
     ]
    },
    {
     "name": "stderr",
     "output_type": "stream",
     "text": [
      "100%|██████████| 1000/1000 [00:32<00:00, 30.43it/s]\n"
     ]
    },
    {
     "name": "stdout",
     "output_type": "stream",
     "text": [
      "rechunking compression (for off axis random access)....\n"
     ]
    },
    {
     "name": "stderr",
     "output_type": "stream",
     "text": [
      "100%|██████████| 50/50 [00:26<00:00,  1.87it/s]\n"
     ]
    }
   ],
   "source": [
    "vt.writeVariantCalls(\n",
    "    'scratch/merged_vcf/merged.filtered.vcf.gz', f'{work_dir}/241103_variant_calls.vcb',)\n",
    "time.sleep(5)\n",
    "client.shutdown()"
   ]
  },
  {
   "cell_type": "markdown",
   "id": "bb92fd7b-3d94-471f-832a-387ca027cee0",
   "metadata": {},
   "source": [
    "## Ancestral Reconstruction"
   ]
  },
  {
   "cell_type": "code",
   "execution_count": 7,
   "id": "09e8909b-e3b2-4648-9700-0ca83a8adf7d",
   "metadata": {},
   "outputs": [
    {
     "name": "stdout",
     "output_type": "stream",
     "text": [
      "2024-11-04 12:14:20 - Launching SLURMCluster client (25 workers x 1 CPU x 5GB x 1:00:00 @ sapphire with 5 workers / node)\n"
     ]
    }
   ],
   "source": [
    "client = startClient(\n",
    "    n_workers=25,\n",
    "    use_local=False,\n",
    "    use_slurm=True,\n",
    "    log_dir='.',\n",
    "    queue='sapphire',\n",
    "    process_per_node=5,\n",
    "    cores_per_process=1,\n",
    "    memory_per_process='5GB',\n",
    "    walltime='1:00:00',\n",
    "    dashboard_address=':10000',\n",
    "    job_script_prologue=[\n",
    "        'export PYTHONPATH=\"${PYTHONPATH}:/n/boslfs02/LABS/sfortune_lab/Lab/culviner/bin/mtbvartools/\"'])"
   ]
  },
  {
   "cell_type": "code",
   "execution_count": 8,
   "id": "06153122-2891-4add-bf15-568e7e601731",
   "metadata": {},
   "outputs": [
    {
     "name": "stderr",
     "output_type": "stream",
     "text": [
      "100%|██████████| 1126/1126 [00:33<00:00, 33.30it/s]\n"
     ]
    },
    {
     "name": "stdout",
     "output_type": "stream",
     "text": [
      "rechunking compression (for off axis random access)....\n"
     ]
    },
    {
     "name": "stderr",
     "output_type": "stream",
     "text": [
      "100%|██████████| 25/25 [00:00<00:00, 60.93it/s]\n"
     ]
    }
   ],
   "source": [
    "vt.writeAncestorCalls(\n",
    "    vcb_path='scratch/ancres/241103_variant_calls.vcb',\n",
    "    tree_path='scratch/trees/iq_snp_gtr_cons/iq_snp_gtr_cons.outgroup.contree.nwk',\n",
    "    output_path=f'{work_dir}/241103_ancestor_calls.vcb',\n",
    "    step_size=25, miss_filter=0.75, timeout=300, rechunk_jobs=25)\n",
    "time.sleep(5)\n",
    "client.shutdown()"
   ]
  },
  {
   "cell_type": "markdown",
   "id": "b62b9c32-0e6b-40dd-b240-a910a31b42fd",
   "metadata": {
    "jp-MarkdownHeadingCollapsed": true
   },
   "source": [
    "## Event Calling"
   ]
  },
  {
   "cell_type": "code",
   "execution_count": 4,
   "id": "d9cc47d1-a7fa-4273-93c1-0d014578ceac",
   "metadata": {},
   "outputs": [
    {
     "name": "stdout",
     "output_type": "stream",
     "text": [
      "2024-11-04 12:30:00 - Launching LocalCluster client (3 workers)\n"
     ]
    }
   ],
   "source": [
    "client = startClient(\n",
    "    n_workers=3,\n",
    "    use_local=True)"
   ]
  },
  {
   "cell_type": "code",
   "execution_count": 5,
   "id": "91f5baca-cbfa-4e68-8dd5-16d1f7ba78b6",
   "metadata": {},
   "outputs": [
    {
     "name": "stdout",
     "output_type": "stream",
     "text": [
      "writing transitions....\n"
     ]
    },
    {
     "name": "stderr",
     "output_type": "stream",
     "text": [
      "100%|██████████| 273/273 [00:00<00:00, 1091.25it/s]\n"
     ]
    },
    {
     "name": "stdout",
     "output_type": "stream",
     "text": [
      "rechunking compression (for off axis random access)....\n"
     ]
    },
    {
     "name": "stderr",
     "output_type": "stream",
     "text": [
      "100%|██████████| 25/25 [00:05<00:00,  4.43it/s]\n"
     ]
    },
    {
     "name": "stdout",
     "output_type": "stream",
     "text": [
      "counting reversions....\n"
     ]
    },
    {
     "name": "stderr",
     "output_type": "stream",
     "text": [
      "100%|██████████| 548/548 [00:01<00:00, 529.69it/s]\n"
     ]
    },
    {
     "name": "stdout",
     "output_type": "stream",
     "text": [
      "merging gene-level annotations....\n",
      "writing genomic annotations....\n"
     ]
    },
    {
     "name": "stderr",
     "output_type": "stream",
     "text": [
      "100%|██████████| 27945/27945 [00:15<00:00, 1759.89it/s]\n"
     ]
    }
   ],
   "source": [
    "vt.writeEventCalls(\n",
    "    'scratch/ancres/241103_ancestor_calls.vcb', 'scratch/ancres/241103_variant_calls.vcb', 'scratch/ancres/241103_event_calls.vcb',\n",
    "    annotations_csv='scratch/merged_vcf/vcf_annotations.csv',\n",
    "    gene_table_csv='pipeline_inputs/gt_mtb_h37rv.csv',\n",
    "    rechunk_jobs=25)\n",
    "time.sleep(5)\n",
    "client.shutdown()"
   ]
  }
 ],
 "metadata": {
  "kernelspec": {
   "display_name": "general_py",
   "language": "python",
   "name": "general_py"
  },
  "language_info": {
   "codemirror_mode": {
    "name": "ipython",
    "version": 3
   },
   "file_extension": ".py",
   "mimetype": "text/x-python",
   "name": "python",
   "nbconvert_exporter": "python",
   "pygments_lexer": "ipython3",
   "version": "3.12.8"
  }
 },
 "nbformat": 4,
 "nbformat_minor": 5
}
