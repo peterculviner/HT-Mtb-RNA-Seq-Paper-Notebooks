{
 "cells": [
  {
   "cell_type": "code",
   "execution_count": 1,
   "id": "025ddf25-42da-4f6e-a58c-25f6edc441a9",
   "metadata": {},
   "outputs": [],
   "source": [
    "import sys, os\n",
    "sys.path.append('/Users/pculviner/notebook/bin/mtbrnaseq/')\n",
    "from mtbrnaseq import *\n",
    "from dask.distributed import LocalCluster\n",
    "\n",
    "env = os.environ\n",
    "conda_path = os.path.dirname(sys.executable)  # store conda path for shell execution\n",
    "env['PATH'] = conda_path + os.pathsep + env['PATH']"
   ]
  },
  {
   "cell_type": "code",
   "execution_count": 2,
   "id": "40774753-cb57-4754-bfa0-d32c6a9f0a58",
   "metadata": {},
   "outputs": [
    {
     "name": "stdout",
     "output_type": "stream",
     "text": [
      "Demultiplexing from input fastqs....\n"
     ]
    },
    {
     "name": "stderr",
     "output_type": "stream",
     "text": [
      "100%|███████████████████████████████████████████████████████████████████████████████████████████| 3/3 [00:09<00:00,  3.14s/it]\n"
     ]
    },
    {
     "name": "stdout",
     "output_type": "stream",
     "text": [
      "Trimming fastqs....\n"
     ]
    },
    {
     "name": "stderr",
     "output_type": "stream",
     "text": [
      "100%|█████████████████████████████████████████████████████████████████████████████████████████| 27/27 [00:11<00:00,  2.36it/s]\n"
     ]
    },
    {
     "name": "stdout",
     "output_type": "stream",
     "text": [
      "Concatenating outputs....\n"
     ]
    },
    {
     "name": "stderr",
     "output_type": "stream",
     "text": [
      "100%|███████████████████████████████████████████████████████████████████████████████████████| 27/27 [00:00<00:00, 3050.81it/s]\n"
     ]
    },
    {
     "name": "stdout",
     "output_type": "stream",
     "text": [
      "Cleaining up....\n"
     ]
    }
   ],
   "source": [
    "client = LocalCluster(\n",
    "    n_workers=3,\n",
    "    threads_per_worker=1).get_client()\n",
    "demultiplexDatasets(\n",
    "   'validation_fastqs.csv', 'validation_inline.csv', '../rnaseq/fastqs', '../rnaseq/validation',\n",
    "    client=client, threads=5)\n",
    "client.shutdown()"
   ]
  },
  {
   "cell_type": "code",
   "execution_count": 3,
   "id": "02eee1ed-f983-457b-a2b9-ce1842fc3f4e",
   "metadata": {},
   "outputs": [
    {
     "name": "stdout",
     "output_type": "stream",
     "text": [
      "Preparing index....\n",
      "Mapping samples....\n"
     ]
    },
    {
     "name": "stderr",
     "output_type": "stream",
     "text": [
      "100%|█████████████████████████████████████████████████████████████████████████████████████████| 27/27 [05:19<00:00, 11.82s/it]\n"
     ]
    },
    {
     "name": "stdout",
     "output_type": "stream",
     "text": [
      "Parsing outputs....\n"
     ]
    },
    {
     "name": "stderr",
     "output_type": "stream",
     "text": [
      "100%|███████████████████████████████████████████████████████████████████████████████████████| 27/27 [00:00<00:00, 5720.08it/s]\n"
     ]
    },
    {
     "name": "stdout",
     "output_type": "stream",
     "text": [
      "Cleaning up....\n"
     ]
    }
   ],
   "source": [
    "client = LocalCluster(\n",
    "    n_workers=4,\n",
    "    threads_per_worker=1,).get_client()\n",
    "mapSplitFastqs(\n",
    "    'validation_inline.csv', '../rnaseq/validation/split_fastqs', '../rnaseq/validation/',  '../datasets/Mtb_h37rv.fasta',\n",
    "    rm_duplicates=True, threads=5, client=client)\n",
    "client.shutdown()"
   ]
  },
  {
   "cell_type": "code",
   "execution_count": 4,
   "id": "469b7906-d646-4736-9a40-17cfe4c44961",
   "metadata": {},
   "outputs": [
    {
     "name": "stdout",
     "output_type": "stream",
     "text": [
      "Mapping fragments to regions....\n"
     ]
    },
    {
     "name": "stderr",
     "output_type": "stream",
     "text": [
      "100%|█████████████████████████████████████████████████████████████████████████████████████████| 27/27 [00:01<00:00, 17.25it/s]\n"
     ]
    }
   ],
   "source": [
    "client = LocalCluster(\n",
    "    n_workers=15,\n",
    "    threads_per_worker=1,).get_client()\n",
    "counts, statistics = bamsToGeneCounts(\n",
    "    'validation_inline.csv', '../rnaseq/validation/bams', '../datasets/gt_mtb_h37rv.csv',\n",
    "    client=client, mapq_cutoff=10)\n",
    "client.shutdown()"
   ]
  },
  {
   "cell_type": "code",
   "execution_count": 6,
   "id": "fa00c0ec-1abf-494a-b848-19ba5dab968d",
   "metadata": {},
   "outputs": [],
   "source": [
    "counts.to_csv('../rnaseq/validation/validation_counts.csv')\n",
    "statistics.to_csv('../rnaseq/validation/region_summary.csv')"
   ]
  }
 ],
 "metadata": {
  "kernelspec": {
   "display_name": "general_py",
   "language": "python",
   "name": "general_py"
  },
  "language_info": {
   "codemirror_mode": {
    "name": "ipython",
    "version": 3
   },
   "file_extension": ".py",
   "mimetype": "text/x-python",
   "name": "python",
   "nbconvert_exporter": "python",
   "pygments_lexer": "ipython3",
   "version": "3.12.8"
  }
 },
 "nbformat": 4,
 "nbformat_minor": 5
}
