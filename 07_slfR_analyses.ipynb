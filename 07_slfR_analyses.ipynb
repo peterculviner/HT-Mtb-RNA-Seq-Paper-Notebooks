{
 "cells": [
  {
   "cell_type": "code",
   "execution_count": 1,
   "id": "b6628f83-4494-4975-9a47-a0078192c677",
   "metadata": {},
   "outputs": [],
   "source": [
    "import pysam, subprocess\n",
    "import pandas as pd\n",
    "import numpy as np\n",
    "from scipy.stats import gmean\n",
    "from scipy.signal import find_peaks\n",
    "from statsmodels.stats.weightstats import ztest\n",
    "from statsmodels.stats.multitest import multipletests\n",
    "from Bio import SeqIO\n",
    "import matplotlib.pyplot as plt\n",
    "import seaborn as sns\n",
    "plt.style.use('paper_style.mplstyle')\n",
    "\n",
    "colors = {\n",
    "    'dred':    '#c54e52', 'lred':    '#f8b1bb',\n",
    "    'dblue':   '#3c5488', 'lblue':   '#bfd6ef',\n",
    "    'dgreen':  '#00a087', 'lgreen':  '#c0e6ea',\n",
    "    'dpink':   '#d78bbb', 'lpink':   '#f9d5e5',\n",
    "    'dyellow': '#ccb974', 'lyellow': '#fff0c1',\n",
    "    'gray': '#c0c0c0'}"
   ]
  },
  {
   "cell_type": "markdown",
   "id": "e03c3e79-d338-4701-acae-bc419c329c7c",
   "metadata": {},
   "source": [
    "# Peak Plot & Table"
   ]
  },
  {
   "cell_type": "code",
   "execution_count": 2,
   "id": "43b03bb9-a9e5-42a8-984d-bee2c6901b9c",
   "metadata": {},
   "outputs": [],
   "source": [
    "def fragdensity(path_to_bam, min_mapq=0, refseq_index=0, dtype=np.uint32):\n",
    "    def filterReads(reads):\n",
    "        for read in reads:  # yield only reads which are proper paired, meet mapq cutoff, and are one side of the fragment\n",
    "            if read.is_proper_pair and read.mapping_quality >= min_mapq and read.template_length > 0:\n",
    "                yield read\n",
    "    # prepare the output array and load the experiment\n",
    "    bam = pysam.Samfile(path_to_bam, \"rb\")  # load the bam file\n",
    "    density_array = np.zeros((bam.lengths[refseq_index],), dtype)\n",
    "    fragment_lengths = []\n",
    "    # load and filter the reads and add them to the density array\n",
    "    filtered_reads = filterReads(bam.fetch(bam.references[refseq_index]))\n",
    "    n_mapped = 0\n",
    "    for read in filtered_reads:\n",
    "        # add a count for the left side of the fragment\n",
    "        density_array[read.pos:read.pos + read.template_length] += 1\n",
    "        # record the length of the fragment\n",
    "        fragment_lengths.append(read.template_length)\n",
    "        # record number of reads\n",
    "        n_mapped += 1 \n",
    "    # return density array and numpy array of fragment lengths\n",
    "    return density_array, n_mapped, np.asarray(fragment_lengths)\n",
    "\n",
    "\n",
    "def countnormalization_1d(sample_arrays, counts):\n",
    "    # load arrays\n",
    "    sample_arrays = np.asarray(sample_arrays)\n",
    "    counts = np.asarray(counts)\n",
    "    size_factors = counts / gmean(counts)\n",
    "    # now normalize the arrays\n",
    "    normalized_sample_arrays = (sample_arrays + 1) / size_factors.reshape(-1, 1)\n",
    "    return normalized_sample_arrays\n",
    "\n",
    "\n",
    "def decimatedata(x, y, function, steps):\n",
    "    step_pairs = np.asarray(\n",
    "        [np.linspace(min(x), max(x), num=steps)[:-1],\n",
    "         np.linspace(min(x), max(x), num=steps)[1:]]).T\n",
    "    new_x = []\n",
    "    new_y = []\n",
    "    for pair in step_pairs:\n",
    "        new_x.append(np.mean(pair))\n",
    "        new_y.append(function(y[np.all([x >= pair[0], x < pair[1]], axis=0)]))\n",
    "    return np.asarray(new_x), np.asarray(new_y)\n",
    "\n",
    "def linePlot(x, y, axis, **kwargs):\n",
    "    min_y = min(y)\n",
    "    for x_pt, y_pt in zip(x, y):\n",
    "        axis.plot([x_pt, x_pt], [min_y, y_pt], **kwargs)\n",
    "\n",
    "def nearbygenes(bp_position, gene_table, n_genes_per_side=1):\n",
    "    # first, check if we're in a gene already\n",
    "    try:\n",
    "        intergenic = gene_table.loc[\n",
    "            gene_table.index[np.all([gene_table.start <= bp_position, gene_table.end >= bp_position], axis=0)].values,'plt_tag'].values[0]\n",
    "    except:\n",
    "        intergenic = 'None'\n",
    "    # pull from the left side\n",
    "    try:\n",
    "        left = gene_table.loc[gene_table.end < bp_position,'plt_tag'][-1*n_genes_per_side:].values[0]\n",
    "    except:\n",
    "        left = 'None'\n",
    "    # pull from the right side\n",
    "    try:\n",
    "        right = gene_table.loc[gene_table.start > bp_position,'plt_tag'][:n_genes_per_side].values[0]\n",
    "    except:\n",
    "        right = 'None'\n",
    "    return left, intergenic, right"
   ]
  },
  {
   "cell_type": "markdown",
   "id": "80bfdd76-8285-4685-9096-e89ed7b05c03",
   "metadata": {},
   "source": [
    "Count normalize and place samples in a dictionary by name."
   ]
  },
  {
   "cell_type": "code",
   "execution_count": 3,
   "id": "915571c0-4b6b-4f14-a469-747e623f47b9",
   "metadata": {},
   "outputs": [],
   "source": [
    "bam_inputs = {\n",
    "    's1_0nM': 'idapseq/bams/s1_0nM.bam',\n",
    "    's2_0nM': 'idapseq/bams/s2_0nM.bam',\n",
    "    's3_300nM': 'idapseq/bams/s3_300nM.bam',\n",
    "    's4_300nM': 'idapseq/bams/s4_300nM.bam'}\n",
    "\n",
    "\n",
    "# load gene table\n",
    "gene_table = pd.read_csv(\n",
    "    'datasets/gt_mtb_h37rv.csv', index_col=0)"
   ]
  },
  {
   "cell_type": "code",
   "execution_count": 4,
   "id": "eb07d677-d9dd-464e-8aa0-4025654d541d",
   "metadata": {},
   "outputs": [],
   "source": [
    "sample_arrays = []\n",
    "counts = [] \n",
    "for name, bam_path in bam_inputs.items():\n",
    "    density_array, n_mapped, _ = fragdensity(bam_path)\n",
    "    sample_arrays.append(density_array)\n",
    "    counts.append(n_mapped)\n",
    "normalized_counts = countnormalization_1d(sample_arrays, counts)\n",
    "count_dict = {\n",
    "    name: normalized_counts[i] for i, name in enumerate(bam_inputs.keys())}\n",
    "\n",
    "# get average binding signal\n",
    "binding_signal = (\n",
    "    np.mean([count_dict['s3_300nM'], count_dict['s4_300nM']], axis=0) /\n",
    "    np.mean([count_dict['s1_0nM'], count_dict['s2_0nM']], axis=0))\n",
    "\n",
    "# identify top 50 peaks\n",
    "indexes = find_peaks(binding_signal, distance=500)[0]\n",
    "top_peaks = pd.DataFrame(\n",
    "    data=binding_signal[indexes],\n",
    "    columns=['signal'],\n",
    "    index=indexes).sort_values('signal', ascending=False).head(50)\n",
    "\n",
    "# get nearby genes\n",
    "nearby_genes = pd.DataFrame(\n",
    "    data=np.asarray([nearbygenes(idx, gene_table) for idx in top_peaks.index]),\n",
    "    index=top_peaks.index[:50],\n",
    "    columns=['left', 'intergenic', 'right'])\n",
    "nearby_genes.left = nearby_genes.left.str.replace('\\n', ' ')\n",
    "nearby_genes.intergenic = nearby_genes.intergenic.str.replace('\\n', ' ')\n",
    "nearby_genes.right = nearby_genes.right.str.replace('\\n', ' ')\n",
    "\n",
    "# concatenate the dataframes\n",
    "top_peaks = pd.concat([top_peaks, nearby_genes], axis=1)\n",
    "top_peaks.to_csv('outputs/tables/TableS4_slfR_binding_peaks.csv')"
   ]
  },
  {
   "cell_type": "code",
   "execution_count": 10,
   "id": "26d3e3a9-71d6-4192-bfe6-9eeb89526be1",
   "metadata": {},
   "outputs": [],
   "source": [
    "pd.DataFrame(\n",
    "    data=[count_dict['s1_0nM'], count_dict['s2_0nM'], count_dict['s3_300nM'], count_dict['s4_300nM'], binding_signal],\n",
    "    index=['s1_0nM', 's2_0nM', 's3_300nM', 's4_300nM', 'binding_signal']).T.to_csv('idapseq/Rv0042c_signal.csv.gz', index=False)"
   ]
  },
  {
   "cell_type": "markdown",
   "id": "858bae79-7cde-4844-b512-8104a639f3ae",
   "metadata": {},
   "source": [
    "Plot of top peaks."
   ]
  },
  {
   "cell_type": "code",
   "execution_count": 10,
   "id": "741d1044-5e06-429e-9d50-3edd2f16ab73",
   "metadata": {},
   "outputs": [
    {
     "data": {
      "image/png": "[encoded data removed]",
      "text/plain": [
       "<Figure size 750x375 with 1 Axes>"
      ]
     },
     "metadata": {},
     "output_type": "display_data"
    }
   ],
   "source": [
    "output_dir = 'outputs/figures'\n",
    "output_name = '4C_slfR_binding_peaks.pdf'\n",
    "decimation_n = 500\n",
    "\n",
    "fig, ax = plt.subplots(\n",
    "    1, 1, figsize=(2.5, 1.25))\n",
    "\n",
    "dec_x, dec_signal = decimatedata(\n",
    "    np.arange(len(binding_signal)), binding_signal, np.max, decimation_n)\n",
    "linePlot(dec_x, dec_signal, ax, lw=0.75, c='k', solid_capstyle='butt')\n",
    "ax.set_ylabel('gDNA enrichment\\n(+ slfR : - slfR)')\n",
    "ax.set_xlabel('Mtb chromosome (megabases)')\n",
    "sns.despine()\n",
    "\n",
    "plt.savefig(\n",
    "    f'{output_dir}/{output_name}', format='pdf', bbox_inches='tight', dpi=300)"
   ]
  },
  {
   "cell_type": "markdown",
   "id": "670e1a7e-365e-4bc7-bce0-733530d24e1b",
   "metadata": {
    "jp-MarkdownHeadingCollapsed": true
   },
   "source": [
    "# Binding Motif"
   ]
  },
  {
   "cell_type": "code",
   "execution_count": 18,
   "id": "7c21e0e9-055f-4892-8a06-629165cf7912",
   "metadata": {},
   "outputs": [],
   "source": [
    "# load in peak table\n",
    "top_peaks = pd.read_csv(\n",
    "    'outputs/tables/TableS4_slfR_binding_peaks.csv', index_col=0)"
   ]
  },
  {
   "cell_type": "code",
   "execution_count": 19,
   "id": "09fea398-967b-4588-a0d1-5f7ad6103da2",
   "metadata": {
    "scrolled": true
   },
   "outputs": [
    {
     "name": "stderr",
     "output_type": "stream",
     "text": [
      "Writing results to output directory 'outputs/figures/S4A_slfR_meme_outputs'.\n",
      "BACKGROUND: using background model of order 0\n",
      "PRIMARY (classic): n 18 p0 18 p1 0 p2 0\n",
      "SEQUENCE GROUP USAGE-- Starts/EM: p0; Trim: p0; pvalue: p0; nsites: p0,p1,p2\n",
      "SEEDS: maxwords 3618 highwater mark: seq 18 pos 193\n",
      "Initializing the motif probability tables for 4 to 36 sites...\n",
      "nsites = 36\n",
      "Done initializing.\n",
      "\n",
      "seqs=    18, min_w= 201, max_w=  201, total_size=     3618\n",
      "\n",
      "motif=1\n",
      "SEED DEPTHS: 2 4 8 16 18\n",
      "SEED WIDTHS: 8 9 11 12 15 16 21 22 29 30 41 42 50 51\n",
      "em: w=  51, psites=  18, iter=  10 Warning: Cannot convert EPS file to PNG as no install of Image Magick or Ghostscript is usable.\n",
      "Warning: Cannot convert EPS file to PNG as no install of Image Magick or Ghostscript is usable.\n",
      "\n",
      "motif=2\n",
      "SEED DEPTHS: 2 4 8 16 18\n",
      "SEED WIDTHS: 8 9 11 12 15 16 21 22 29 30 41 42 50 51\n",
      "em: w=  51, psites=  18, iter=  20 Warning: Cannot convert EPS file to PNG as no install of Image Magick or Ghostscript is usable.\n",
      "Warning: Cannot convert EPS file to PNG as no install of Image Magick or Ghostscript is usable.\n",
      "\n",
      "motif=3\n",
      "SEED DEPTHS: 2 4 8 16 18\n",
      "SEED WIDTHS: 8 9 11 12 15 16 21 22 29 30 41 42 50 51\n",
      "em: w=  51, psites=  18, iter=  20 Warning: Cannot convert EPS file to PNG as no install of Image Magick or Ghostscript is usable.\n",
      "Warning: Cannot convert EPS file to PNG as no install of Image Magick or Ghostscript is usable.\n",
      "\n"
     ]
    },
    {
     "data": {
      "text/plain": [
       "CompletedProcess(args='/Users/pculviner/meme/bin/meme -dna -mod zoops -nmotifs 3 -revcomp -pal -oc outputs/figures/S4A_slfR_meme_outputs tmp/meme_input.txt', returncode=0)"
      ]
     },
     "execution_count": 19,
     "metadata": {},
     "output_type": "execute_result"
    }
   ],
   "source": [
    "genome_path = 'datasets/Mtb_h37rv.fasta'\n",
    "meme_path = '/Users/pculviner/meme/bin/meme'\n",
    "half_width = 100\n",
    "threshold = 5\n",
    "\n",
    "\n",
    "genome_seq = SeqIO.read(\n",
    "    genome_path,\n",
    "    format='fasta').seq\n",
    "\n",
    "with open('tmp/meme_input.txt', 'w') as f:\n",
    "    for idx in top_peaks.index[top_peaks.signal > threshold]:\n",
    "        window = genome_seq[idx - half_width:idx + half_width + 1]\n",
    "        f.write(f'>peak{idx}\\n{window}\\n')\n",
    "\n",
    "subprocess.run(\n",
    "    f'{meme_path} -dna -mod zoops -nmotifs 3 -revcomp -pal -oc outputs/figures/S4A_slfR_meme_outputs tmp/meme_input.txt',\n",
    "    shell=True)"
   ]
  },
  {
   "cell_type": "markdown",
   "id": "4fe63230-55a7-448a-83f6-f222eb14920d",
   "metadata": {
    "jp-MarkdownHeadingCollapsed": true
   },
   "source": [
    "# Convert Proteomics Data to Rv indexes"
   ]
  },
  {
   "cell_type": "markdown",
   "id": "4d31f757-1344-4d73-a919-ecf1efddf7a4",
   "metadata": {},
   "source": [
    "Load and mask proteomics data"
   ]
  },
  {
   "cell_type": "code",
   "execution_count": 21,
   "id": "c75e9404-8a07-4893-9346-6d9fe87fddaa",
   "metadata": {},
   "outputs": [],
   "source": [
    "proteomics_data = pd.read_csv(\n",
    "    f'datasets/240816_protein_pellets_42c.csv',\n",
    "    header=[0, 1, 2, 3, 4], index_col=[0, 1])\n",
    "\n",
    "# mask duplicate genes\n",
    "gene, count = np.unique(\n",
    "    proteomics_data.index.get_level_values('Genes'),\n",
    "    return_counts=True)\n",
    "duplicate_mask = np.isin(\n",
    "    proteomics_data.index.get_level_values('Genes'), gene[count != 1])\n",
    "\n",
    "# mask ambiguous genes\n",
    "ambiguous_mask = proteomics_data.index.get_level_values(\n",
    "    'Protein.Ids').str.count(';') != 0\n",
    "\n",
    "# mask genes that don't exist in all samples\n",
    "missing_mask = np.any(\n",
    "    np.isnan(proteomics_data), axis=1)\n",
    "\n",
    "# apply above filters\n",
    "proteomics_filtered = proteomics_data.loc[\n",
    "    ~np.any([duplicate_mask, ambiguous_mask, missing_mask], axis=0)]"
   ]
  },
  {
   "cell_type": "markdown",
   "id": "084cde72-6ac5-4ebb-b5da-34f3220a6fd3",
   "metadata": {},
   "source": [
    "Run Rv crossref to get Rv numbers"
   ]
  },
  {
   "cell_type": "code",
   "execution_count": 24,
   "id": "fdb663f0-50ab-48af-94dc-9f6c37a5356a",
   "metadata": {},
   "outputs": [
    {
     "name": "stdout",
     "output_type": "stream",
     "text": [
      "Multiple Rvs: A0A089QRB9\n",
      "Not found: I6WXS6\n",
      "Not found: L0T6I4\n",
      "Not found: L0TBP1\n",
      "Not found: L0TBY6\n",
      "Not found: O05878\n",
      "Not found: O07744\n",
      "Not found: O07788\n",
      "Not found: O53915\n",
      "Not found: O53916\n",
      "Not found: P0DMQ8\n",
      "Not found: P71834\n",
      "Not found: P71835\n",
      "Not found: P96397\n",
      "Not found: P9WH15\n",
      "Multiple Rvs: P9WHF9\n",
      "Not found: P9WIT1\n",
      "Not found: P9WKH5\n",
      "Not found: P9WL99\n",
      "Not found: Q79FG9\n",
      "Not found: V5QPS4\n"
     ]
    }
   ],
   "source": [
    "rv_xref = pd.read_csv(\n",
    "    'datasets/Rv_NCBI_Uniprot.validated.xref.csv', index_col='UniprotID')\n",
    "\n",
    "is_keep = []\n",
    "new_index = []\n",
    "i = 0\n",
    "for protein_id in proteomics_filtered.index.get_level_values('Protein.Ids'):\n",
    "    i += 1\n",
    "    try:\n",
    "        rv_ids = rv_xref.loc[[protein_id], 'RvGeneID']\n",
    "    except KeyError:\n",
    "        print('Not found:', protein_id)\n",
    "        is_keep.append(False)\n",
    "        continue\n",
    "    if len(np.unique(rv_ids)) == 1:\n",
    "        new_index.append(np.unique(rv_ids)[0])\n",
    "        is_keep.append(True)\n",
    "    else:\n",
    "        print('Multiple Rvs:', protein_id)\n",
    "        is_keep.append(False)\n",
    "\n",
    "proteomics_rv = proteomics_filtered.loc[is_keep]\n",
    "proteomics_rv.index = pd.Index(new_index, name='geneid')\n",
    "proteomics_rv.to_csv(f'datasets/240816_protein_pellets_42c.filtered.csv')"
   ]
  },
  {
   "cell_type": "markdown",
   "id": "e9e7db34-c366-4ec4-b322-5bbaabce763c",
   "metadata": {
    "jp-MarkdownHeadingCollapsed": true
   },
   "source": [
    "# Run Proteomics Z-test"
   ]
  },
  {
   "cell_type": "code",
   "execution_count": 42,
   "id": "afaca977-d4c8-44d0-81a9-0bef8556b230",
   "metadata": {},
   "outputs": [],
   "source": [
    "prot_df = np.log2(pd.read_csv(\n",
    "    f'datasets/240816_protein_pellets_42c.filtered.csv',\n",
    "    header=[0, 1, 2, 3, 4], index_col=[0]))"
   ]
  },
  {
   "cell_type": "code",
   "execution_count": 43,
   "id": "c26dd85c-9c76-47ef-99e3-989af40a4383",
   "metadata": {},
   "outputs": [],
   "source": [
    "# get replicate means\n",
    "prot_replicate_means = prot_df.T.groupby(by=['genotype', 'pair']).mean()\n",
    "\n",
    "# get group deltas\n",
    "prot_group_deltas = pd.DataFrame(\n",
    "    data=prot_replicate_means.loc[\n",
    "            pd.IndexSlice['MUT', :], :].values - \n",
    "         prot_replicate_means.loc[\n",
    "            pd.IndexSlice['WT', :], :].values,\n",
    "    columns=prot_replicate_means.columns,\n",
    "    index=['A', 'B', 'C']).T\n",
    "\n",
    "# get mean deltas\n",
    "prot_mean_deltas = prot_group_deltas.mean(1)\n",
    "\n",
    "# get z-scores\n",
    "values_0 = prot_replicate_means.loc[\n",
    "    pd.IndexSlice['MUT', :], :].values\n",
    "values_1 = prot_replicate_means.loc[\n",
    "    pd.IndexSlice['WT', :], :].values\n",
    "prot_ztest = pd.DataFrame(\n",
    "    columns=prot_df.index,\n",
    "    index=['zscore', 'pvalue'],\n",
    "    data=ztest(values_0, values_1, usevar='unequal')).T\n",
    "prot_ztest.loc[:, 'fdr_bh_pvalue'] = multipletests(\n",
    "    prot_ztest.pvalue, method='fdr_bh', alpha=0.05)[1]\n",
    "prot_ztest.loc[:, 'mean_delta'] = prot_mean_deltas\n",
    "prot_ztest.sort_values('fdr_bh_pvalue', ascending=True).to_csv('outputs/tables/TableS5_proteomics_ztest.csv')"
   ]
  },
  {
   "cell_type": "code",
   "execution_count": 44,
   "id": "6a6bc9b5-645c-42e9-a81c-6be49094c837",
   "metadata": {},
   "outputs": [
    {
     "data": {
      "image/png": "[encoded data removed]",
      "text/plain": [
       "<Figure size 450x375 with 1 Axes>"
      ]
     },
     "metadata": {},
     "output_type": "display_data"
    }
   ],
   "source": [
    "output_dir = 'outputs/figures'\n",
    "output_name = '4D_slfR_proteomics.pdf'\n",
    "\n",
    "# keep only those meeting 0.05 FDR\n",
    "plot_df = prot_ztest.copy()\n",
    "plot_df.loc[:, '-log10 alpha'] = -np.log10(plot_df.loc[:, 'fdr_bh_pvalue'])\n",
    "plot_df = plot_df.loc[plot_df.loc[:, 'fdr_bh_pvalue'] < 0.05]\n",
    "\n",
    "fig, ax = plt.subplots(1, 1, figsize=(1.5, 1.25))\n",
    "\n",
    "sns.scatterplot(\n",
    "    data=plot_df,\n",
    "    y='-log10 alpha',\n",
    "    x='mean_delta',\n",
    "    color=colors['gray'],\n",
    "    s=10,\n",
    "    legend=False)\n",
    "ax.axvline(\n",
    "    0, 0, 1, lw=0.75, color='k')\n",
    "# ax.set_yticks(\n",
    "#     [5, 10, 15, 20])\n",
    "ax.set_xticks(\n",
    "    [-1, 0, 1, 2, 3])\n",
    "ax.set_xlabel('log2 change\\nprotein abundance')\n",
    "ax.set_ylabel('-log10 FDR')\n",
    "sns.despine()\n",
    "\n",
    "plt.savefig(f'{output_dir}/{output_name}', format='pdf', bbox_inches='tight', dpi=300)"
   ]
  },
  {
   "cell_type": "markdown",
   "id": "9038349c-366f-4f7b-bcf5-ade616ee1b9c",
   "metadata": {
    "jp-MarkdownHeadingCollapsed": true
   },
   "source": [
    "# Compare Proteomics & RNA-Seq"
   ]
  },
  {
   "cell_type": "code",
   "execution_count": 2,
   "id": "a0340ad7-d33b-4c8d-a834-a438cb67c50d",
   "metadata": {},
   "outputs": [],
   "source": [
    "# load abundance data\n",
    "prot_df = np.log2(pd.read_csv(\n",
    "    f'datasets/240816_protein_pellets_42c.filtered.csv',\n",
    "    header=[0, 1, 2, 3, 4], index_col=[0]))\n",
    "\n",
    "# get replicate means\n",
    "prot_replicate_means = prot_df.T.groupby(by=['genotype', 'pair']).mean()\n",
    "\n",
    "# get group deltas\n",
    "prot_group_deltas = pd.DataFrame(\n",
    "    data=prot_replicate_means.loc[\n",
    "            pd.IndexSlice['MUT', :], :].values - \n",
    "         prot_replicate_means.loc[\n",
    "            pd.IndexSlice['WT', :], :].values,\n",
    "    columns=prot_replicate_means.columns,\n",
    "    index=['A', 'B', 'C']).T\n",
    "\n",
    "# get mean deltas\n",
    "prot_mean_deltas = prot_group_deltas.mean(1)"
   ]
  },
  {
   "cell_type": "code",
   "execution_count": 5,
   "id": "6c090b1c-9232-4f36-887f-14ee4a56b85b",
   "metadata": {},
   "outputs": [],
   "source": [
    "# load expression data\n",
    "exp_data_path = 'rnaseq/normalized_isolate_expression.csv'\n",
    "exp_df = pd.read_csv(\n",
    "    exp_data_path,\n",
    "    header=[0, 1, 2], index_col=0)\n",
    "\n",
    "rna_df = exp_df.loc[\n",
    "    :, pd.IndexSlice[:, ['g2g_030', 'vci_269', 'vci_246', 'vci_089', 'vci_569', 'vci_035'], :]]\n",
    "# convert to same labeling scheme as proteins\n",
    "rna_df.columns = prot_df.columns\n",
    "\n",
    "# get replicate means\n",
    "rna_replicate_means = rna_df.T.groupby(by=['genotype', 'pair']).mean()\n",
    "\n",
    "# get group deltas\n",
    "rna_group_deltas = pd.DataFrame(\n",
    "    data=rna_replicate_means.loc[pd.IndexSlice['MUT', :], :].values - rna_replicate_means.loc[pd.IndexSlice['WT', :], :].values,\n",
    "    columns=rna_replicate_means.columns,\n",
    "    index=['A', 'B', 'C']).T\n",
    "\n",
    "# get mean deltas\n",
    "rna_mean_deltas = rna_group_deltas.mean(1)"
   ]
  },
  {
   "cell_type": "code",
   "execution_count": 9,
   "id": "8a709070-a81c-4ee1-9fb8-dc15be3efa35",
   "metadata": {},
   "outputs": [],
   "source": [
    "target_geneids = ['Rv0830', 'Rv3825c', 'Rv3824c', 'Rv3823c']\n",
    "\n",
    "# protein bar graph dataframe\n",
    "prot_bar_df = pd.DataFrame(\n",
    "    data=[\n",
    "        target_geneids,\n",
    "        prot_mean_deltas.loc[target_geneids]],\n",
    "    index=['gene', 'mean']).T\n",
    "prot_bar_df.loc[:, 'data'] = 'protein'\n",
    "\n",
    "prot_scatter_df = prot_group_deltas.loc[target_geneids].melt(ignore_index=False).reset_index()\n",
    "prot_scatter_df.loc[:, 'data'] = 'protein'\n",
    "prot_scatter_df.columns = ['gene', 'variable', 'value', 'data']\n",
    "\n",
    "# rna bar graph dataframe\n",
    "rna_bar_df = pd.DataFrame(\n",
    "    data=[\n",
    "        target_geneids,\n",
    "        rna_mean_deltas.loc[target_geneids]],\n",
    "    index=['gene', 'mean']).T\n",
    "rna_bar_df.loc[:, 'data'] = 'rna'\n",
    "\n",
    "rna_scatter_df = rna_group_deltas.loc[target_geneids].melt(ignore_index=False).reset_index()\n",
    "rna_scatter_df.loc[:, 'data'] = 'rna'\n",
    "rna_scatter_df.columns = ['gene', 'variable', 'value', 'data']"
   ]
  },
  {
   "cell_type": "code",
   "execution_count": 14,
   "id": "4502d3e6-7c8d-4d1c-b0a4-983cd14e4ac3",
   "metadata": {},
   "outputs": [
    {
     "data": {
      "image/png": "[encoded data removed]",
      "text/plain": [
       "<Figure size 375x270 with 1 Axes>"
      ]
     },
     "metadata": {},
     "output_type": "display_data"
    }
   ],
   "source": [
    "output_dir = 'outputs/figures'\n",
    "output_name = '4E_rna_vs_proteomics.pdf'\n",
    "\n",
    "fig, ax = plt.subplots(figsize=(1.25, 0.9))\n",
    "\n",
    "sns.barplot(\n",
    "    ax=ax,\n",
    "    data=pd.concat([prot_bar_df, rna_bar_df], axis=0),\n",
    "    hue='data',\n",
    "    width=0.75,\n",
    "    lw=1,\n",
    "    edgecolor='k',\n",
    "    y='mean',\n",
    "    x='gene',\n",
    "    palette={'protein': colors['lred'], 'rna': colors['lblue']},\n",
    "    orient='x',\n",
    "    legend=False)\n",
    "\n",
    "sns.stripplot(\n",
    "    ax=ax,\n",
    "    hue='data',\n",
    "    data=pd.concat([prot_scatter_df, rna_scatter_df], axis=0),\n",
    "    dodge=True,\n",
    "    y='value',\n",
    "    x='gene',\n",
    "    palette={'protein': colors['dred'], 'rna': colors['dblue']},\n",
    "    size=3,\n",
    "    legend=False)\n",
    "\n",
    "ax.set_ylabel('log2 slfR\\nmut : ancestral')\n",
    "ax.set_xlabel('')\n",
    "\n",
    "\n",
    "plt.xticks(rotation=45)\n",
    "ax.set_yticks([0, 1, 2, 3, 4])\n",
    "sns.despine()\n",
    "\n",
    "plt.savefig(f'{output_dir}/{output_name}', format='pdf', bbox_inches='tight', dpi=400)"
   ]
  }
 ],
 "metadata": {
  "kernelspec": {
   "display_name": "general_py",
   "language": "python",
   "name": "general_py"
  },
  "language_info": {
   "codemirror_mode": {
    "name": "ipython",
    "version": 3
   },
   "file_extension": ".py",
   "mimetype": "text/x-python",
   "name": "python",
   "nbconvert_exporter": "python",
   "pygments_lexer": "ipython3",
   "version": "3.12.8"
  }
 },
 "nbformat": 4,
 "nbformat_minor": 5
}
